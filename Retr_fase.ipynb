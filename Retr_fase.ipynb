{
 "cells": [
  {
   "cell_type": "markdown",
   "id": "420cd6d7",
   "metadata": {},
   "source": [
    "<img src=\"Imagenes/Mac_wallpaper_3.png\" width=\"50%\">"
   ]
  },
  {
   "cell_type": "code",
   "execution_count": null,
   "id": "6bfe5cd2",
   "metadata": {},
   "outputs": [],
   "source": [
    "!pip install \"qiskit[visualization]\" --user"
   ]
  },
  {
   "cell_type": "code",
   "execution_count": null,
   "id": "928a7b87",
   "metadata": {},
   "outputs": [],
   "source": [
    "!pip install qiskit-aer --user"
   ]
  },
  {
   "cell_type": "markdown",
   "id": "c91d4f25",
   "metadata": {},
   "source": [
    "# Retroceso de fase"
   ]
  },
  {
   "cell_type": "markdown",
   "id": "6e056724",
   "metadata": {},
   "source": [
    "Como vimos en el notebook anterior, podemos utilizar una compuerta CNOT para crear entrelazamiento entre dos qubits cuando uno de ellos se encuentra en superposición. Ahora nos hacemos la pregunta ¿Qué pasaría si ambos qubits están en superposición? ¿La compuerta CNOT tendrá algún efecto interesante? Bueno, empecemos evaluando el siguiente estado"
   ]
  },
  {
   "cell_type": "markdown",
   "id": "bc284f21",
   "metadata": {},
   "source": [
    "$\\hspace{9 cm} |++\\rangle = \\dfrac{1}{2}(|00\\rangle + |01\\rangle + |10\\rangle + |11\\rangle)$"
   ]
  },
  {
   "cell_type": "markdown",
   "id": "893a3189",
   "metadata": {},
   "source": [
    "Si ahora le aplicamos una compuerta CNOT, es fácil ver que sin importar qué qubit escojamos como el control, el estado no cambia en absoluto. Esto lo podemos comprobar con el simulador."
   ]
  },
  {
   "cell_type": "code",
   "execution_count": null,
   "id": "f1082941",
   "metadata": {},
   "outputs": [],
   "source": [
    "from qiskit import QuantumCircuit, execute, Aer\n",
    "from qiskit.visualization import plot_bloch_multivector, array_to_latex\n",
    "\n",
    "qc = QuantumCircuit(2)\n",
    "\n",
    "qc.h(0)\n",
    "qc.h(1)\n",
    "\n",
    "job = execute(qc,Aer.get_backend('statevector_simulator'),optimization_level=0)\n",
    "precision = 3 \n",
    "vector_estado = job.result().get_statevector(qc,precision).data\n",
    "\n",
    "display(array_to_latex(vector_estado, prefix=\"|++\\\\rangle =\"))"
   ]
  },
  {
   "cell_type": "code",
   "execution_count": null,
   "id": "11d05fbb",
   "metadata": {},
   "outputs": [],
   "source": [
    "qc = QuantumCircuit(2)\n",
    "\n",
    "qc.h(0)\n",
    "qc.h(1)\n",
    "\n",
    "qc.cx(0,1)\n",
    "\n",
    "job = execute(qc,Aer.get_backend('statevector_simulator'),optimization_level=0)\n",
    "precision = 3 \n",
    "vector_estado = job.result().get_statevector(qc,precision).data\n",
    "\n",
    "display(array_to_latex(vector_estado))"
   ]
  },
  {
   "cell_type": "markdown",
   "id": "406e43f8",
   "metadata": {},
   "source": [
    "Ahora, hagamos que uno de los qubits se encuentre en el estado $|-\\rangle$:"
   ]
  },
  {
   "cell_type": "markdown",
   "id": "156a2e33",
   "metadata": {},
   "source": [
    "$\\hspace{9 cm} |+-\\rangle = \\dfrac{1}{2}(|00\\rangle - |01\\rangle + |10\\rangle - |11\\rangle)$"
   ]
  },
  {
   "cell_type": "markdown",
   "id": "6c86d50f",
   "metadata": {},
   "source": [
    "Si ahora aplicamos una compuerta CNOT tomando al qubit en el estado $|-\\rangle$ como el objetivo (es decir, el qubit sobre el que se aplica la compuerta NOT) vemos que nuestro estado se convierte en"
   ]
  },
  {
   "cell_type": "markdown",
   "id": "5d4156ca",
   "metadata": {},
   "source": [
    "$\\hspace{8 cm} CNOT|+-\\rangle = \\dfrac{1}{2}(|00\\rangle - |01\\rangle + |11\\rangle - |10\\rangle)$"
   ]
  },
  {
   "cell_type": "markdown",
   "id": "2eb43ed5",
   "metadata": {},
   "source": [
    "Notamos que los estados $|11\\rangle$ y $|10\\rangle$ intercambiaron sus fases. Ahora, intentemos reescribir este nuevo estado completo como el producto tensorial de los estados individuales de nuestros qubits para ver qué efecto tuvo este cambio. "
   ]
  },
  {
   "cell_type": "markdown",
   "id": "831c0aea",
   "metadata": {},
   "source": [
    "$\\hspace{3 cm} \\dfrac{1}{2}(|00\\rangle - |01\\rangle + |11\\rangle - |10\\rangle) = \\dfrac{1}{2}[|0\\rangle(|0\\rangle - |1\\rangle) - |1\\rangle(|0\\rangle - |1\\rangle)] = \\dfrac{1}{2}(|0\\rangle - |1\\rangle)\\otimes(|0\\rangle - |1\\rangle) = |--\\rangle$"
   ]
  },
  {
   "cell_type": "markdown",
   "id": "41f4d32a",
   "metadata": {},
   "source": [
    "¡Alteramos el estado del qubit control! A pesar de que fue sobre el qubit en el estado $|-\\rangle$ que aplicamos la compuerta NOT, el resultado fue alterar el estado del qubit $|+\\rangle$, cambiándolo al estado $|-\\rangle$, mientras que el estado de nuestro qubit objetivo se mantuvo intacto."
   ]
  },
  {
   "cell_type": "code",
   "execution_count": null,
   "id": "43239156",
   "metadata": {},
   "outputs": [],
   "source": [
    "qc = QuantumCircuit(2)\n",
    "\n",
    "qc.x(0)\n",
    "qc.h(0)\n",
    "qc.h(1)\n",
    "\n",
    "job = execute(qc,Aer.get_backend('statevector_simulator'),optimization_level=0)\n",
    "precision = 3 \n",
    "vector_estado = job.result().get_statevector(qc,precision).data\n",
    "\n",
    "display(array_to_latex(vector_estado, prefix=\"|+-\\\\rangle =\"))\n",
    "plot_bloch_multivector(vector_estado,reverse_bits=True)"
   ]
  },
  {
   "cell_type": "code",
   "execution_count": null,
   "id": "9247a6d8",
   "metadata": {},
   "outputs": [],
   "source": [
    "qc = QuantumCircuit(2)\n",
    "\n",
    "qc.x(0)\n",
    "qc.h(0)\n",
    "qc.h(1)\n",
    "\n",
    "qc.cx(1,0)\n",
    "\n",
    "job = execute(qc,Aer.get_backend('statevector_simulator'),optimization_level=0)\n",
    "precision = 3 \n",
    "vector_estado = job.result().get_statevector(qc,precision).data\n",
    "\n",
    "display(array_to_latex(vector_estado))\n",
    "plot_bloch_multivector(vector_estado,reverse_bits=True)"
   ]
  },
  {
   "cell_type": "markdown",
   "id": "7ee69100",
   "metadata": {},
   "source": [
    "Este fenómeno se conoce como **Retroceso de fase** (*Phase Kickback* en inglés), pues de cierta forma se ha convertido el efecto de la compuerta NOT sobre el qubit objetivo en un cambio de fase local que luego se \"retrocede\" al qubit control (recordemos que la diferencia entre los estados $|+\\rangle$ y $|-\\rangle$ es su fase local)."
   ]
  },
  {
   "cell_type": "markdown",
   "id": "444bf35e",
   "metadata": {},
   "source": [
    "La importancia del retroceso de fase radica en que es un recurso muy utilizado en diversos algoritmos cuánticos."
   ]
  },
  {
   "cell_type": "markdown",
   "id": "889ae994",
   "metadata": {},
   "source": [
    "### Invertir una compuerta CNOT"
   ]
  },
  {
   "cell_type": "markdown",
   "id": "6d469e6b",
   "metadata": {},
   "source": [
    "Continuando con lo que hemos visto, y como un ejemplo de la utilidad del retroceso de fase, vamos a ver cómo podemos usar dicho recurso para invertir una compuerta CNOT. "
   ]
  },
  {
   "cell_type": "markdown",
   "id": "eb35cdb7",
   "metadata": {},
   "source": [
    "Con invertir, nos referimos a intercambiar el qubit control con el qubit objetivo. Es decir, convertir una compuerta `.cx(i,j)` en una compuerta `.cx(j,i)`."
   ]
  },
  {
   "cell_type": "markdown",
   "id": "6f03ebdc",
   "metadata": {},
   "source": [
    "El ejemplo que vimos anteriormente nos puede ayudar a vislumbrar una forma de lograr esto. Como pudimos ver, si aplicamos una compuerta CNOT al estado $|+-\\rangle$ usando al qubit $q_{0}$ como el objetivo obtenemos el estado $|--\\rangle$. Ahora, apliquemos una compuerta Hadamard a ambos estados, recordando que dicha compuerta es su propio inverso"
   ]
  },
  {
   "cell_type": "markdown",
   "id": "e7a3490e",
   "metadata": {},
   "source": [
    "$\\hspace{10 cm}H_{1}H_{0}|--\\rangle = |11\\rangle$"
   ]
  },
  {
   "cell_type": "markdown",
   "id": "5c57d89e",
   "metadata": {},
   "source": [
    "Y si recordamos cómo obtener el estado $|+-\\rangle$ utilizando compuertas Hadamard, podemos ver el estado inicial de nuestros qubits"
   ]
  },
  {
   "cell_type": "markdown",
   "id": "0a2808a9",
   "metadata": {},
   "source": [
    "$\\hspace{10 cm}H_{1}H_{0}|01\\rangle = |+-\\rangle$"
   ]
  },
  {
   "cell_type": "markdown",
   "id": "5f34a3f8",
   "metadata": {},
   "source": [
    "Juntando todas estas operaciones, notamos que nuestro input es el estado $|01\\rangle$ y nuestro output es el estado $|11\\rangle$ ¡Nuestro circuito completo aplica una compuerta CNOT que utiliza el qubit $q_{1}$ como el objetivo!"
   ]
  },
  {
   "cell_type": "markdown",
   "id": "72af7124",
   "metadata": {},
   "source": [
    "Y esto se puede probar para los otros cuatro estados restantes, de maner que colocar compuertas Hadamard antes y después de una compuerta CNOT invierte la dirección en la que esta se aplica. Usemos el simulador para comprobarlo, imprimiendo el operador completo que actúa sobre el circuito en ambos casos."
   ]
  },
  {
   "cell_type": "code",
   "execution_count": null,
   "id": "0e56dde3",
   "metadata": {},
   "outputs": [],
   "source": [
    "qc = QuantumCircuit(2)\n",
    "\n",
    "qc.h(0)\n",
    "qc.h(1)\n",
    "\n",
    "#Compuerta CNOT que utiliza el qubit q_1 como el objetivo\n",
    "qc.cx(0,1)\n",
    "\n",
    "qc.h(0)\n",
    "qc.h(1)\n",
    "\n",
    "qc.draw(output=\"mpl\")"
   ]
  },
  {
   "cell_type": "code",
   "execution_count": null,
   "id": "06068d93",
   "metadata": {},
   "outputs": [],
   "source": [
    "job = execute(qc,Aer.get_backend('unitary_simulator'),optimization_level=0)\n",
    "precision = 3 \n",
    "vector_estado = job.result().get_unitary(qc,precision).data\n",
    "\n",
    "display(array_to_latex(vector_estado, prefix=\"Operador =\"))"
   ]
  },
  {
   "cell_type": "code",
   "execution_count": null,
   "id": "aa564904",
   "metadata": {},
   "outputs": [],
   "source": [
    "qc = QuantumCircuit(2)\n",
    "\n",
    "#Compuerta CNOT que utiliza el qubit q_0 como el objetivo\n",
    "qc.cx(1,0)\n",
    "\n",
    "qc.draw(output=\"mpl\")"
   ]
  },
  {
   "cell_type": "code",
   "execution_count": null,
   "id": "cda1b9ea",
   "metadata": {},
   "outputs": [],
   "source": [
    "job = execute(qc,Aer.get_backend('unitary_simulator'),optimization_level=0)\n",
    "precision = 3 \n",
    "vector_estado = job.result().get_unitary(qc,precision).data\n",
    "\n",
    "display(array_to_latex(vector_estado, prefix=\"Operador =\"))"
   ]
  },
  {
   "cell_type": "markdown",
   "id": "e228f2d2",
   "metadata": {},
   "source": [
    "Esta igualdad resulta muy útil cuando queremos ejecutar un circuito en una unidad de hardware que solo permite aplicar compuertas CNOT en una dirección, pues nos permite aplicar compuertas CNOT en ambas direcciones."
   ]
  }
 ],
 "metadata": {
  "kernelspec": {
   "display_name": "Python 3 (ipykernel)",
   "language": "python",
   "name": "python3"
  },
  "language_info": {
   "codemirror_mode": {
    "name": "ipython",
    "version": 3
   },
   "file_extension": ".py",
   "mimetype": "text/x-python",
   "name": "python",
   "nbconvert_exporter": "python",
   "pygments_lexer": "ipython3",
   "version": "3.10.9"
  }
 },
 "nbformat": 4,
 "nbformat_minor": 5
}
