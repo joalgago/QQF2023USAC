{
 "cells": [
  {
   "cell_type": "markdown",
   "id": "a7238821",
   "metadata": {},
   "source": [
    "<img src=\"Imagenes/Mac_wallpaper_3.png\" width=\"50%\">"
   ]
  },
  {
   "cell_type": "markdown",
   "id": "f167a870",
   "metadata": {},
   "source": [
    "**Autor: José A. García**\n",
    "\n",
    "---\n",
    "\n",
    "*Nota: Este notebook está diseñado para funcionar con qiskit 0.48, por lo que no está garantizado que funcione en versiones superiores a la 1.0*"
   ]
  },
  {
   "cell_type": "code",
   "execution_count": null,
   "id": "6bfe5cd2",
   "metadata": {},
   "outputs": [],
   "source": [
    "!pip install \"qiskit[visualization]\" --user"
   ]
  },
  {
   "cell_type": "code",
   "execution_count": null,
   "id": "0fe2a72d",
   "metadata": {},
   "outputs": [],
   "source": [
    "!pip install qiskit-aer --user"
   ]
  },
  {
   "cell_type": "markdown",
   "id": "5bc8b178",
   "metadata": {},
   "source": [
    "# Teletransportación Cuántica"
   ]
  },
  {
   "cell_type": "markdown",
   "id": "e7631db9",
   "metadata": {},
   "source": [
    "Si bien el nombre \"teletransportación\" nos hace pensar casi de de inmediato en transmitir materia de un lugar a otro de manera instantánea, la teletransportación cuántica es más bien un método de \"pasar\" el estado de un qubit a otro, hablando a grandes rasgos."
   ]
  },
  {
   "cell_type": "markdown",
   "id": "b22ec378",
   "metadata": {},
   "source": [
    "### Escenario"
   ]
  },
  {
   "cell_type": "markdown",
   "id": "41b6e7a0",
   "metadata": {},
   "source": [
    "Supongamos que Alice quiere enviarle el estado de un qubit a Bob. Esto puede parecer trivial si el qubit de Alice se encuentra en alguno de los estados base, pues todo lo que tiene que hacer es decirle a Bob en qué estado se encuentra su qubit. Es por ello que vamos a tomar en cuenta que el qubit de Alice se encuentra en el estado más general de un qubit:"
   ]
  },
  {
   "cell_type": "markdown",
   "id": "d21d3c9c",
   "metadata": {},
   "source": [
    "$\\hspace{9 cm} |A\\rangle = a|0\\rangle + b|1\\rangle \\hspace{0.5cm}$ donde $\\hspace{0.5 cm} a,b \\in \\mathbb{C}$"
   ]
  },
  {
   "cell_type": "markdown",
   "id": "789fbb29",
   "metadata": {},
   "source": [
    "Si Alice quiere enviarle el estado del qubit $|A\\rangle$ tal cual a Bob, buscando perder la menor cantidad posible de información, deberá hacer varias copias de su qubit y medirlos todos para aproximar el valor de $a$ y $b$ usando las estadísticas de sus mediciones. La cantidad de copias que haga de su qubit dependerá de qué tan precisa quiere que sea su \"medición\" de $a$ y $b$."
   ]
  },
  {
   "cell_type": "markdown",
   "id": "96cff236",
   "metadata": {},
   "source": [
    "Es aquí donde el protocolo de teletransportación cuántica le permite a Alice mandarle el estado de su qubit a un qubit que Bob posea, al costo de \"destruir\" su propio qubit. Es decir, al final de este protocolo Bob tendrá un qubit con el mismo estado que el qubit que Alice quería enviarle, pero su qubit ya no se encontrará en el estado inicial. Esto se consigue por medio del entrelazamiento."
   ]
  },
  {
   "cell_type": "markdown",
   "id": "b8e2df5e",
   "metadata": {},
   "source": [
    "### Paso 1: Estado inicial"
   ]
  },
  {
   "cell_type": "markdown",
   "id": "df4e1147",
   "metadata": {},
   "source": [
    "Para comenzar, necesitamos de tres qubits: el qubit que Alice quiere enviarle a Bob y un par de qubits entrelazados. Bob y Alice tendrán un qubit cada uno de dicho par."
   ]
  },
  {
   "cell_type": "markdown",
   "id": "f66df231",
   "metadata": {},
   "source": [
    "Entonces, $q_{0}$ y $q_{1}$ serán el par de qubits entrelazados y $q_{2}$ el qubit que Alice quiere enviar. Al igual que en el caso de codificación superdensa, empezaremos entrelazando un par de qubits utilizando uno de los estados de Bell:"
   ]
  },
  {
   "cell_type": "markdown",
   "id": "15176e72",
   "metadata": {},
   "source": [
    "$\\hspace{11 cm} \\dfrac{1}{\\sqrt{2}}(|00\\rangle + |11\\rangle)$"
   ]
  },
  {
   "cell_type": "markdown",
   "id": "4da32fb5",
   "metadata": {},
   "source": [
    "Por lo que el sistema completo (con los tres qubits) se encuentra inicialmente en el estado"
   ]
  },
  {
   "cell_type": "markdown",
   "id": "325aa6c3",
   "metadata": {},
   "source": [
    "$\\hspace{5 cm} (a|0\\rangle + b|1\\rangle)\\otimes\\left(\\dfrac{1}{\\sqrt{2}}|00\\rangle + \\dfrac{1}{\\sqrt{2}}|11\\rangle\\right) = \\dfrac{1}{\\sqrt{2}}(a|000\\rangle + a|011\\rangle + b|100\\rangle + b|111\\rangle)$"
   ]
  },
  {
   "cell_type": "code",
   "execution_count": null,
   "id": "afa5a7da",
   "metadata": {},
   "outputs": [],
   "source": [
    "from qiskit import QuantumCircuit\n",
    "\n",
    "qc = QuantumCircuit(3)\n",
    "\n",
    "qc.h(0)\n",
    "qc.cx(0,1)\n",
    "\n",
    "qc.draw(output=\"mpl\")"
   ]
  },
  {
   "cell_type": "markdown",
   "id": "e8a2678f",
   "metadata": {},
   "source": [
    "### Paso 2: Operaciones de Alice"
   ]
  },
  {
   "cell_type": "markdown",
   "id": "65365636",
   "metadata": {},
   "source": [
    "Ya con nuestro estado inicial, le damos el qubit $q_{1}$ a Alice y el qubit $q_{0}$ a Bob. Ya con sus dos qubits, Alice debe realizar dos operaciones: la primera es aplicar una compuerta CNOT, tomando al qubit $q_{2}$ como el control y al qubit $q_{1}$ como el objetivo. De esta manera, el nuevo estado del sistema es"
   ]
  },
  {
   "cell_type": "markdown",
   "id": "c52b9cdc",
   "metadata": {},
   "source": [
    "$\\hspace{8 cm} \\dfrac{1}{\\sqrt{2}}(a|000\\rangle + a|011\\rangle + b|110\\rangle + b|101\\rangle)$"
   ]
  },
  {
   "cell_type": "markdown",
   "id": "7eebee82",
   "metadata": {},
   "source": [
    "Luego, debe aplicar una compuerta Hadamard a $q_{2}$. De esta manera, el estado del sistema se convierte en"
   ]
  },
  {
   "cell_type": "markdown",
   "id": "d18f7241",
   "metadata": {},
   "source": [
    "$\\dfrac{1}{2}(a|000\\rangle + a|100\\rangle + a|011\\rangle + a|111\\rangle + b|010\\rangle - b|110\\rangle + b|001\\rangle - b|101\\rangle) = \\hspace{10 cm} \\dfrac{1}{2}[|00\\rangle(a|0\\rangle + b|1\\rangle)+|01\\rangle(a|1\\rangle + b|0\\rangle)+|10\\rangle(a|0\\rangle-b|1\\rangle)+|11\\rangle(a|1\\rangle-b|0\\rangle)]$"
   ]
  },
  {
   "cell_type": "markdown",
   "id": "2701bbda",
   "metadata": {},
   "source": [
    "Ahora, todo lo que resta por hacer en el lado de Alice es medir sus dos qubits y mandarle a Bob los dos bits que obtendrá como resultado de su medición. "
   ]
  },
  {
   "cell_type": "code",
   "execution_count": null,
   "id": "aeffd2fd",
   "metadata": {},
   "outputs": [],
   "source": [
    "from qiskit import QuantumRegister, ClassicalRegister\n",
    "\n",
    "#Declaramos nuestros qubits y bits por separado, para que sea más fácil identificarlos dentro de los métodos\n",
    "q = QuantumRegister(3)\n",
    "c = ClassicalRegister(2)\n",
    "\n",
    "qc = QuantumCircuit(q,c)\n",
    "\n",
    "qc.h(q[0])\n",
    "qc.cx(q[0],q[1])\n",
    "qc.barrier()\n",
    "\n",
    "qc.cx(q[2],q[1])\n",
    "qc.h(q[2])\n",
    "qc.measure(q[2],c[1])\n",
    "qc.measure(q[1],c[0])\n",
    "\n",
    "qc.draw(output=\"mpl\")"
   ]
  },
  {
   "cell_type": "markdown",
   "id": "f352ca81",
   "metadata": {},
   "source": [
    "### Paso 3: Procesamiento de Bob"
   ]
  },
  {
   "cell_type": "markdown",
   "id": "6c894259",
   "metadata": {},
   "source": [
    "Al momento en que Alice mida sus dos qubits, el estado del sistema completo colapsará a una de cuatro posibilidades. Entonces, al momento en que Bob reciba los dos bits de Alice (resultado de su medición) su qubit se encontrará en uno de cuatro posibles estados:"
   ]
  },
  {
   "cell_type": "markdown",
   "id": "e598ea68",
   "metadata": {},
   "source": [
    "| Medición de Alice | Qubit de Bob |\n",
    "| :---: | :---: |\n",
    "| 00 | $a|0\\rangle + b|1\\rangle$ |\n",
    "| 01 | $a|1\\rangle + b|0\\rangle$ |\n",
    "| 10 | $a|0\\rangle - b|1\\rangle$ |\n",
    "| 11 | $a|1\\rangle - b|0\\rangle$ |"
   ]
  },
  {
   "cell_type": "markdown",
   "id": "a71ec532",
   "metadata": {},
   "source": [
    "De esta forma, vemos que para que el qubit de Bob termine en el mismo estado que el qubit que Alice quiere enviarle, este debe hacer las siguientes operaciones:"
   ]
  },
  {
   "cell_type": "markdown",
   "id": "9ac85803",
   "metadata": {},
   "source": [
    "- Si Alice manda 00 $\\rightarrow$ Bob no hace nada\n",
    "- Si Alice manda 01 $\\rightarrow$ Bob aplica una compuerta X\n",
    "- Si Alice manda 10 $\\rightarrow$ Bob aplica una compuerta Z\n",
    "- Si Alice manda 11 $\\rightarrow$ Bob aplica primero una compuerta X y luego una compuerta Z"
   ]
  },
  {
   "cell_type": "markdown",
   "id": "3cfab84a",
   "metadata": {},
   "source": [
    "De esta forma vemos que, sin importar cuál de los cuatro estados mida Alice (cada uno tiene 25% de probabilidades de ser medido), Bob siempre terminará con el estado que ella le quería enviar."
   ]
  },
  {
   "cell_type": "markdown",
   "id": "af49fa62",
   "metadata": {},
   "source": [
    "Para aplicar condicionales sobre nuestro circuito podemos usar el métod `.c_if(bit,valor)` donde *bit* es el nombre del bit que queremos revisar y *valor* es el valor binario que estamos buscando. <br>\n",
    "Por ejemplo, si escribo la línea `qc.x(q[0]).c_if(c[0],1)` le estoy indicando al programa que aplique una compuerta $X$ al qubit $q_{0}$ si el bit $0$ tiene el valor $1$. Esto solo se puede utilizar con los bits clásicos, por lo que es necesario hacer una medición antes de poder emplearlo."
   ]
  },
  {
   "cell_type": "code",
   "execution_count": null,
   "id": "51ade6cc",
   "metadata": {},
   "outputs": [],
   "source": [
    "q = QuantumRegister(3)\n",
    "c = ClassicalRegister(2)\n",
    "\n",
    "qc = QuantumCircuit(q,c)\n",
    "\n",
    "qc.h(q[0])\n",
    "qc.cx(q[0],q[1])\n",
    "qc.barrier()\n",
    "\n",
    "qc.cx(q[2],q[1])\n",
    "qc.h(q[2])\n",
    "qc.measure(q[2],c[1])\n",
    "qc.measure(q[1],c[0])\n",
    "qc.barrier()\n",
    "\n",
    "#Aplicamos las compuertas según sea el caso\n",
    "qc.x(q[0]).c_if(c[0],1)\n",
    "qc.z(q[0]).c_if(c[1],1)\n",
    "\n",
    "qc.draw(output=\"mpl\")"
   ]
  },
  {
   "cell_type": "markdown",
   "id": "134b97b5",
   "metadata": {},
   "source": [
    "### Utilizar el protocolo completo"
   ]
  },
  {
   "cell_type": "markdown",
   "id": "3bfc106a",
   "metadata": {},
   "source": [
    "Ahora que ya tenemos el protocolo completo, vamos a ponerlo a prueba. Para ello, vamos a inicializar el qubit de Alice en un estado aleatorio y vamos a utilizar la esfera de Bloch para asegurarnos de que el estado de su qubit se transportó correctamente al qubit de Bob."
   ]
  },
  {
   "cell_type": "code",
   "execution_count": null,
   "id": "99776821",
   "metadata": {},
   "outputs": [],
   "source": [
    "from qiskit.visualization import plot_bloch_multivector, array_to_latex\n",
    "from qiskit.quantum_info import random_statevector\n",
    "\n",
    "#Generamos un vector de estado aleatorio\n",
    "psi = random_statevector(2)\n",
    "\n",
    "#Imprimimos su vector de estado utilizando LATEX, para que sea más sencillo leerlo\n",
    "display(array_to_latex(psi, prefix=\"|\\\\psi\\\\rangle =\"))\n",
    "\n",
    "#Graficamos el estado en la esfera de Bloch\n",
    "plot_bloch_multivector(psi)"
   ]
  },
  {
   "cell_type": "code",
   "execution_count": null,
   "id": "47944441",
   "metadata": {},
   "outputs": [],
   "source": [
    "q = QuantumRegister(3)\n",
    "c = ClassicalRegister(2)\n",
    "\n",
    "qc = QuantumCircuit(q,c)\n",
    "\n",
    "#Inicializamos el qubit de Alice en el estado |psi> que generamos\n",
    "qc.initialize(psi,q[2])\n",
    "\n",
    "#Aplicamos el protocolo de teletransportación\n",
    "qc.h(q[0])\n",
    "qc.cx(q[0],q[1])\n",
    "qc.barrier()\n",
    "\n",
    "qc.cx(q[2],q[1])\n",
    "qc.h(q[2])\n",
    "qc.measure(q[2],c[1])\n",
    "qc.measure(q[1],c[0])\n",
    "qc.barrier()\n",
    "\n",
    "qc.x(q[0]).c_if(c[0],1)\n",
    "qc.z(q[0]).c_if(c[1],1)"
   ]
  },
  {
   "cell_type": "code",
   "execution_count": null,
   "id": "cf67f3f1",
   "metadata": {},
   "outputs": [],
   "source": [
    "job = execute(qc,Aer.get_backend('statevector_simulator'),optimization_level=0)\n",
    "precision = 3 \n",
    "vector_estado = job.result().get_statevector(qc,precision).data\n",
    "#Graficamos el estado de los tres qubits en tres esferas de Bloch distintas, una para cada qubit\n",
    "#Utilizamos el método reverse_bits=True para que las esferas de Bloch se muestren utilizando el mismo orden que Qiskit\n",
    "plot_bloch_multivector(vector_estado,reverse_bits=True)"
   ]
  },
  {
   "cell_type": "markdown",
   "id": "3bfa3a9e",
   "metadata": {},
   "source": [
    "Como puedes ver, los dos qubits de Alice terminan en uno de los dos estados base mientras que el qubit de Bob se encuentra en el estado que Alice quería enviarle."
   ]
  },
  {
   "cell_type": "markdown",
   "id": "5701c518",
   "metadata": {},
   "source": [
    "Este protocolo es similar al de codificación superdensa, con la diferencia de que mientras en ese protocolo usábamos un qubit para transmitir dos bits de información, aquí utilizamos dos bits de información para transmitir el estado de un qubit."
   ]
  }
 ],
 "metadata": {
  "kernelspec": {
   "display_name": "Python 3 (ipykernel)",
   "language": "python",
   "name": "python3"
  },
  "language_info": {
   "codemirror_mode": {
    "name": "ipython",
    "version": 3
   },
   "file_extension": ".py",
   "mimetype": "text/x-python",
   "name": "python",
   "nbconvert_exporter": "python",
   "pygments_lexer": "ipython3",
   "version": "3.11.7"
  }
 },
 "nbformat": 4,
 "nbformat_minor": 5
}
