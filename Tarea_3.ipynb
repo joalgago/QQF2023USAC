{
 "cells": [
  {
   "cell_type": "markdown",
   "id": "aee2bacb",
   "metadata": {},
   "source": [
    "<img src=\"Imagenes/Mac_wallpaper_3.png\" width=\"50%\">"
   ]
  },
  {
   "cell_type": "markdown",
   "id": "c77d67db",
   "metadata": {},
   "source": [
    "**Autor: José A. García**\n",
    "\n",
    "---\n",
    "\n",
    "*Nota: Este notebook está diseñado para funcionar con qiskit 0.48, por lo que no está garantizado que funcione en versiones superiores a la 1.0*"
   ]
  },
  {
   "cell_type": "code",
   "execution_count": null,
   "id": "6bfe5cd2",
   "metadata": {},
   "outputs": [],
   "source": [
    "!pip install \"qiskit[visualization]\" --user"
   ]
  },
  {
   "cell_type": "code",
   "execution_count": null,
   "id": "0fe2a72d",
   "metadata": {},
   "outputs": [],
   "source": [
    "!pip install qiskit-aer --user"
   ]
  },
  {
   "cell_type": "markdown",
   "id": "2267c296",
   "metadata": {},
   "source": [
    "# Tarea 3"
   ]
  },
  {
   "cell_type": "markdown",
   "id": "e0085e89",
   "metadata": {},
   "source": [
    "### Búsqueda de Grover (4 pts.)"
   ]
  },
  {
   "cell_type": "markdown",
   "id": "dbaa39d2",
   "metadata": {},
   "source": [
    "#### Inciso a (2 pts.)"
   ]
  },
  {
   "cell_type": "markdown",
   "id": "cc752aab",
   "metadata": {},
   "source": [
    "Implementa una función `oracle01` que marque el estado $|010\\rangle$. Dicha función tiene como input un circuito cuántico `qc` y no regresa nada."
   ]
  },
  {
   "cell_type": "code",
   "execution_count": null,
   "id": "597ffda9",
   "metadata": {},
   "outputs": [],
   "source": [
    "from qiskit import QuantumCircuit, execute, Aer\n",
    "from qiskit.visualization import array_to_latex\n",
    "\n",
    "def oracle01(qc):\n",
    "    \n",
    "    #ESCRIBE TU CÓDIGO AQUÍ"
   ]
  },
  {
   "cell_type": "markdown",
   "id": "b12e7df7",
   "metadata": {},
   "source": [
    "Para verificar que tu función realiza lo que se pide, puedes utilizar el simulador de vectores de estado que se provee a continuación,"
   ]
  },
  {
   "cell_type": "code",
   "execution_count": null,
   "id": "2c51b7a2",
   "metadata": {},
   "outputs": [],
   "source": [
    "estados = [\"000\",\"001\",\"010\",\"011\",\"100\",\"101\",\"110\",\"111\"]\n",
    "\n",
    "for estado in estados:\n",
    "\n",
    "    qc = QuantumCircuit(3)\n",
    "    \n",
    "    if int(estado[0]) == 1:\n",
    "        qc.x(2)\n",
    "    if int(estado[1]) == 1:\n",
    "        qc.x(1)\n",
    "    if int(estado[2]) == 1:\n",
    "        qc.x(0)\n",
    "\n",
    "    oracle01(qc)\n",
    "\n",
    "    job = execute(qc,Aer.get_backend('statevector_simulator'),optimization_level=0)\n",
    "    precision = 3\n",
    "    vector_estado = job.result().get_statevector(qc,precision).data\n",
    "    display(array_to_latex(vector_estado, prefix=\"|\"+estado+\"\\\\rangle =\"))"
   ]
  },
  {
   "cell_type": "markdown",
   "id": "81c3634c",
   "metadata": {},
   "source": [
    "#### Inciso b (2 pts.)"
   ]
  },
  {
   "cell_type": "markdown",
   "id": "0dd7eb84",
   "metadata": {},
   "source": [
    "Aplica una búsqueda de Grover utilizando el oráculo que creaste en el inciso anterior. Asegúrate de que ejecutas los pasos del oráculo y el operador de difusión la cantidad de veces correcta.<br>\n",
    "A continuación te damos un operador de difusión que te servirá para este inciso y el siguiente ejercicio."
   ]
  },
  {
   "cell_type": "code",
   "execution_count": null,
   "id": "c7c8c87c",
   "metadata": {},
   "outputs": [],
   "source": [
    "def diffuser(qc,n):\n",
    "\n",
    "    for i in range(n):\n",
    "        qc.h(i)\n",
    "        qc.x(i)\n",
    "\n",
    "    qc.h(n-1)\n",
    "    qc.mcx(list(range(n-1)),n-1)\n",
    "    qc.h(n-1)\n",
    "\n",
    "    for i in range(n):\n",
    "        qc.x(i)\n",
    "        qc.h(i)"
   ]
  },
  {
   "cell_type": "code",
   "execution_count": null,
   "id": "cfba8965",
   "metadata": {},
   "outputs": [],
   "source": [
    "#ESCRIBE TU CÓDIGO AQUÍ"
   ]
  },
  {
   "cell_type": "markdown",
   "id": "6630ae63",
   "metadata": {},
   "source": [
    "### Gráfica bipartita (6 pts.)"
   ]
  },
  {
   "cell_type": "markdown",
   "id": "6d730fb7",
   "metadata": {},
   "source": [
    "Verifica si la siguiente gráfica es bipartita o no, utilizando el algoritmo de Grover."
   ]
  },
  {
   "cell_type": "markdown",
   "id": "9eb1b9f0",
   "metadata": {},
   "source": [
    "<img src=\"Imagenes/ejercicio.png\" width=\"20%\">"
   ]
  },
  {
   "cell_type": "markdown",
   "id": "e3310ea2",
   "metadata": {},
   "source": [
    "En este caso, necesitarás 12 qubits:<br>\n",
    "- 0-4 para los nodos\n",
    "- 5-10 para las líneas conectoras\n",
    "- 11 para el qubit de verificación"
   ]
  },
  {
   "cell_type": "markdown",
   "id": "1b64af01",
   "metadata": {},
   "source": [
    "Las líneas conectoras son (0,3), (0,2), (1,2), (1,3), (2,4), (3,4)."
   ]
  },
  {
   "cell_type": "markdown",
   "id": "b6513a92",
   "metadata": {},
   "source": [
    "Puedes usar el operador de difusión que se te brindó anteriormente. Se te brindan tres funciones: una para el oráculo, una para el inverso del oráculo y una para aplicar el oráculo, la verificación y el inverso del oráculo. Si prefieres construir el algoritmo de Grover sin usar estas tres funciones puedes hacerlo."
   ]
  },
  {
   "cell_type": "code",
   "execution_count": null,
   "id": "aa52efc6",
   "metadata": {},
   "outputs": [],
   "source": [
    "def oracle2(qc):\n",
    "    \n",
    "    #ESCRIBE TU CÓDIGO AQUÍ"
   ]
  },
  {
   "cell_type": "code",
   "execution_count": null,
   "id": "b3032ff4",
   "metadata": {},
   "outputs": [],
   "source": [
    "def inverse_oracle2(qc):\n",
    "    \n",
    "    #ESCRIBE TU CÓDIGO AQUÍ"
   ]
  },
  {
   "cell_type": "code",
   "execution_count": null,
   "id": "6d966b2c",
   "metadata": {},
   "outputs": [],
   "source": [
    "def oracle_computation(qc):\n",
    "    \n",
    "    oracle2(qc)\n",
    "    #ESCRIBE TU CÓDIGO AQUÍ\n",
    "    inverse_oracle2(qc)"
   ]
  },
  {
   "cell_type": "code",
   "execution_count": null,
   "id": "97ea66c7",
   "metadata": {},
   "outputs": [],
   "source": [
    "#ESCRIBE TU CÓDIGO AQUÍ"
   ]
  }
 ],
 "metadata": {
  "kernelspec": {
   "display_name": "Python 3 (ipykernel)",
   "language": "python",
   "name": "python3"
  },
  "language_info": {
   "codemirror_mode": {
    "name": "ipython",
    "version": 3
   },
   "file_extension": ".py",
   "mimetype": "text/x-python",
   "name": "python",
   "nbconvert_exporter": "python",
   "pygments_lexer": "ipython3",
   "version": "3.11.7"
  }
 },
 "nbformat": 4,
 "nbformat_minor": 5
}
