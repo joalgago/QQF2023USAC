{
 "cells": [
  {
   "cell_type": "markdown",
   "id": "5b2f7a92",
   "metadata": {},
   "source": [
    "<img src=\"Imagenes/Mac_wallpaper_3.png\" width=\"50%\">"
   ]
  },
  {
   "cell_type": "code",
   "execution_count": null,
   "id": "6bfe5cd2",
   "metadata": {},
   "outputs": [],
   "source": [
    "!pip install \"qiskit[visualization]\" --user"
   ]
  },
  {
   "cell_type": "code",
   "execution_count": null,
   "id": "0fe2a72d",
   "metadata": {},
   "outputs": [],
   "source": [
    "!pip install qiskit-aer --user"
   ]
  },
  {
   "cell_type": "markdown",
   "id": "a28fef6e",
   "metadata": {},
   "source": [
    "# Algoritmo de Bernstein-Vazirani"
   ]
  },
  {
   "cell_type": "markdown",
   "id": "a9b2ba0e",
   "metadata": {},
   "source": [
    "El algoritmo de Bernstein-Vazirani puede ser visto como una extensión del algoritmo de Deutsch-Jozsa, y demostró que puede ser ventajoso utilizar una computadora cuántica como herramienta computacional para problemas más complejos que el problema de Deutsch-Jozsa."
   ]
  },
  {
   "cell_type": "markdown",
   "id": "316d4ca6",
   "metadata": {},
   "source": [
    "### El problema de Bernstein-Vazirani"
   ]
  },
  {
   "cell_type": "markdown",
   "id": "32c4f8c2",
   "metadata": {},
   "source": [
    "Nosotros recibimos una función misteriosa $f$ (la cual no conocemos como opera) que recibe como entrada una cadena de $n$ bits y regresa un $0$ o un $1$"
   ]
  },
  {
   "cell_type": "markdown",
   "id": "d4f10992",
   "metadata": {},
   "source": [
    "$\\hspace{7 cm} f(x_{n-1}x_{n-2}\\cdots x_{1}x_{0}) \\rightarrow 0 \\hspace{0.2 cm} o \\hspace{0.2 cm} 1 \\hspace{0.5 cm}$ donde $\\hspace{0.5 cm} x_{i} \\in \\{0,1\\}$"
   ]
  },
  {
   "cell_type": "markdown",
   "id": "4f3d78cc",
   "metadata": {},
   "source": [
    "En este caso, lo que sabemos de la función es que esta devuelve el producto bit por bit del input por una cadena de bits $s$ escondida. En otras palabras, la acción de la función es"
   ]
  },
  {
   "cell_type": "markdown",
   "id": "0070847c",
   "metadata": {},
   "source": [
    "$\\hspace{10 cm} f(x) = s\\cdot x$ mod $2$"
   ]
  },
  {
   "cell_type": "markdown",
   "id": "e00822e6",
   "metadata": {},
   "source": [
    "Por ejemplo, si $s=101$ nuestra función sería:"
   ]
  },
  {
   "cell_type": "markdown",
   "id": "a06d8a1b",
   "metadata": {},
   "source": [
    "- $f(000) = 000\\cdot 101($mod$\\hspace{0.2 cm} 2) = 0*1 + 0*0 + 0*1($mod$\\hspace{0.2 cm} 2) = 0$\n",
    "- $f(001) = 001\\cdot 101($mod$\\hspace{0.2 cm} 2) = 0*1 + 0*0 + 1*1($mod$\\hspace{0.2 cm} 2) = 1$\n",
    "- $f(010) = 010\\cdot 101($mod$\\hspace{0.2 cm} 2) = 0*1 + 1*0 + 0*1($mod$\\hspace{0.2 cm} 2) = 0$\n",
    "- $f(011) = 011\\cdot 101($mod$\\hspace{0.2 cm} 2) = 0*1 + 1*0 + 1*1($mod$\\hspace{0.2 cm} 2) = 1$\n",
    "- $f(100) = 100\\cdot 101($mod$\\hspace{0.2 cm} 2) = 1*1 + 0*0 + 0*1($mod$\\hspace{0.2 cm} 2) = 1$\n",
    "- $f(101) = 101\\cdot 101($mod$\\hspace{0.2 cm} 2) = 1*1 + 0*0 + 1*1($mod$\\hspace{0.2 cm} 2) = 0$\n",
    "- $f(110) = 110\\cdot 101($mod$\\hspace{0.2 cm} 2) = 1*1 + 1*0 + 0*1($mod$\\hspace{0.2 cm} 2) = 1$\n",
    "- $f(111) = 111\\cdot 101($mod$\\hspace{0.2 cm} 2) = 1*1 + 1*0 + 1*1($mod$\\hspace{0.2 cm} 2) = 0$"
   ]
  },
  {
   "cell_type": "markdown",
   "id": "827b6ab8",
   "metadata": {},
   "source": [
    "Nuestra tarea en este caso es encontrar $s$."
   ]
  },
  {
   "cell_type": "markdown",
   "id": "f05d5906",
   "metadata": {},
   "source": [
    "### El caso clásico"
   ]
  },
  {
   "cell_type": "markdown",
   "id": "9f6ccd41",
   "metadata": {},
   "source": [
    "La manera más sencilla de encontrar el valor de la cadena $s$ en el caso clásico es utilizar las cadenas de bits que tienen un único bit igual a 1 como los inputs. Es decir, si nuestro input fuera una cadena de tres bits, solo tendríamos que usar las cadeas $100$, $010$, $001$. Cada una de estas cadenas revela uno de los bits de $s$: si el resultado es $0$, en esa posición $s$ tiene un $0$; si el resultado es $1$, en esa posición $s$ tiene un $1$."
   ]
  },
  {
   "cell_type": "markdown",
   "id": "831cbade",
   "metadata": {},
   "source": [
    "Si tomamos el ejemplo anterior vemos que"
   ]
  },
  {
   "cell_type": "markdown",
   "id": "ad0ccb25",
   "metadata": {},
   "source": [
    "- $f(100) = 1$\n",
    "- $f(010) = 0$\n",
    "- $f(001) = 1$"
   ]
  },
  {
   "cell_type": "markdown",
   "id": "d2b03a2a",
   "metadata": {},
   "source": [
    "Por lo que concluímos que $s=101$."
   ]
  },
  {
   "cell_type": "markdown",
   "id": "c5959d5d",
   "metadata": {},
   "source": [
    "De esta forma vemos que si la caneda $s$ tiene $n$ bits, el algoritmo clásico resuelve el problema luego de llamar a la función $n$ veces."
   ]
  },
  {
   "cell_type": "markdown",
   "id": "8c2ca208",
   "metadata": {},
   "source": [
    "### El caso cuántico"
   ]
  },
  {
   "cell_type": "markdown",
   "id": "5bad8458",
   "metadata": {},
   "source": [
    "En el caso cuántico podemos encontrar la cadena $s$ con un 100% de seguridad tras llamar a la función una única vez, tal y como sucedió con el algoritmo de Deutsch-Jozsa. De echo, el algoritmo es casi el mismo (extraído del textbook de qiskit):"
   ]
  },
  {
   "cell_type": "markdown",
   "id": "7067e7fb",
   "metadata": {},
   "source": [
    "<img src=\"Imagenes/BV.png\" width=\"40%\">"
   ]
  },
  {
   "cell_type": "markdown",
   "id": "092eee96",
   "metadata": {},
   "source": [
    "Por lo que este algoritmo sigue los mismos pasos que el algoritmo de Deutsch-Jozsa:<br>\n",
    "1. Inicializamos los qubits del input en el estado $|0^{\\otimes n}\\rangle$ y el qubit del output en el estado $|-\\rangle$.\n",
    "1. Le aplicamos una compuerta $H$ a todos los qubits del input.\n",
    "1. Llamamos a la función $f(x)$.\n",
    "1. Aplicamos una compuerta $H$ a todos los qubits del input nuevamente.\n",
    "1. Medimos los qubits del input."
   ]
  },
  {
   "cell_type": "markdown",
   "id": "c88d132a",
   "metadata": {},
   "source": [
    "### Aplicación matemática del algoritmo"
   ]
  },
  {
   "cell_type": "markdown",
   "id": "610c4f35",
   "metadata": {},
   "source": [
    "El estado inicial de nuestro sistema es:"
   ]
  },
  {
   "cell_type": "markdown",
   "id": "67b283f7",
   "metadata": {},
   "source": [
    "$\\hspace{11 cm} |\\psi_{0}\\rangle = |0^{\\otimes n}\\rangle|-\\rangle$"
   ]
  },
  {
   "cell_type": "markdown",
   "id": "07b0b5e4",
   "metadata": {},
   "source": [
    "Luego de aplicar todas las compuertas $H$ al input nuestro sistema queda como:"
   ]
  },
  {
   "cell_type": "markdown",
   "id": "d1ea4c81",
   "metadata": {},
   "source": [
    "$\\hspace{10 cm}|\\psi_{1}\\rangle = \\dfrac{1}{\\sqrt{2^{n}}}\\displaystyle\\sum_{x\\in\\{0,1\\}^{n}}|x\\rangle|-\\rangle$"
   ]
  },
  {
   "cell_type": "markdown",
   "id": "d9ac8283",
   "metadata": {},
   "source": [
    "Al momento de llamar a la función $f(x)$, y recordando que su efecto es convertir el estado $|0\\rangle - |1\\rangle$ en $|0\\oplus f(x)\\rangle - |1\\oplus f(x)\\rangle$, nos damos cuenta de que:"
   ]
  },
  {
   "cell_type": "markdown",
   "id": "6f47c751",
   "metadata": {},
   "source": [
    "- Si $s\\cdot x$ mod 2 es igual a 0, el estado del qubit del output se queda como $|-\\rangle$.\n",
    "- Si $s\\cdot x$ mod 2 es igual a 1, el estado del qubit del output se convierte en $-|-\\rangle$"
   ]
  },
  {
   "cell_type": "markdown",
   "id": "2a860335",
   "metadata": {},
   "source": [
    "Esto lo podemos resumir en la expresión $(-1)^{s\\cdot x}|-\\rangle$ y utilizando el retroceso de fase, nuestro estado en este punto del algoritmo se convierte en:"
   ]
  },
  {
   "cell_type": "markdown",
   "id": "70c5c0b4",
   "metadata": {},
   "source": [
    "$\\hspace{9 cm}|\\psi_{2}\\rangle = \\dfrac{1}{\\sqrt{2^{n}}}\\displaystyle\\sum_{x\\in\\{0,1\\}^{n}}(-1)^{s\\cdot x}|x\\rangle|-\\rangle$"
   ]
  },
  {
   "cell_type": "markdown",
   "id": "6c815090",
   "metadata": {},
   "source": [
    "A partir de aquí podemos ignorar el qubit del output, ya que no nos servirá para nada más."
   ]
  },
  {
   "cell_type": "markdown",
   "id": "21be2e03",
   "metadata": {},
   "source": [
    "Finalmente, aplicamos una compuerta $H$ a cada qubit del input. Para saber que efecto tendrá esto, debemos recordar dos cosas: La primera, es la expresión"
   ]
  },
  {
   "cell_type": "markdown",
   "id": "2657ce87",
   "metadata": {},
   "source": [
    "$\\hspace{9 cm} H^{\\otimes n}|a\\rangle = \\dfrac{1}{\\sqrt{2^{n}}}\\displaystyle\\sum_{x\\in\\{0,1\\}^{n}}(-1)^{a\\cdot x}|x\\rangle$"
   ]
  },
  {
   "cell_type": "markdown",
   "id": "ca7ad26f",
   "metadata": {},
   "source": [
    "Con lo que podemos reescribir el estado de nuestro input como"
   ]
  },
  {
   "cell_type": "markdown",
   "id": "d5ddaea6",
   "metadata": {},
   "source": [
    "$\\hspace{11 cm} H^{\\otimes n}|s\\rangle$"
   ]
  },
  {
   "cell_type": "markdown",
   "id": "5c198667",
   "metadata": {},
   "source": [
    "Y lo segundo que debemos recordar es que la compuerta $H$ es su propio inverso ($HH = I$), por lo que el estado de nuestro input luego del último paso queda como:"
   ]
  },
  {
   "cell_type": "markdown",
   "id": "e40e2956",
   "metadata": {},
   "source": [
    "$\\hspace{10 cm} H^{\\otimes n}(H^{\\otimes n}|s\\rangle) = |s\\rangle$"
   ]
  },
  {
   "cell_type": "markdown",
   "id": "3a9a4d87",
   "metadata": {},
   "source": [
    "Es decir, al final del algoritmo el estado de nuestro input es la cadena $s$ que estamos buscando, por lo que basta con medir los qubits del input una vez para encontrar el valor de la cadena $s$."
   ]
  },
  {
   "cell_type": "markdown",
   "id": "474e694f",
   "metadata": {},
   "source": [
    "### Circuito cuántico del algoritmo"
   ]
  },
  {
   "cell_type": "markdown",
   "id": "72a25ff5",
   "metadata": {},
   "source": [
    "Vamos a escoger la cadena $s=1010$ para este ejemplo. Ahora solo tenemos que hallar una forma de codificar nuestra función $f(x)$. "
   ]
  },
  {
   "cell_type": "markdown",
   "id": "739fbfac",
   "metadata": {},
   "source": [
    "Recordando que $f(x) = s\\cdot x$ mod 2 notamos que nuestra función opera de la siguiente manera:"
   ]
  },
  {
   "cell_type": "markdown",
   "id": "6291ee84",
   "metadata": {},
   "source": [
    "- Cuando un bit $s_{i}$ de nuestra cadena y el bit en la misma posición $x_{i}$ de nuestro input son iguales a 1, tenemos un +1 en la operación $s\\cdot x$ mod 2.\n",
    "- Cuando un bit $x_{i}$ de nuestro input es igual a 0, sin importar el valor del bit en la misma posición $s_{i}$ de nuestra cadena, tenemos un +0 en la operación $s\\cdot x$ mod 2."
   ]
  },
  {
   "cell_type": "markdown",
   "id": "05f4401c",
   "metadata": {},
   "source": [
    "Si tomamos en cuenta que $1+1 = 0$ mod 2, vemos que podemos codificar estos dos casos como:"
   ]
  },
  {
   "cell_type": "markdown",
   "id": "eff05b98",
   "metadata": {},
   "source": [
    "- Si tenemos un +1, aplicamos una compuerta NOT al output.\n",
    "- Si tenemos un +0, no hacemos nada."
   ]
  },
  {
   "cell_type": "markdown",
   "id": "2723d45d",
   "metadata": {},
   "source": [
    "Esto lo podemos conseguir utilizando compuertas CNOT que tomen los qubits del input como los qubits control y el qubit del output como el objetivo. Hay que recordar que solo vamos a aplicar una compuerta CNOT a los qubits que estén en la misma posición que los bits iguales a $1$ de la cadena $s$."
   ]
  },
  {
   "cell_type": "code",
   "execution_count": null,
   "id": "026a093b",
   "metadata": {},
   "outputs": [],
   "source": [
    "from qiskit import QuantumRegister, ClassicalRegister, QuantumCircuit\n",
    "from qiskit_aer import AerSimulator\n",
    "\n",
    "qin = QuantumRegister(4, name=\"in\")\n",
    "qout = QuantumRegister(1, name=\"out\")\n",
    "\n",
    "c = ClassicalRegister(4)\n",
    "\n",
    "qc = QuantumCircuit(qin,qout,c)\n",
    "\n",
    "for i in range(4):\n",
    "    qc.h(qin[i])\n",
    "    \n",
    "qc.x(qout[0])\n",
    "qc.h(qout[0])\n",
    "qc.barrier()\n",
    "\n",
    "#Aplicamos nuestra función f(x) utilizando la cadena s=1010\n",
    "qc.cx(qin[3],qout)\n",
    "qc.cx(qin[1],qout) \n",
    "qc.barrier()\n",
    "\n",
    "for i in range(4):\n",
    "    qc.h(qin[i])\n",
    "qc.barrier()\n",
    "\n",
    "qc.measure(qin,c)\n",
    "qc.draw(output=\"mpl\")"
   ]
  },
  {
   "cell_type": "code",
   "execution_count": null,
   "id": "52677f42",
   "metadata": {},
   "outputs": [],
   "source": [
    "#Ejecutamos el circuito solo una vez\n",
    "job = AerSimulator().run(qc, shots=1)\n",
    "counts = job.result().get_counts(qc)\n",
    "print(counts)"
   ]
  },
  {
   "cell_type": "markdown",
   "id": "b5708195",
   "metadata": {},
   "source": [
    "Como puedes ver, el resultado de la medición es la cadena de bits $1010$, que es justamente la cadena $s$.<br>\n",
    "Intenta codificar diferentes funciones $f(x)$ con distintas $s$ para practicar con el algoritmo."
   ]
  }
 ],
 "metadata": {
  "kernelspec": {
   "display_name": "Python 3 (ipykernel)",
   "language": "python",
   "name": "python3"
  },
  "language_info": {
   "codemirror_mode": {
    "name": "ipython",
    "version": 3
   },
   "file_extension": ".py",
   "mimetype": "text/x-python",
   "name": "python",
   "nbconvert_exporter": "python",
   "pygments_lexer": "ipython3",
   "version": "3.11.7"
  }
 },
 "nbformat": 4,
 "nbformat_minor": 5
}
