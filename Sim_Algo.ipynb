{
 "cells": [
  {
   "cell_type": "markdown",
   "id": "5b2f7a92",
   "metadata": {},
   "source": [
    "<img src=\"Imagenes/Mac_wallpaper_3.png\" width=\"50%\">"
   ]
  },
  {
   "cell_type": "code",
   "execution_count": null,
   "id": "6bfe5cd2",
   "metadata": {},
   "outputs": [],
   "source": [
    "!pip install \"qiskit[visualization]\" --user"
   ]
  },
  {
   "cell_type": "code",
   "execution_count": null,
   "id": "0fe2a72d",
   "metadata": {},
   "outputs": [],
   "source": [
    "!pip install qiskit-aer --user"
   ]
  },
  {
   "cell_type": "markdown",
   "id": "ef78462c",
   "metadata": {},
   "source": [
    "# Algoritmo de Simon"
   ]
  },
  {
   "cell_type": "markdown",
   "id": "f278d1e3",
   "metadata": {},
   "source": [
    "El algoritmo de Simon fue el primer algoritmo en mostrar un aumento de velocidad exponencial respecto del mejor algoritmo clásico para resolver un problema específico."
   ]
  },
  {
   "cell_type": "markdown",
   "id": "66ac2ced",
   "metadata": {},
   "source": [
    "### El problema de Simon"
   ]
  },
  {
   "cell_type": "markdown",
   "id": "92841d38",
   "metadata": {},
   "source": [
    "Nuevamente, recibimos una función misteriosa $f$, pero esta vez mapea una cadena de $n$ bits a otra cadena de $n$ bits, y la única información que tenemos es que puede ser uno a uno (a cada input le corresponde un output único) o dos a uno (dos inputs comparten un output único), y en el caso de ser dos a uno tenemos que"
   ]
  },
  {
   "cell_type": "markdown",
   "id": "45beb8a8",
   "metadata": {},
   "source": [
    "Si tenemos dos cadenas de bits $x_{1}$ y $x_{2}$ y tenemos que su output es el mismo, es decir, $f(x_{1})=f(x_{2})$ entonces se cumple que $x_{1} = x_{2}\\oplus b$ para una cadena de bits $b$ escondida. Por ejemplo, si $b=11$ entonces nuestra función $f(x)$ se podría comportar como"
   ]
  },
  {
   "cell_type": "markdown",
   "id": "0481ed9e",
   "metadata": {},
   "source": [
    "| x | f(x) |\n",
    "| :--: | :--: |\n",
    "| 00 | 10 |\n",
    "| 01 | 11 |\n",
    "| 10 | 11 |\n",
    "| 11 | 10 |"
   ]
  },
  {
   "cell_type": "markdown",
   "id": "413631b1",
   "metadata": {},
   "source": [
    "Nuestra tarea es determinar si $f$ es uno a uno o dos a uno, y en el caso de que sea dos a uno, determinar la cadena de bits $b$. Sin embargo, ambos problemas se resumen en encontrar la cadena de bits $b$, pues una cadena de solo ceros ($b = 000...$) corresponde a una función $f$ que es uno a uno."
   ]
  },
  {
   "cell_type": "markdown",
   "id": "eb829e77",
   "metadata": {},
   "source": [
    "### El caso clásico"
   ]
  },
  {
   "cell_type": "markdown",
   "id": "58d667fa",
   "metadata": {},
   "source": [
    "De manera similar al problema de Deutsch-Jozsa, podemos resolver este problema con solo llamar a la función dos veces si tenemos mucha suerte. En efecto, si nuestra función es dos a uno y nuestros primeros dos inputs $x_{1}$ y $x_{2}$ nos devuelven el mismo output, sabremos con total seguridad que nuestra función es dos a uno y encontrar la cadena $b$ se reduce a hacer la operación $x_{1}\\oplus x_{2} = b$."
   ]
  },
  {
   "cell_type": "markdown",
   "id": "c18999e7",
   "metadata": {},
   "source": [
    "Sin embargo si nuestra función es uno a uno, o tenemos mucha mala suerte con una función que es dos a uno, resolver el problema con un 100% de seguridad requiere que llamemos a la función $2^{n-1}+1$ veces, donde $n$ es el número de bits en el input."
   ]
  },
  {
   "cell_type": "markdown",
   "id": "a18fde0d",
   "metadata": {},
   "source": [
    "### El caso cuántico"
   ]
  },
  {
   "cell_type": "markdown",
   "id": "664063fd",
   "metadata": {},
   "source": [
    "El circuito cuántico que implementa el algoritmo de Simon se muestra a continuación (extraído del textbook de Qiskit):"
   ]
  },
  {
   "cell_type": "markdown",
   "id": "28b0f059",
   "metadata": {},
   "source": [
    "<img src=\"Imagenes/Simon.png\" width=\"40%\">"
   ]
  },
  {
   "cell_type": "markdown",
   "id": "fe1f6155",
   "metadata": {},
   "source": [
    "Como podemos ver, el algoritmo es bastante parecido a los que hemos visto anteriormente, la diferencia más notoria se encuentra en nuestro output: este ahora tiene $n$ qubits y se encuentra inicializado en el estado $|0^{\\oplus n}\\rangle$. Además, esta vez también medimos nuestro output, y pronto veremos por qué. De momento, y utilizando las líneas segmentadas que se encuentran en el diagrama del circuito, vamos a listar los pasos del algoritmo de Simon:"
   ]
  },
  {
   "cell_type": "markdown",
   "id": "3b40e484",
   "metadata": {},
   "source": [
    "1. Inicializamos los qubits del input y del output en el estado $|0^{\\otimes n}\\rangle$.\n",
    "1. Le aplicamos una compuerta $H$ a todos los qubits del input.\n",
    "1. Llamamos a la función $f(x)$, en la forma del operador $Q_{f}$.\n",
    "1. Medimos los qubits del output.\n",
    "1. Aplicamos una compuerta $H$ a todos los qubits del input nuevamente.\n",
    "1. Medimos los qubits del input."
   ]
  },
  {
   "cell_type": "markdown",
   "id": "20636732",
   "metadata": {},
   "source": [
    "### Aplicación matemática del algoritmo"
   ]
  },
  {
   "cell_type": "markdown",
   "id": "610c4f35",
   "metadata": {},
   "source": [
    "El estado inicial de nuestro sistema es:"
   ]
  },
  {
   "cell_type": "markdown",
   "id": "67b283f7",
   "metadata": {},
   "source": [
    "$\\hspace{11 cm} |\\psi_{0}\\rangle = |0^{\\otimes n}\\rangle|0^{\\otimes n}\\rangle$"
   ]
  },
  {
   "cell_type": "markdown",
   "id": "07b0b5e4",
   "metadata": {},
   "source": [
    "Luego de aplicar todas las compuertas $H$ al input nuestro sistema queda como:"
   ]
  },
  {
   "cell_type": "markdown",
   "id": "d1ea4c81",
   "metadata": {},
   "source": [
    "$\\hspace{10 cm}|\\psi_{1}\\rangle = \\dfrac{1}{\\sqrt{2^{n}}}\\displaystyle\\sum_{x\\in\\{0,1\\}^{n}}|x\\rangle|0^{\\otimes n}\\rangle$"
   ]
  },
  {
   "cell_type": "markdown",
   "id": "fafc7850",
   "metadata": {},
   "source": [
    "Ya que todos los qubits de nuestro output se encuentran en el estado cero, el efecto que tiene el operador $Q_{f}$ sobre el sistema es colocar el valor de $f(x)$ en los qubits del output:"
   ]
  },
  {
   "cell_type": "markdown",
   "id": "ee7ab571",
   "metadata": {},
   "source": [
    "$\\hspace{10 cm}|\\psi_{2}\\rangle = \\dfrac{1}{\\sqrt{2^{n}}}\\displaystyle\\sum_{x\\in\\{0,1\\}^{n}}|x\\rangle|f(x)\\rangle$"
   ]
  },
  {
   "cell_type": "markdown",
   "id": "0654362c",
   "metadata": {},
   "source": [
    "Cuando midamos los qubits del output veremos que uno de los posibles estados $|f(x)\\rangle$ va a ser medido. Para tomar el caso más general posible vamos a considerar que $f(x)$ es dos a uno, por lo que después de hacer la medición nuestros qubits en el input se pueden encontrar en dos posibles estados: $|x\\rangle$ o $|x\\oplus b\\rangle = |y\\rangle$. Por lo que el estado de nuestro input luego de medir el output es"
   ]
  },
  {
   "cell_type": "markdown",
   "id": "c854d36b",
   "metadata": {},
   "source": [
    "$\\hspace{11 cm} \\dfrac{1}{\\sqrt{2}}(|x\\rangle + |y\\rangle)$"
   ]
  },
  {
   "cell_type": "markdown",
   "id": "48af449c",
   "metadata": {},
   "source": [
    "A partir de aquí ignoraremos el estado del output, pues ya fue medido."
   ]
  },
  {
   "cell_type": "markdown",
   "id": "b9d7e0fa",
   "metadata": {},
   "source": [
    "Finalmente aplicamos las compuertas $H$ a los qubits del input, lo que transforma su estado en:"
   ]
  },
  {
   "cell_type": "markdown",
   "id": "aa777dd5",
   "metadata": {},
   "source": [
    "$\\hspace{9 cm} \\dfrac{1}{\\sqrt{2^{n+1}}}\\displaystyle\\sum_{x\\in\\{0,1\\}^{n}}[(-1)^{x\\cdot z} + (-1)^{y\\cdot z}]|z\\rangle$"
   ]
  },
  {
   "cell_type": "markdown",
   "id": "af50c59b",
   "metadata": {},
   "source": [
    "Al momento de hacer la medición solo podremos medir aquellos estados $|z\\rangle$ que tengan una amplitud diferente de $0$. Para ello, requerimos que $(-1)^{x\\cdot z} = (-1)^{y\\cdot z}$, lo que significa que"
   ]
  },
  {
   "cell_type": "markdown",
   "id": "8919479f",
   "metadata": {},
   "source": [
    "$\\hspace{4 cm} x\\cdot z = y\\cdot z \\hspace{1 cm} x\\cdot z = (x\\oplus b)\\cdot z \\hspace{1 cm} x\\cdot z = x\\cdot z\\oplus b\\cdot z \\hspace{1 cm} b\\cdot z = 0$ mod 2"
   ]
  },
  {
   "cell_type": "markdown",
   "id": "1cedcdb2",
   "metadata": {},
   "source": [
    "De esta forma obtendremos una cadena de bits $z$ que cumple con $b\\cdot z = 0$ mod 2 cada vez que hagamos una medición. Por lo tanto, luego de repetir el algoritmo $\\approx n$ veces tendremos una lista de $n$ cadenas de bits diferentes que podemos utilizar para crear el sistema de ecuaciones"
   ]
  },
  {
   "cell_type": "markdown",
   "id": "33ab3047",
   "metadata": {},
   "source": [
    "$\\hspace{8 cm} b\\cdot z_{1} = 0 \\hspace{2 cm} b\\cdot z_{2} = 0 \\hspace{1 cm} \\cdots \\hspace{1 cm} b\\cdot z_{n} = 0$"
   ]
  },
  {
   "cell_type": "markdown",
   "id": "26045a1e",
   "metadata": {},
   "source": [
    "que al resolverlo nos dará el valor de la cadena $b$."
   ]
  },
  {
   "cell_type": "markdown",
   "id": "a553d06c",
   "metadata": {},
   "source": [
    "*La cadena de solo ceros es la solución trivial de nuestro sistema de ecuaciones, por lo que debemos buscar otra solución, si la hay.*"
   ]
  },
  {
   "cell_type": "markdown",
   "id": "8b93e097",
   "metadata": {},
   "source": [
    "Entonces, en este problema en particular el algoritmo cuántico realiza exponencialmente menos pasos que el algoritmo clásico."
   ]
  },
  {
   "cell_type": "markdown",
   "id": "e59ca611",
   "metadata": {},
   "source": [
    "*Nota: Es probable que obtengamos cadenas $z_{i}$ repetidas o cadenas que sean linealmente dependientes, lo que nos obligará a hacer unas cuantas mediciones adicionales además de las $n$ mandatorias. Sin embargo, este algoritmo sigue siendo mucho más rápido que los algoritmos clásicos aún con este problema.*"
   ]
  },
  {
   "cell_type": "markdown",
   "id": "7d3dc638",
   "metadata": {},
   "source": [
    "Si bien es difícil hallar una aplicación de este algoritmo, fue el primero que desmotró que es posible obtener una ventaja exponencial en el tiempo de resolución de ciertos problemas utilizando una computadora cuántica en lugar de una clásica."
   ]
  },
  {
   "cell_type": "markdown",
   "id": "a6c3b2fa",
   "metadata": {},
   "source": [
    "### Circuito cuántico del algoritmo"
   ]
  },
  {
   "cell_type": "markdown",
   "id": "0026929d",
   "metadata": {},
   "source": [
    "Para codificar nuestra función $f(x)$ de manera general, vamos a hacer lo siguiente:"
   ]
  },
  {
   "cell_type": "markdown",
   "id": "1c96e394",
   "metadata": {},
   "source": [
    "**Primer paso:** Vamos a \"copiar\" el valor del input en los qubits del output, de manera que"
   ]
  },
  {
   "cell_type": "markdown",
   "id": "6a6e0429",
   "metadata": {},
   "source": [
    "$\\hspace{10 cm} |x\\rangle|0\\rangle \\rightarrow |x\\rangle|x\\rangle$"
   ]
  },
  {
   "cell_type": "markdown",
   "id": "3d801792",
   "metadata": {},
   "source": [
    "**Segundo paso:** Vamos a tomar el bit menos significativo $b_{i}$ de $b$ y el bit menos significativo $x_{i}$ del input $x$. Si se cumple que $b_{i} = 1$ y $x_{i} = 0$ vamos a sumarle $b$ al output utilizando la suma por bits módulo 2, de manera que"
   ]
  },
  {
   "cell_type": "markdown",
   "id": "32a6c81c",
   "metadata": {},
   "source": [
    "$\\hspace{10 cm} |x\\rangle|x\\rangle \\rightarrow |x\\rangle|x\\oplus b\\rangle$"
   ]
  },
  {
   "cell_type": "markdown",
   "id": "d90b6a02",
   "metadata": {},
   "source": [
    "En caso de que el bit menos significativo de $b$ no sea 1, nos movemos hacia la izquierda bit pot bit hasta encontrar un bit de $b$ que sea igual a 1 y entonces realizamos la suma. La suma puede hacerse utilizando compuertas CNOT."
   ]
  },
  {
   "cell_type": "markdown",
   "id": "d7f4711e",
   "metadata": {},
   "source": [
    "De esta manera, si $b$ es la cadena de solo ceros no realizaremos el segundo paso del algoritmo y nuestra función quedará como una función de uno a uno. En caso contrario, será una función de dos a uno que cumple la condición $f(x)=f(y)$ si y solo si $x=y\\oplus b$."
   ]
  },
  {
   "cell_type": "markdown",
   "id": "f00bc1d7",
   "metadata": {},
   "source": [
    "---"
   ]
  },
  {
   "cell_type": "markdown",
   "id": "871384f4",
   "metadata": {},
   "source": [
    "Ahora, resolvamos el problema de Simon con una función dos a uno que utiliza la cadena $b=100$. <br>\n",
    "Primero que nada comprobemos que nuestro algoritmo para codificar $f(x)$ funciona como es debido:"
   ]
  },
  {
   "cell_type": "code",
   "execution_count": null,
   "id": "2eda3252",
   "metadata": {},
   "outputs": [],
   "source": [
    "from qiskit import QuantumRegister, ClassicalRegister, QuantumCircuit\n",
    "from qiskit_aer import AerSimulator\n",
    "\n",
    "estados = [\"000\",\"001\",\"010\",\"011\",\"100\",\"101\",\"110\",\"111\"]\n",
    "\n",
    "for estado in estados:\n",
    "\n",
    "    qin = QuantumRegister(3)\n",
    "    qout = QuantumRegister(3)\n",
    "    c = ClassicalRegister(3)\n",
    "\n",
    "    qc = QuantumCircuit(qin,qout,c)\n",
    "\n",
    "#Preparamos los estados del input\n",
    "    if int(estado[0]) == 1:\n",
    "        qc.x(qin[2])\n",
    "    if int(estado[1]) == 1:\n",
    "        qc.x(qin[1])\n",
    "    if int(estado[2]) == 1:\n",
    "        qc.x(qin[0])\n",
    "        \n",
    "#Realizamos el primer paso de la función\n",
    "\n",
    "    qc.cx(qin[0],qout[0])\n",
    "    qc.cx(qin[1],qout[1])\n",
    "    qc.cx(qin[2],qout[2])\n",
    "        \n",
    "#Realizamos el segundo paso de la función, recordando que b=100\n",
    "    qc.x(qin[2])\n",
    "    qc.cx(qin[2],qout[2])\n",
    "    qc.x(qin[2])\n",
    "    \n",
    "#Medimos el output\n",
    "    qc.measure(qout,c)\n",
    "    \n",
    "#Ejecutamos el circuito solo una vez, para ver cómo opera nuestra función\n",
    "    job = AerSimulator().run(qc, shots=1)\n",
    "    counts = job.result().get_counts(qc)\n",
    "    print(\"Input:\",estado,\"Output:\",counts)"
   ]
  },
  {
   "cell_type": "markdown",
   "id": "69386d60",
   "metadata": {},
   "source": [
    "¡Perfecto! Ahora implementemos el algoritmo completo:"
   ]
  },
  {
   "cell_type": "code",
   "execution_count": null,
   "id": "888ce80f",
   "metadata": {},
   "outputs": [],
   "source": [
    "qin = QuantumRegister(3, name=\"in\")\n",
    "qout = QuantumRegister(3, name=\"out\")\n",
    "c = ClassicalRegister(3)\n",
    "\n",
    "qc = QuantumCircuit(qin,qout,c)\n",
    "\n",
    "#Aplicamos una compuerta H a todos los qubits del input\n",
    "for i in range(3):\n",
    "    qc.h(qin[i])\n",
    "    \n",
    "qc.barrier()\n",
    "    \n",
    "#Aplicamos el operador Q_f\n",
    "for i in range(3):\n",
    "    qc.cx(qin[i],qout[i])\n",
    "    \n",
    "qc.x(qin[2])\n",
    "qc.cx(qin[2],qout[2])\n",
    "qc.x(qin[2])\n",
    "\n",
    "qc.barrier()\n",
    "\n",
    "#Medimos los qubits del output\n",
    "qc.measure(qout,c)\n",
    "\n",
    "qc.barrier()\n",
    "\n",
    "#Aplicamos una compuerta H a todos los qubits del input nuevamente\n",
    "for i in range(3):\n",
    "    qc.h(qin[i])\n",
    "    \n",
    "qc.barrier()\n",
    "    \n",
    "#Medimos los qubits del input\n",
    "qc.measure(qin,c)\n",
    "\n",
    "qc.draw(output=\"mpl\")"
   ]
  },
  {
   "cell_type": "code",
   "execution_count": null,
   "id": "502d19b1",
   "metadata": {},
   "outputs": [],
   "source": [
    "#Ejecutamos el circuito 3 veces y repetimos hasta obtener 3 cadenas de bits distintas\n",
    "job = AerSimulator().run(qc, shots=3)\n",
    "counts = job.result().get_counts(qc)\n",
    "print(counts)"
   ]
  },
  {
   "cell_type": "markdown",
   "id": "36194951",
   "metadata": {},
   "source": [
    "En este ejemplo, obtuvimos las cadenas de bits $011$, $001$ y $010$. Con ellas obtenemos el siguiente sistema de ecuaciones:"
   ]
  },
  {
   "cell_type": "markdown",
   "id": "b1c61082",
   "metadata": {},
   "source": [
    "$\\hspace{9 cm} b_{1}+b_{0} = 0 \\hspace{1 cm} b_{0} = 0 \\hspace{1 cm} b_{1} = 0$"
   ]
  },
  {
   "cell_type": "markdown",
   "id": "be2e7145",
   "metadata": {},
   "source": [
    "Si bien obtuvimos tres cadenas linealmente dependientes que solo nos dan la información certera de que $b_{0} = b_{1} = 0$, si probamos correr la celda que ejecuta el circuito múltiples veces nos daremos cuenta de que jamás obtenemos una cadena de bits que tena un $1$ en $b_{2}$, por lo que $b=100$."
   ]
  },
  {
   "cell_type": "markdown",
   "id": "b65c90c5",
   "metadata": {},
   "source": [
    "---"
   ]
  },
  {
   "cell_type": "markdown",
   "id": "e2a9412b",
   "metadata": {},
   "source": [
    "Probemos ejecutar un circuito con una función $f(x)$ uno a uno, para ver cómo difiere del ejemplo anterior."
   ]
  },
  {
   "cell_type": "code",
   "execution_count": null,
   "id": "360564a5",
   "metadata": {},
   "outputs": [],
   "source": [
    "qin = QuantumRegister(3, name=\"in\")\n",
    "qout = QuantumRegister(3, name=\"out\")\n",
    "c = ClassicalRegister(3)\n",
    "\n",
    "qc = QuantumCircuit(qin,qout,c)\n",
    "\n",
    "#Aplicamos una compuerta H a todos los qubits del input\n",
    "for i in range(3):\n",
    "    qc.h(qin[i])\n",
    "    \n",
    "qc.barrier()\n",
    "    \n",
    "#Aplicamos el operador Q_f\n",
    "for i in range(3):\n",
    "    qc.cx(qin[i],qout[i])\n",
    "\n",
    "qc.barrier()\n",
    "\n",
    "#Medimos los qubits del output\n",
    "qc.measure(qout,c)\n",
    "\n",
    "qc.barrier()\n",
    "\n",
    "#Aplicamos una compuerta H a todos los qubits del input nuevamente\n",
    "for i in range(3):\n",
    "    qc.h(qin[i])\n",
    "    \n",
    "qc.barrier()\n",
    "    \n",
    "#Medimos los qubits del input\n",
    "qc.measure(qin,c)\n",
    "\n",
    "qc.draw(output=\"mpl\")"
   ]
  },
  {
   "cell_type": "code",
   "execution_count": null,
   "id": "c918d124",
   "metadata": {},
   "outputs": [],
   "source": [
    "#Ejecutamos el circuito 3 veces y repetimos hasta obtener tres cadenas de bits útiles\n",
    "job = AerSimulator().run(qc, shots=3)\n",
    "counts = job.result().get_counts(qc)\n",
    "print(counts)"
   ]
  },
  {
   "cell_type": "markdown",
   "id": "2920a1d1",
   "metadata": {},
   "source": [
    "En este caso obtuvimos las cadenas de bits $110$, $100$ y $001$, las cuales forman el sistema"
   ]
  },
  {
   "cell_type": "markdown",
   "id": "410f6144",
   "metadata": {},
   "source": [
    "$\\hspace{9 cm} b_{2}+b_{1} = 0 \\hspace{1 cm} b_{2} = 0 \\hspace{1 cm} b_{0} = 0$"
   ]
  },
  {
   "cell_type": "markdown",
   "id": "ee940469",
   "metadata": {},
   "source": [
    "Ya que $b_{2}=0$, la única opción para resolver la primera ecuación es $b_{1}=0$, por lo que $b=000$ y nuestra funnción es uno a uno. "
   ]
  },
  {
   "cell_type": "markdown",
   "id": "2d69c2da",
   "metadata": {},
   "source": [
    "Si bien de momento parece que este algoritmo no ofrece mucha ventaja respecto a su versión clásica, es cuando aumentamos el valor de $n$ que queda de manifiesto la ventaja del algoritmo cuántico."
   ]
  }
 ],
 "metadata": {
  "kernelspec": {
   "display_name": "Python 3 (ipykernel)",
   "language": "python",
   "name": "python3"
  },
  "language_info": {
   "codemirror_mode": {
    "name": "ipython",
    "version": 3
   },
   "file_extension": ".py",
   "mimetype": "text/x-python",
   "name": "python",
   "nbconvert_exporter": "python",
   "pygments_lexer": "ipython3",
   "version": "3.11.7"
  }
 },
 "nbformat": 4,
 "nbformat_minor": 5
}
