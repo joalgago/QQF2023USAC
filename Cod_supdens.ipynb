{
 "cells": [
  {
   "cell_type": "markdown",
   "id": "87a67313",
   "metadata": {},
   "source": [
    "<img src=\"Imagenes/Mac_wallpaper_3.png\" width=\"50%\">"
   ]
  },
  {
   "cell_type": "markdown",
   "id": "6c24b5d2",
   "metadata": {},
   "source": [
    "# Codificación Superdensa"
   ]
  },
  {
   "cell_type": "markdown",
   "id": "f3b6d6fd",
   "metadata": {},
   "source": [
    "La codificación superdensa es un protocolo por medio del cual podemos utilizar un qubit para enviar dos bits de información, utilizando la propiedad de entrelazamiento cuántico."
   ]
  },
  {
   "cell_type": "markdown",
   "id": "8462c223",
   "metadata": {},
   "source": [
    "### Paso 1: Estado inicial"
   ]
  },
  {
   "cell_type": "markdown",
   "id": "c332fedc",
   "metadata": {},
   "source": [
    "Para este protocolo necesitamos únicamente de dos qubits, los cuales vamos a entrelazar. Para ello, colocaremos el sistema de los dos qubits en el siguiente estado de Bell:"
   ]
  },
  {
   "cell_type": "markdown",
   "id": "47dc53f5",
   "metadata": {},
   "source": [
    "$\\hspace{11 cm} \\dfrac{1}{\\sqrt{2}}(|00\\rangle + |11\\rangle)$"
   ]
  },
  {
   "cell_type": "markdown",
   "id": "604253e1",
   "metadata": {},
   "source": [
    "Luego, le daremos el qubit $q_{0}$ a Alice y el qubit $q_{1}$ a Bob."
   ]
  },
  {
   "cell_type": "code",
   "execution_count": null,
   "id": "3b219cc7",
   "metadata": {},
   "outputs": [],
   "source": [
    "from qiskit import QuantumCircuit, execute, Aer\n",
    "\n",
    "qc = QuantumCircuit(2)\n",
    "\n",
    "qc.h(0)\n",
    "qc.cx(0,1)\n",
    "\n",
    "qc.draw(output=\"mpl\")"
   ]
  },
  {
   "cell_type": "markdown",
   "id": "a9869744",
   "metadata": {},
   "source": [
    "### Paso 2: Operaciones de Alice"
   ]
  },
  {
   "cell_type": "markdown",
   "id": "198c2d81",
   "metadata": {},
   "source": [
    "Para que Alice pueda enviar sus dos bits de información necesita implementar ciertas compuertas dependiendo del valor que tengan sus bits. Si los bits de Alice están ordenados como $ba$, entonces Alice debe"
   ]
  },
  {
   "cell_type": "markdown",
   "id": "135e011b",
   "metadata": {},
   "source": [
    "- Aplicar una compuerta $Z$ a su qubit si $a=1$.\n",
    "- Aplicar una compuerta $NOT$ a su qubit si $b=1$."
   ]
  },
  {
   "cell_type": "markdown",
   "id": "497fda38",
   "metadata": {},
   "source": [
    "Esto nos deja con $4$ posibilidades. De momento, vamos a suponer que Alice quiere enviar la cadena de bits **01**. En este caso, debe aplicar una compuerta $Z$ a su qubit. De esta forma, el estado del sistema ahora es"
   ]
  },
  {
   "cell_type": "markdown",
   "id": "42289902",
   "metadata": {},
   "source": [
    "$\\hspace{11 cm} \\dfrac{1}{\\sqrt{2}}(|00\\rangle - |11\\rangle)$"
   ]
  },
  {
   "cell_type": "code",
   "execution_count": null,
   "id": "253ab6ac",
   "metadata": {},
   "outputs": [],
   "source": [
    "qc = QuantumCircuit(2)\n",
    "\n",
    "qc.h(0)\n",
    "qc.cx(0,1)\n",
    "qc.barrier()\n",
    "\n",
    "qc.z(0)\n",
    "\n",
    "qc.draw(output=\"mpl\")"
   ]
  },
  {
   "cell_type": "markdown",
   "id": "4c9f8bf8",
   "metadata": {},
   "source": [
    "Luego de hacer las operaciones correspondientes, Alice envía su qubit a Bob."
   ]
  },
  {
   "cell_type": "markdown",
   "id": "169252eb",
   "metadata": {},
   "source": [
    "### Paso 3: Operaciones de Bob"
   ]
  },
  {
   "cell_type": "markdown",
   "id": "038dedff",
   "metadata": {},
   "source": [
    "La parte que le corresponde a Bob es bastante directa, y no depende del mensaje que Alice quiera enviarle. Lo que él debe hacer una vez que reciba el qubit de Alice es:"
   ]
  },
  {
   "cell_type": "markdown",
   "id": "5c8fa7a0",
   "metadata": {},
   "source": [
    "- Aplicar una compuerta $CNOT$ usando el qubit de Alice como el control y el suyo como el objetivo.\n",
    "- Aplicar una compuerta Hadamard al qubit de Alice.\n",
    "- Medir ambos qubits."
   ]
  },
  {
   "cell_type": "markdown",
   "id": "85d60e4b",
   "metadata": {},
   "source": [
    "El resultado de la medición será la cadena de bits $ba$ que Alice quería mandar."
   ]
  },
  {
   "cell_type": "markdown",
   "id": "74dc4b20",
   "metadata": {},
   "source": [
    "Continuemos con el caso que estamos evaluando, y apliquemos la compuerta CNOT primero. Luego de hacerlo, el estado de nuestro sistema queda como"
   ]
  },
  {
   "cell_type": "markdown",
   "id": "0cb33a36",
   "metadata": {},
   "source": [
    "$\\hspace{11 cm} \\dfrac{1}{\\sqrt{2}}(|00\\rangle - |01\\rangle)$"
   ]
  },
  {
   "cell_type": "markdown",
   "id": "d43de221",
   "metadata": {},
   "source": [
    "Ahora aplicamos la compuerta Hadamard:"
   ]
  },
  {
   "cell_type": "markdown",
   "id": "09aa7720",
   "metadata": {},
   "source": [
    "$\\hspace{8 cm} \\dfrac{1}{2}(|00\\rangle + |01\\rangle - |00\\rangle + |01\\rangle) = \\dfrac{1}{2}(2|01\\rangle) = |01\\rangle$"
   ]
  },
  {
   "cell_type": "markdown",
   "id": "16d10912",
   "metadata": {},
   "source": [
    "¡Listo! Cuando Bob mida ambos qubits obtendrá como resultado la cadena de bits **01**, que es justamente la que Alice quería enviarle."
   ]
  },
  {
   "cell_type": "code",
   "execution_count": null,
   "id": "81b7a587",
   "metadata": {},
   "outputs": [],
   "source": [
    "qc = QuantumCircuit(2,2)\n",
    "\n",
    "qc.h(0)\n",
    "qc.cx(0,1)\n",
    "qc.barrier()\n",
    "\n",
    "qc.z(0)\n",
    "qc.barrier()\n",
    "\n",
    "qc.cx(0,1)\n",
    "qc.h(0)\n",
    "qc.measure([0,1],[0,1])\n",
    "\n",
    "qc.draw(output=\"mpl\")"
   ]
  },
  {
   "cell_type": "code",
   "execution_count": null,
   "id": "8b705696",
   "metadata": {},
   "outputs": [],
   "source": [
    "job = execute(qc,Aer.get_backend('qasm_simulator'),shots=100)\n",
    "counts = job.result().get_counts(qc)\n",
    "print(counts)"
   ]
  }
 ],
 "metadata": {
  "kernelspec": {
   "display_name": "Python 3 (ipykernel)",
   "language": "python",
   "name": "python3"
  },
  "language_info": {
   "codemirror_mode": {
    "name": "ipython",
    "version": 3
   },
   "file_extension": ".py",
   "mimetype": "text/x-python",
   "name": "python",
   "nbconvert_exporter": "python",
   "pygments_lexer": "ipython3",
   "version": "3.10.9"
  }
 },
 "nbformat": 4,
 "nbformat_minor": 5
}
