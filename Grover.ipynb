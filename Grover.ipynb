{
 "cells": [
  {
   "cell_type": "markdown",
   "id": "aee2bacb",
   "metadata": {},
   "source": [
    "<img src=\"Imagenes/Mac_wallpaper_3.png\" width=\"50%\">"
   ]
  },
  {
   "cell_type": "code",
   "execution_count": null,
   "id": "6bfe5cd2",
   "metadata": {},
   "outputs": [],
   "source": [
    "!pip install \"qiskit[visualization]\" --user"
   ]
  },
  {
   "cell_type": "code",
   "execution_count": null,
   "id": "0fe2a72d",
   "metadata": {},
   "outputs": [],
   "source": [
    "!pip install qiskit-aer --user"
   ]
  },
  {
   "cell_type": "markdown",
   "id": "6997639e",
   "metadata": {},
   "source": [
    "# Algoritmo de Grover"
   ]
  },
  {
   "cell_type": "markdown",
   "id": "c8b276c8",
   "metadata": {},
   "source": [
    "Para finalizar con este taller introductorio, vamos a ver un algoritmo que permite acelerar el proceso de búsqueda en una base de datos sin estructura, aunque sus usos se extienden más allá de eso. Por ejemplo, puede ser utilizado como una subrutina para obtener una ventaja de velocidad similar en otros algoritmos."
   ]
  },
  {
   "cell_type": "markdown",
   "id": "49992f53",
   "metadata": {},
   "source": [
    "### Introducción"
   ]
  },
  {
   "cell_type": "markdown",
   "id": "c43433b0",
   "metadata": {},
   "source": [
    "Supongamos que tenemos una larga lista de N elementos. Entre estos elementos hay uno con una propiedad única que queremos localizar, lo llamaremos el \"ganador\" $w$. Piensa en cada elemento de la lista como una caja de un color en particular. Digamos que todos los elementos en la lista son grises excepto el ganador $w$, que es morado (imagen extraída del textbook de Qiskit, ya archivado): "
   ]
  },
  {
   "cell_type": "markdown",
   "id": "f423b2e9",
   "metadata": {},
   "source": [
    "<img src=\"Imagenes/Lista.png\" width=\"50%\">"
   ]
  },
  {
   "cell_type": "markdown",
   "id": "50e189c1",
   "metadata": {},
   "source": [
    "Para encontrar la caja morada (el elemento marcado) utilizando una computadora clásica, tendríamos que revisar (en promedio) $N/2$ de estas cajas, y en el peor de los casos, todas las $N$ cajas."
   ]
  },
  {
   "cell_type": "markdown",
   "id": "2f44542c",
   "metadata": {},
   "source": [
    "El algoritmo de Grover nos permite encontrar el elemento marcado en aproximadamente $\\sqrt{N}$ pasos, una ventaja cuadrática respecto del caso clásico. Y como una ventaja adicional, el algoritmo no utiliza la estructura interna de la lista para realizar la búsqueda, lo que lo hace **genérico**, lo que lo convierte en una herramienta bastante útil."
   ]
  },
  {
   "cell_type": "markdown",
   "id": "9f79729b",
   "metadata": {},
   "source": [
    "### Pasos del algoritmo"
   ]
  },
  {
   "cell_type": "markdown",
   "id": "050a480b",
   "metadata": {},
   "source": [
    "El algoritmo de Grover consiste de tres pasos principales (imagen extraída del textbook de Qiskit):<br>\n",
    "- Preparación de los estados.\n",
    "- El oráculo.\n",
    "- El operador de difusión."
   ]
  },
  {
   "cell_type": "markdown",
   "id": "167b6a9f",
   "metadata": {},
   "source": [
    "<img src=\"Imagenes/Grover.png\" width=\"50%\">"
   ]
  },
  {
   "cell_type": "markdown",
   "id": "50fff171",
   "metadata": {},
   "source": [
    "La preparación de los estados es el paso en el que creamos el espacio de búsqueda, que está compuesto por todos los posibles valores que puede tomar el elemento que estamos buscando. En el ejemplo de una lista , el espacio de búsqueda serían todos los elementos de dicha lista. "
   ]
  },
  {
   "cell_type": "markdown",
   "id": "fdd78176",
   "metadata": {},
   "source": [
    "El oráculo es el que marca la respuesta (o respuestas) correcta(s)."
   ]
  },
  {
   "cell_type": "markdown",
   "id": "5a689505",
   "metadata": {},
   "source": [
    "Y el operador de difusión amplifica la amplitud de estas respuestas para aumentar la probabilidad de obtenerlas como el resultado de la medición al final del algoritmo. Esta es la parte central del algoritmo de Grover, y es conocido como el truco de amplificación de amplitud."
   ]
  },
  {
   "cell_type": "markdown",
   "id": "66ea7898",
   "metadata": {},
   "source": [
    "Los pasos de aplicación del oráculo y el operador de difusión se deben repetir cierta cantidad de veces $k \\propto \\sqrt{N}$ para obtener el resultado deseado al final del algoritmo. "
   ]
  },
  {
   "cell_type": "markdown",
   "id": "4d290d8e",
   "metadata": {},
   "source": [
    "### Aplicación del algoritmo"
   ]
  },
  {
   "cell_type": "markdown",
   "id": "4c38d089",
   "metadata": {},
   "source": [
    "**Primer paso:** Para crear el espacio de búsqueda solo necesitamos utilizar una superposición equitativa (para que inicialmente todos los elementos tengan la misma amplitud), que podemos construir fácilmente utilizando compuertas Hadamard sobre todos nuestros qubits. Llamaremos a este estado inicial $|s\\rangle$, por lo que  "
   ]
  },
  {
   "cell_type": "markdown",
   "id": "2ae64064",
   "metadata": {},
   "source": [
    "$\\hspace{9 cm} |s\\rangle = H^{\\otimes n}|0^{\\otimes n}\\rangle = \\dfrac{1}{\\sqrt{2^{n}}}\\displaystyle\\sum_{x\\in\\{0,1\\}^{n}}|x\\rangle$"
   ]
  },
  {
   "cell_type": "markdown",
   "id": "8139e52e",
   "metadata": {},
   "source": [
    "*Nota: Podemos empezar en cualquier otro estado que posea una superposición equitativa, dependiendo de la información que tengamos sobre la respuesta que estamos buscando. Nosotros veremos el caso más general ya que no realizaremos ejemplos demasiado complicados, pero en la práctica es común reducir el espacio de búsqueda si es posible.*"
   ]
  },
  {
   "cell_type": "markdown",
   "id": "11f6b533",
   "metadata": {},
   "source": [
    "Además, definimos dos estados perpendiculares entre sí:"
   ]
  },
  {
   "cell_type": "markdown",
   "id": "6d5b2c00",
   "metadata": {},
   "source": [
    "$\\hspace{11 cm} |A\\rangle = \\dfrac{1}{\\sqrt{a}}\\displaystyle\\sum_{x\\in A}|x\\rangle$"
   ]
  },
  {
   "cell_type": "markdown",
   "id": "dced80ae",
   "metadata": {},
   "source": [
    "$\\hspace{11 cm} |B\\rangle = \\dfrac{1}{\\sqrt{b}}\\displaystyle\\sum_{x\\in B}|x\\rangle$"
   ]
  },
  {
   "cell_type": "markdown",
   "id": "757ba199",
   "metadata": {},
   "source": [
    "Donde $A$ es el conjunto de las respuestas correctas, que contiene $a$ elementos; y $B$ es el conjunto de los demás elementos de $|s\\rangle$ que no están en $A$, y contiene $b$ elementos. De esta forma, si tenemos $N = 2^{n}$ elementos en nuestro espacio de búsqueda, entonces"
   ]
  },
  {
   "cell_type": "markdown",
   "id": "9c1d82c7",
   "metadata": {},
   "source": [
    "$\\hspace{10 cm} |s\\rangle = \\sqrt{\\dfrac{a}{N}}|A\\rangle + \\sqrt{\\dfrac{b}{N}}|B\\rangle$"
   ]
  },
  {
   "cell_type": "markdown",
   "id": "9b62f8b2",
   "metadata": {},
   "source": [
    "---"
   ]
  },
  {
   "cell_type": "markdown",
   "id": "9560507f",
   "metadata": {},
   "source": [
    "Ahora, para entender por completo cuál es el efecto de los siguientes dos pasos sobre nuestro sistema, vamos a cambiar nuestro marco de referencia. Ya que nuestros estados $|A\\rangle$ y $|B\\rangle$ son ortogonales, estos generan un plano en dos dimensiones, el cual vamos a utilizar como nuestro marco de referencia. Ya que $|s\\rangle$ es una combinación lineal de $|A\\rangle$ y $|B\\rangle$ este se encuentra en el plano que generan estos dos estados. (imagen extraída del textbook de Qiskit, en el cual $w=A$ y $s^{\\prime} = B$)"
   ]
  },
  {
   "cell_type": "markdown",
   "id": "91f15d73",
   "metadata": {},
   "source": [
    "<img src=\"Imagenes/Geom.png\" width=\"30%\">"
   ]
  },
  {
   "cell_type": "markdown",
   "id": "2024bc6c",
   "metadata": {},
   "source": [
    "Por lo que en este nuevo marco de referencia podemos escribir a nuestro estado $|s\\rangle$ como"
   ]
  },
  {
   "cell_type": "markdown",
   "id": "ed9b93f6",
   "metadata": {},
   "source": [
    "$\\hspace{10 cm} |s\\rangle = \\sin\\theta|A\\rangle + \\cos\\theta|B\\rangle$"
   ]
  },
  {
   "cell_type": "markdown",
   "id": "2501eb9b",
   "metadata": {},
   "source": [
    "donde"
   ]
  },
  {
   "cell_type": "markdown",
   "id": "2c90b8d8",
   "metadata": {},
   "source": [
    "$\\hspace{11 cm} \\theta = \\arcsin\\left(\\sqrt{\\dfrac{a}{N}}\\right)$"
   ]
  },
  {
   "cell_type": "markdown",
   "id": "648d73a1",
   "metadata": {},
   "source": [
    "---"
   ]
  },
  {
   "cell_type": "markdown",
   "id": "c732e0ba",
   "metadata": {},
   "source": [
    "**Segundo paso:** Aplicamos el oráculo. Ya que queremos \"marcar\" a nuestras respuestas correctas dentro de la superposición equitativa, definiremos un operador $Z_{f}$ que actuará de la siguiente forma:"
   ]
  },
  {
   "cell_type": "markdown",
   "id": "99171076",
   "metadata": {},
   "source": [
    "$\\hspace{9 cm} Z_{f}|A\\rangle = -|A\\rangle \\hspace{2 cm} Z_{f}|B\\rangle = |B\\rangle$"
   ]
  },
  {
   "cell_type": "markdown",
   "id": "646eefbe",
   "metadata": {},
   "source": [
    "De esta manera, utilizamos un cambio de fase relativa para distinguir a nuestras respuestas del resto de elementos de la superposición."
   ]
  },
  {
   "cell_type": "markdown",
   "id": "60abcd61",
   "metadata": {},
   "source": [
    "**Tercer paso:** Aplicamos el operador de difusión, el cual tiene la forma"
   ]
  },
  {
   "cell_type": "markdown",
   "id": "c373e4c3",
   "metadata": {},
   "source": [
    "$\\hspace{11 cm} D = 2|s\\rangle\\langle s|- \\mathbb{1}$"
   ]
  },
  {
   "cell_type": "markdown",
   "id": "bc131527",
   "metadata": {},
   "source": [
    "Primero vamos a evaluar su acción sobre nuestro estado $|A\\rangle$:"
   ]
  },
  {
   "cell_type": "markdown",
   "id": "3be4b646",
   "metadata": {},
   "source": [
    "$\\hspace{5 cm} D|A\\rangle = 2|s\\rangle\\langle s|A\\rangle - |A\\rangle = 2\\sin\\theta|s\\rangle - |A\\rangle = \\left(2\\sin^{2}\\theta - 1\\right)|A\\rangle + 2\\sin\\theta\\cos\\theta|B\\rangle$"
   ]
  },
  {
   "cell_type": "markdown",
   "id": "e1784871",
   "metadata": {},
   "source": [
    "Ahora, veamos cómo actúa sobre nuestro estado $|B\\rangle$:"
   ]
  },
  {
   "cell_type": "markdown",
   "id": "e342fbe3",
   "metadata": {},
   "source": [
    "$\\hspace{5 cm} D|B\\rangle = 2|s\\rangle\\langle s|B\\rangle - |B\\rangle = 2\\cos\\theta|s\\rangle - |B\\rangle = \\left(2\\cos^{2}\\theta - 1\\right)|B\\rangle + 2\\sin\\theta\\cos\\theta|A\\rangle$"
   ]
  },
  {
   "cell_type": "markdown",
   "id": "dcf0fd37",
   "metadata": {},
   "source": [
    "---"
   ]
  },
  {
   "cell_type": "markdown",
   "id": "a6eb2db2",
   "metadata": {},
   "source": [
    "Ya que los pasos del oráculo y del operador de difusión se deben repetir varias veces, vamos a definir un operador $G$ que los junte a ambos, es decir:"
   ]
  },
  {
   "cell_type": "markdown",
   "id": "e0e71d1b",
   "metadata": {},
   "source": [
    "$\\hspace{10 cm} G = DZ_{f} = (2|s\\rangle\\langle s|- \\mathbb{1})Z_{f}$"
   ]
  },
  {
   "cell_type": "markdown",
   "id": "626f920a",
   "metadata": {},
   "source": [
    "Entonces, el efecto de $G$ sobre nuestros estados $|A\\rangle$ y $|B\\rangle$ es"
   ]
  },
  {
   "cell_type": "markdown",
   "id": "c806f4e7",
   "metadata": {},
   "source": [
    "$\\hspace{3 cm} G|A\\rangle = (1 - 2\\sin^{2}\\theta)|A\\rangle - 2\\sin\\theta\\cos\\theta|B\\rangle = (\\cos^{2}\\theta - \\sin^{2}\\theta)|A\\rangle - \\sin 2\\theta|B\\rangle = \\cos 2\\theta|A\\rangle - \\sin 2\\theta|B\\rangle$"
   ]
  },
  {
   "cell_type": "markdown",
   "id": "946c220e",
   "metadata": {},
   "source": [
    "$\\hspace{6 cm} G|B\\rangle = (\\cos^{2}\\theta - \\sin^{2}\\theta)|B\\rangle + 2\\sin\\theta\\cos\\theta|A\\rangle = \\cos 2\\theta|B\\rangle + \\sin 2\\theta|A\\rangle$"
   ]
  },
  {
   "cell_type": "markdown",
   "id": "123182e2",
   "metadata": {},
   "source": [
    "Por lo que el efecto del operador $G$ sobre el estado $|s\\rangle$ (que recordemos es el estado de nuestro sistema completo) es"
   ]
  },
  {
   "cell_type": "markdown",
   "id": "1bc14520",
   "metadata": {},
   "source": [
    "$G|s\\rangle = \\sin\\theta(\\cos 2\\theta|A\\rangle - \\sin 2\\theta|B\\rangle) + \\cos\\theta(\\cos 2\\theta|B\\rangle + \\sin 2\\theta|A\\rangle) = (\\sin\\theta\\cos 2\\theta + \\cos\\theta\\sin 2\\theta)|A\\rangle + (\\cos\\theta\\cos 2\\theta - \\sin\\theta\\sin 2\\theta)|B\\rangle = \\hspace{2 cm} \\sin 3\\theta|A\\rangle + \\cos 3\\theta |B\\rangle$"
   ]
  },
  {
   "cell_type": "markdown",
   "id": "be58fc98",
   "metadata": {},
   "source": [
    "¡El efecto del operador $G$ es hacer una rotación de $2\\theta$ radianes en el plano! Sabiendo esto, podemos deducir cuál será el efecto de aplicar dicho operador $k$ veces:"
   ]
  },
  {
   "cell_type": "markdown",
   "id": "7066ab29",
   "metadata": {},
   "source": [
    "$\\hspace{8 cm} G^{k}|s\\rangle = \\sin[(2k + 1)\\theta]|A\\rangle + \\cos[(2k + 1)\\theta]|B\\rangle$"
   ]
  },
  {
   "cell_type": "markdown",
   "id": "e1f9bcfc",
   "metadata": {},
   "source": [
    "Ya que queremos que al final del algoritmo el estado $|A\\rangle$ tenga una amplitud lo suficientemente grande comparada con la amplitud de $|B\\rangle$ para asegurarnos de que lo vamos a medir, necesitamos que"
   ]
  },
  {
   "cell_type": "markdown",
   "id": "7b7709c6",
   "metadata": {},
   "source": [
    "$\\hspace{11 cm} \\sin[(2k + 1)\\theta] \\approx 1$"
   ]
  },
  {
   "cell_type": "markdown",
   "id": "2b86155d",
   "metadata": {},
   "source": [
    "por lo que"
   ]
  },
  {
   "cell_type": "markdown",
   "id": "f1d4651f",
   "metadata": {},
   "source": [
    "$\\hspace{9 cm} (2k + 1)\\theta \\approx \\dfrac{\\pi}{2} \\hspace{2 cm} k \\approx \\dfrac{\\pi}{4\\theta} - \\dfrac{1}{2}$"
   ]
  },
  {
   "cell_type": "markdown",
   "id": "d8fbd46f",
   "metadata": {},
   "source": [
    "Ahora solo falta el valor de $\\theta$ para saber cuántas veces debemos aplicar estos dos pasos del algoritmo de Grover para obtener la respuesta que buscamos. Para ello, vamos a asumir que $\\sqrt{\\dfrac{a}{N}} \\ll 1$ de manera que $\\theta \\approx \\sqrt{\\dfrac{a}{N}}$, y entonces"
   ]
  },
  {
   "cell_type": "markdown",
   "id": "d4d86058",
   "metadata": {},
   "source": [
    "$\\hspace{10 cm} k \\approx \\dfrac{\\pi}{4}\\sqrt{\\dfrac{N}{a}} - \\dfrac{1}{2} \\approx \\dfrac{\\pi}{4}\\sqrt{\\dfrac{N}{a}}$"
   ]
  },
  {
   "cell_type": "markdown",
   "id": "d3335566",
   "metadata": {},
   "source": [
    "Y en el caso de que solo tengamos una respuesta correcta, es decir, $a=1$:"
   ]
  },
  {
   "cell_type": "markdown",
   "id": "e3480120",
   "metadata": {},
   "source": [
    "$\\hspace{11 cm} k \\approx \\dfrac{\\pi\\sqrt{N}}{4}$"
   ]
  },
  {
   "cell_type": "markdown",
   "id": "7f48b779",
   "metadata": {},
   "source": [
    "### Aplicar el operador de difusión"
   ]
  },
  {
   "cell_type": "markdown",
   "id": "64e70b58",
   "metadata": {},
   "source": [
    "El último paso antes de aplicar el algoritmo de Grover es encontrar una manera de escribir el operador de difusión $D = 2|s\\rangle\\langle s|- \\mathbb{1}$ como una combinación de compuertas cuánticas que podamos aplicar en nuestro circuito. Para ello, vamos a recordar que $|s\\rangle = H^{\\otimes n}|0^{\\otimes n}\\rangle$ y que las compuertas Hadamard son su propio inverso para reescribir el operador de difusión como "
   ]
  },
  {
   "cell_type": "markdown",
   "id": "e96b0362",
   "metadata": {},
   "source": [
    "$\\hspace{6 cm} D = 2H^{\\otimes n}|0^{\\otimes n}\\rangle\\langle 0^{\\otimes n}|H^{\\otimes n}- H^{\\otimes n}H^{\\otimes n} = H^{\\otimes n}(2|0^{\\otimes n}\\rangle\\langle 0^{\\otimes n}| - \\mathbb{1})H^{\\otimes n}$"
   ]
  },
  {
   "cell_type": "markdown",
   "id": "bf7d006b",
   "metadata": {},
   "source": [
    "Ahora, si investigamos la forma matricial del operador $2|0^{\\otimes n}\\rangle\\langle 0^{\\otimes n}| - \\mathbb{1}$ nos daremos cuenta de que es una matriz identidad con todas las entradas de su diagonal multiplicadas por $-1$ excepto la primera (la correspondiente al estado de solo ceros). Esto significa que su efecto es multiplicar todos los estados por $-1$ excepto el estado de solo ceros, el cual deja intacto.  "
   ]
  },
  {
   "cell_type": "markdown",
   "id": "b3c776da",
   "metadata": {},
   "source": [
    "Ya que esto sería difícil de implementar en un circuito, vamos a utilizar el operador $-D$ en vez del operador $D$. Esto lo podemos hacer ya que la diferencia entre ambos es una fase global, y las fases globales no afectan en nada a nuestros estados más allá de cambiar la forma de su vector de estado. Además, al aplicar el operador $-D$ estaríamos aplicando el operador $\\mathbb{1} - 2|0^{\\otimes n}\\rangle\\langle 0^{\\otimes n}|$, el cual es una matriz identidad cuya primera entrada en la diagonal es un $-1$ en vez de un $1$; es decir, su efecto es multiplicar el estado de solo ceros por $-1$ y dejar a los demás estados intactos. El comportamiento es el mismo, marcar el estado de solo ceros, solo que con el operador $-D$ esta tarea es mucho más sencilla y se puede conseguir con una combinación de compuertas $X$ y una compuerta $Z$ multicontrolada, de manera que"
   ]
  },
  {
   "cell_type": "markdown",
   "id": "3867ab45",
   "metadata": {},
   "source": [
    "$\\hspace{7 cm} -D = H^{\\otimes n}(\\mathbb{1} - 2|0^{\\otimes n}\\rangle\\langle 0^{\\otimes n}|)H^{\\otimes n} = H^{\\otimes n}(X^{\\otimes n}CZX^{\\otimes n})H^{\\otimes n}$"
   ]
  },
  {
   "cell_type": "markdown",
   "id": "915a7116",
   "metadata": {},
   "source": [
    "### El circuito cuántico"
   ]
  },
  {
   "cell_type": "markdown",
   "id": "8419d7f2",
   "metadata": {},
   "source": [
    "Ahora sí, vamos a poner a prueba el algoritmo de Grover con dos casos sencillos. En el primero, vamos a buscar el elemento $1101$. En este caso, $a=1$ y $N=16$, por lo que $k\\approx \\pi$. En este caso, tomaremos $k=3$ y veremos qué resultado obtenemos."
   ]
  },
  {
   "cell_type": "markdown",
   "id": "866f2a44",
   "metadata": {},
   "source": [
    "El primer paso es crear nuestro oráculo. Ya que queremos marcar el estado $1101$ solo debemos aplicar una compuerta $X$ al qubit en la posición 1 y luego aplicar una compuerta $Z$ multicontrolada. Para implementarla vamos a utilizar una compuerta Toffoli multicontrolada y compuertas Hadamard sobre nuestro qubit objetivo. La sintaxis para una compuerta Toffoli multicontrolada es `mcx(controles,objetivo)`."
   ]
  },
  {
   "cell_type": "code",
   "execution_count": null,
   "id": "c2078c30",
   "metadata": {},
   "outputs": [],
   "source": [
    "from qiskit import QuantumCircuit\n",
    "from qiskit_aer import AerSimulator\n",
    "\n",
    "def oracle(qc):\n",
    "    qc.x(1)\n",
    "    qc.h(0)\n",
    "    qc.mcx([3,2,1],0)\n",
    "    qc.h(0)\n",
    "    qc.x(1)"
   ]
  },
  {
   "cell_type": "markdown",
   "id": "904fe63b",
   "metadata": {},
   "source": [
    "Ahora definimos nuestro operador de difusión."
   ]
  },
  {
   "cell_type": "code",
   "execution_count": null,
   "id": "c7c8c87c",
   "metadata": {},
   "outputs": [],
   "source": [
    "def diffuser(qc,n):\n",
    "#Primer paso\n",
    "    for i in range(n):\n",
    "        qc.h(i)\n",
    "        qc.x(i)\n",
    "#Segundo paso\n",
    "    qc.h(n-1)\n",
    "    qc.mcx(list(range(n-1)),n-1)\n",
    "    qc.h(n-1)\n",
    "#Tercer paso\n",
    "    for i in range(n):\n",
    "        qc.x(i)\n",
    "        qc.h(i)"
   ]
  },
  {
   "cell_type": "markdown",
   "id": "17e6b699",
   "metadata": {},
   "source": [
    "Finalmente, lo juntamos todo y recordamos que debemos aplicar el oráculo y el operador de difusión **3** veces."
   ]
  },
  {
   "cell_type": "code",
   "execution_count": null,
   "id": "1506a021",
   "metadata": {},
   "outputs": [],
   "source": [
    "n = 4\n",
    "\n",
    "qc = QuantumCircuit(n,n)\n",
    "\n",
    "# Inicializamos nuestros estados en una superposición equitativa\n",
    "\n",
    "for i in range(n):\n",
    "    qc.h(i)\n",
    "    \n",
    "# Aplicamos el oráculo y el difusor tres veces\n",
    "\n",
    "for i in range(3):\n",
    "    oracle(qc)\n",
    "    diffuser(qc,n)\n",
    "    \n",
    "# Medimos nuestro circuito\n",
    "\n",
    "qc.measure([0,1,2,3],[0,1,2,3])\n",
    "    \n",
    "# Ejecutamos nuestro circuito y obtenemos los resultados\n",
    "\n",
    "job = AerSimulator().run(qc, shots=100)\n",
    "counts = job.result().get_counts(qc)\n",
    "print(counts)"
   ]
  },
  {
   "cell_type": "markdown",
   "id": "1177259d",
   "metadata": {},
   "source": [
    "¡Listo! Y ahora, como segundo ejemplo, marquemos las cadenas de bits $110$ y $111$. En este caso, nuestro oráculo es más sencillo, ya que solo debemos implementar una compuerta $Z$ controlada para marcar ambos estados."
   ]
  },
  {
   "cell_type": "code",
   "execution_count": null,
   "id": "72aed62f",
   "metadata": {},
   "outputs": [],
   "source": [
    "def oracle(qc):\n",
    "    qc.cz(1,2)"
   ]
  },
  {
   "cell_type": "markdown",
   "id": "bb692fe7",
   "metadata": {},
   "source": [
    "Ahora, calculamos $k$ sabiendo que $a=2$ y $N=8$. Entonces $k \\approx \\pi/2$, por lo que de momento tomaremos $k=1$ y veremos si es necesario subir a $k=2$ o no."
   ]
  },
  {
   "cell_type": "code",
   "execution_count": null,
   "id": "d91eb00f",
   "metadata": {},
   "outputs": [],
   "source": [
    "n = 3\n",
    "\n",
    "qc = QuantumCircuit(n,n)\n",
    "\n",
    "# Inicializamos nuestros estados en una superposición equitativa\n",
    "\n",
    "for i in range(n):\n",
    "    qc.h(i)\n",
    "    \n",
    "# Aplicamos el oráculo y el difusor una vez\n",
    "\n",
    "oracle(qc)\n",
    "diffuser(qc,n)\n",
    "    \n",
    "# Medimos nuestro circuito\n",
    "\n",
    "qc.measure([0,1,2],[0,1,2])\n",
    "    \n",
    "# Ejecutamos nuestro circuito y obtenemos los resultados\n",
    "\n",
    "job = AerSimulator().run(qc, shots=100)\n",
    "counts = job.result().get_counts(qc)\n",
    "print(counts)"
   ]
  }
 ],
 "metadata": {
  "kernelspec": {
   "display_name": "Python 3 (ipykernel)",
   "language": "python",
   "name": "python3"
  },
  "language_info": {
   "codemirror_mode": {
    "name": "ipython",
    "version": 3
   },
   "file_extension": ".py",
   "mimetype": "text/x-python",
   "name": "python",
   "nbconvert_exporter": "python",
   "pygments_lexer": "ipython3",
   "version": "3.11.7"
  }
 },
 "nbformat": 4,
 "nbformat_minor": 5
}
