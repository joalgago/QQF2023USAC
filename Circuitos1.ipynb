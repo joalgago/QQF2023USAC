{
 "cells": [
  {
   "cell_type": "markdown",
   "id": "45bf99b5",
   "metadata": {},
   "source": [
    "<img src=\"Imagenes/Mac_wallpaper_3.png\" width=\"50%\">"
   ]
  },
  {
   "cell_type": "markdown",
   "id": "68cb37a2",
   "metadata": {},
   "source": [
    "**Autor: José A. García**"
   ]
  },
  {
   "cell_type": "code",
   "execution_count": null,
   "id": "6bfe5cd2",
   "metadata": {},
   "outputs": [],
   "source": [
    "!pip install \"qiskit[visualization]\" --user"
   ]
  },
  {
   "cell_type": "code",
   "execution_count": null,
   "id": "0fe2a72d",
   "metadata": {},
   "outputs": [],
   "source": [
    "!pip install qiskit-aer --user"
   ]
  },
  {
   "cell_type": "markdown",
   "id": "5c346451",
   "metadata": {},
   "source": [
    "# Compuertas de 1 qubit"
   ]
  },
  {
   "cell_type": "markdown",
   "id": "4f749bb4",
   "metadata": {},
   "source": [
    "### Compuerta X (NOT)"
   ]
  },
  {
   "cell_type": "markdown",
   "id": "a35ccee5",
   "metadata": {},
   "source": [
    "Ahora que ya estamos familiarizados con el concepto de qubit, es momento de empezar a construir circuitos. Comenzaremos con una de las compuertas más conocidas en computación clásica, y la más sencilla de implementar: la compuerta X, también conocida como compuerta NOT debido a su similitud con esta compuerta clásica. "
   ]
  },
  {
   "cell_type": "markdown",
   "id": "164e67d6",
   "metadata": {},
   "source": [
    "Su efecto en un qubit es bastante sencillo: intercambia el valor de las amplitudes de los estados base. Es decir, convierte un **1** en un **0** y vice versa. <br>Usando la notación de Dirac:<br>\n",
    "- $X|0\\rangle = |1\\rangle$.\n",
    "- $X|1\\rangle = |0\\rangle$."
   ]
  },
  {
   "cell_type": "markdown",
   "id": "7c3f4590",
   "metadata": {},
   "source": [
    "Si usamos la notación vectorial de los estados $|0\\rangle$ y $|1\\rangle$, podemos ver que la compuerta $X$ se representa como una matriz, conocida también como un *operador*, cuya forma es"
   ]
  },
  {
   "cell_type": "markdown",
   "id": "7f74ceda",
   "metadata": {},
   "source": [
    "$\\hspace{10 cm}$ $X = \\begin{pmatrix} 0 & 1 \\\\ 1 & 0 \\end{pmatrix}$"
   ]
  },
  {
   "cell_type": "markdown",
   "id": "c7b23592",
   "metadata": {},
   "source": [
    "*Nota: De aquí en adelante llamaremos **operador** al objeto matemático que se aplica al vector de estado de los qubits, y **compuerta** a la representación física de dicho operador.*"
   ]
  },
  {
   "cell_type": "markdown",
   "id": "0786b256",
   "metadata": {},
   "source": [
    "Antes de ver un ejemplo del uso de la compuerta $X$ en un circuito cuántico, vamos a ver cómo declarar un circuito cuántico primero:"
   ]
  },
  {
   "cell_type": "code",
   "execution_count": null,
   "id": "f258c576",
   "metadata": {},
   "outputs": [],
   "source": [
    "from qiskit import QuantumCircuit\n",
    "from qiskit_aer import AerSimulator\n",
    "\n",
    "#Creamos un circuito cuántico con un qubit y un bit clásico\n",
    "qc = QuantumCircuit(1,1)\n",
    "\n",
    "#Medimos nuestro qubit\n",
    "qc.measure(0,0)\n",
    "\n",
    "#Ejecutamos nuestro circuito 100 veces\n",
    "job = AerSimulator().run(qc, shots=100)\n",
    "\n",
    "#Recuperamos los resultados y los imprimimos\n",
    "counts = job.result().get_counts()\n",
    "print(counts)"
   ]
  },
  {
   "cell_type": "markdown",
   "id": "44fecd34",
   "metadata": {},
   "source": [
    "- Utilizamos la función *QuantumCircuit(i,j)* para crear un circuito cuántico con *i* qubits y *j* bits clásicos. Los bits clásicos son de suma importancia, pues sin ellos no podemos realizar mediciones, ni si quiera con el simulador. Después de todo, una vez que medimos el qubit físico se interpreta el resultado de dicha medición y el valor binario que le corresponde (0 o 1) se almacena en un bit clásico. \n",
    "- El método *.measure(i,j)* mide el qubit *i* y almacena su valor en el bit *j*. En este caso también es posible pasar listas de qubits y bit para no tener que escribir todas las mediciones una por una.\n",
    "- Los circuitos cuánticos se inician por defecto en el estado $|0\\rangle$.\n",
    "- La función *AerSimulator().run(qc, shots=100)* ejecuta el circuito *qc* con ayuda del simulador *Aer* y repite la ejecución 100 veces.\n",
    "- Los qubits y los bits se listan de **0** a **n-1**, donde **n** es el número de qubits o bits."
   ]
  },
  {
   "cell_type": "markdown",
   "id": "fbe583d9",
   "metadata": {},
   "source": [
    "-------"
   ]
  },
  {
   "cell_type": "markdown",
   "id": "72e939fc",
   "metadata": {},
   "source": [
    "Ahora sí, veamos un ejemplo del uso de la compuerta $X$ en un circuito cuántico."
   ]
  },
  {
   "cell_type": "code",
   "execution_count": null,
   "id": "ecfe5a1e",
   "metadata": {
    "scrolled": true
   },
   "outputs": [],
   "source": [
    "from qiskit import QuantumCircuit\n",
    "from qiskit_aer import AerSimulator\n",
    "\n",
    "#Creamos un circuito cuántico con un qubit y un bit\n",
    "qc = QuantumCircuit(1,1)\n",
    "\n",
    "#Agregamos una compuerta x al circuito\n",
    "qc.x(0)\n",
    "\n",
    "#Medimos nuestro qubit\n",
    "qc.measure(0,0)\n",
    "\n",
    "#Dibujamos nuestro circuito\n",
    "qc.draw(output=\"mpl\")"
   ]
  },
  {
   "cell_type": "markdown",
   "id": "f4341d9b",
   "metadata": {},
   "source": [
    "Aquí hemos usado el método *.draw(output=\"mpl\")* para dibujar nuestro circuito utilizando la librería `Matplotlib` de Python. Si se deja vacío el paréntesis, el circuito se dibujará usando caracteres ASCII. <br>\n",
    "Ahora, ejecutamos nuestro circuito."
   ]
  },
  {
   "cell_type": "code",
   "execution_count": null,
   "id": "7345dc7b",
   "metadata": {},
   "outputs": [],
   "source": [
    "#Ejecutamos nuestro circuito 100 veces\n",
    "job = AerSimulator().run(qc, shots=100)\n",
    "\n",
    "#Recuperamos los resultados y los imprimimos\n",
    "counts = job.result().get_counts(qc)\n",
    "print(counts)"
   ]
  },
  {
   "cell_type": "markdown",
   "id": "749e6453",
   "metadata": {},
   "source": [
    "Como podemos ver, nuestro resultado siempre es 1, tal y como esperábamos luego de aplicar una compuerta $X$.<br>\n",
    "Ahora, probemos ver qué pasa si implementamos dos compuertas $X$."
   ]
  },
  {
   "cell_type": "code",
   "execution_count": null,
   "id": "e96c4e33",
   "metadata": {},
   "outputs": [],
   "source": [
    "#Creamos un circuito cuántico con un qubit y un bit\n",
    "qc = QuantumCircuit(1,1)\n",
    "\n",
    "#Agregamos dos compuertas x al circuito\n",
    "qc.x(0)\n",
    "qc.x(0)\n",
    "\n",
    "#Medimos nuestro qubit\n",
    "qc.measure(0,0)\n",
    "\n",
    "#Dibujamos nuestro circuito\n",
    "qc.draw(output=\"mpl\")"
   ]
  },
  {
   "cell_type": "code",
   "execution_count": null,
   "id": "378c5de9",
   "metadata": {},
   "outputs": [],
   "source": [
    "#Ejecutamos nuestro circuito 100 veces\n",
    "job = AerSimulator().run(qc, shots=100)\n",
    "\n",
    "#Recuperamos los resultados y los imprimimos\n",
    "counts = job.result().get_counts(qc)\n",
    "print(counts)"
   ]
  },
  {
   "cell_type": "markdown",
   "id": "a3631cf4",
   "metadata": {},
   "source": [
    "¡Nuestro resultado siempre es 0! Esto no debería ser una sorpresa, pues fácilmente vemos que aplicar una compuerta $X$ al estado $|0\\rangle$ en que inicia nuestro circuito lo convierte en el estado $|1\\rangle$. Una segunda compuerta $X$ convierte este estado $|1\\rangle$ en el estado $|0\\rangle$ nuevamente:"
   ]
  },
  {
   "cell_type": "markdown",
   "id": "e95483d4",
   "metadata": {},
   "source": [
    "$\\hspace{10 cm}$ $X(X|0\\rangle) = X|1\\rangle = |0\\rangle$"
   ]
  },
  {
   "cell_type": "markdown",
   "id": "e6f5194a",
   "metadata": {},
   "source": [
    "De aquí podemos ver una propiedad interesante del operador $X$, y es que es su propio inverso, es decir:"
   ]
  },
  {
   "cell_type": "markdown",
   "id": "7b016db4",
   "metadata": {},
   "source": [
    "$\\hspace{9 cm}$ $X^{2} = XX = I$ donde $I$ es la identidad"
   ]
  },
  {
   "cell_type": "markdown",
   "id": "dbf9fdbd",
   "metadata": {},
   "source": [
    "$\\hspace{8 cm}$ $X^{2} = \\begin{pmatrix} 0 & 1 \\\\ 1 & 0 \\end{pmatrix}\\begin{pmatrix} 0 & 1 \\\\ 1 & 0 \\end{pmatrix} = \\begin{pmatrix} 1 & 0 \\\\ 0 & 1 \\end{pmatrix} = I$"
   ]
  },
  {
   "cell_type": "markdown",
   "id": "e42970d4",
   "metadata": {},
   "source": [
    "Y para finalizar esta sección, veamos qué sucede si aplicamos la compuerta $X$ a un estado en superposición."
   ]
  },
  {
   "cell_type": "code",
   "execution_count": null,
   "id": "739180b1",
   "metadata": {},
   "outputs": [],
   "source": [
    "from math import sqrt\n",
    "from qiskit.quantum_info import Statevector\n",
    "\n",
    "#Creamos un circuito cuántico con un qubit y un bit clásico\n",
    "qc = QuantumCircuit(1,1)\n",
    "\n",
    "#Declaramos el estado inicial de nuestro qubit\n",
    "estado = Statevector([1/sqrt(2),1j/sqrt(2)])\n",
    "\n",
    "#Agregamos una compuerta x\n",
    "qc.x(0)\n",
    "\n",
    "#Aplicamos esta compuerta a nuestro qubit utilizando el método .evolve() y giardamos el resultado en otra variable\n",
    "evo = estado.evolve(qc)\n",
    "\n",
    "#Utilizamos el método .draw() para imprimir el vector de estado guardado en la variable evo, el cual es el resultado de aplicar\n",
    "#nuestro circuito al estado ogirinal. Usamos el parámetro latex para imprimir el vector de estado de manera más legible\n",
    "evo.draw(\"latex\")"
   ]
  },
  {
   "cell_type": "markdown",
   "id": "5fefd6c8",
   "metadata": {},
   "source": [
    "Como podemos ver, el vector de estado final tiene las amplitudes invertidas. Podemos comprobar que esto es lo esperado utilizando la propiedad de linealidad de los operadores cuánticos."
   ]
  },
  {
   "cell_type": "markdown",
   "id": "d7d3b006",
   "metadata": {},
   "source": [
    "$\\hspace{6 cm}$ $X\\left(\\dfrac{1}{\\sqrt{2}}|0\\rangle + \\dfrac{i}{\\sqrt{2}}|1\\rangle\\right) = \\dfrac{1}{\\sqrt{2}}X|0\\rangle + \\dfrac{i}{\\sqrt{2}}X|1\\rangle = \\dfrac{1}{\\sqrt{2}}|1\\rangle + \\dfrac{i}{\\sqrt{2}}|0\\rangle$"
   ]
  },
  {
   "cell_type": "markdown",
   "id": "b221f49c",
   "metadata": {},
   "source": [
    "*Nota: Al usar este método hay que tener cuidado. Si colocamos una medición en alguna parte de nuestro circuito, se generará un error al momento de utilizar el método .evolve(), pues no puede interpretar instrucciones clásicas. Puedes comprobar esto agregando una medición al circuito anterior y ejecutar la celda. Además, esta herramienta es solo un simulador. En hardware real no podemos extraer el vector de estado de nuestro qubit sin realizar una medición.*"
   ]
  },
  {
   "cell_type": "markdown",
   "id": "c6603da0",
   "metadata": {},
   "source": [
    "### Compuerta Z"
   ]
  },
  {
   "cell_type": "markdown",
   "id": "db1e3b1a",
   "metadata": {},
   "source": [
    "Esta compuerta no tiene una contraparte clásica, a diferencia de la anterior. Por ello, primero veamos su forma matricial"
   ]
  },
  {
   "cell_type": "markdown",
   "id": "fe3ffb51",
   "metadata": {},
   "source": [
    "$\\hspace{10 cm}$ $Z = \\begin{pmatrix} 1 & 0 \\\\ 0 & -1 \\end{pmatrix}$"
   ]
  },
  {
   "cell_type": "markdown",
   "id": "1f94a0d0",
   "metadata": {},
   "source": [
    "Ya con el operador $Z$ definido, podemos ver cómo afecta a los estados base"
   ]
  },
  {
   "cell_type": "markdown",
   "id": "f0628bac",
   "metadata": {},
   "source": [
    "- $Z|0\\rangle = |0\\rangle$.\n",
    "- $Z|1\\rangle = -|1\\rangle$"
   ]
  },
  {
   "cell_type": "markdown",
   "id": "46eaa384",
   "metadata": {},
   "source": [
    "Como podemos ver, el estado $|0\\rangle$ no se ve afectado en lo absoluto, mientras que el estado $|1\\rangle$ es multiplicado por un signo menos. Pero ¿qué efecto tiene este signo en nuestro estado? Si medimos nuestro qubit en este estado ¿qué valor obtendremos?<br>\n",
    "Usemos el simulador para averiguarlo."
   ]
  },
  {
   "cell_type": "code",
   "execution_count": null,
   "id": "f1696347",
   "metadata": {},
   "outputs": [],
   "source": [
    "#Creamos un circuito cuántico con un qubit y un bit\n",
    "qc = QuantumCircuit(1,1)\n",
    "\n",
    "#Convertimos el estado de nuestro qubit a |1>\n",
    "qc.x(0)\n",
    "\n",
    "#Aplicamos una compuerta z a nuestro qubit\n",
    "qc.z(0)\n",
    "\n",
    "#Medimos nuestro qubit\n",
    "qc.measure(0,0)\n",
    "\n",
    "#Dibujamos nuestro circuito\n",
    "qc.draw(output=\"mpl\")"
   ]
  },
  {
   "cell_type": "code",
   "execution_count": null,
   "id": "14d194bd",
   "metadata": {},
   "outputs": [],
   "source": [
    "#Ejecutamos nuestro circuito 100 veces\n",
    "job = AerSimulator().run(qc, shots=100)\n",
    "\n",
    "#Recuperamos los resultados y los imprimimos\n",
    "counts = job.result().get_counts(qc)\n",
    "print(counts)"
   ]
  },
  {
   "cell_type": "markdown",
   "id": "55415e3c",
   "metadata": {},
   "source": [
    "Como podemos ver, el resultado de nuestra medición sigue siendo 1 ¿Estará haciendo algo realmente la compuerta $Z$? Bueno, podemos usar el simulador de vectores de estado para averiguarlo (comenta la línea de la medición en el circuito que declaramos anteriormente y vuelve a ejecutar la celda)."
   ]
  },
  {
   "cell_type": "code",
   "execution_count": null,
   "id": "0f99f52e",
   "metadata": {},
   "outputs": [],
   "source": [
    "#Declaramos el estado inicial de nuestro qubit con el método .from_label(), que nos permite inicializar el estado [1,0] sin\n",
    "#necesidad de escribirlo directamente\n",
    "estado = Statevector.from_label(\"0\")\n",
    "\n",
    "#Aplicamos esta compuerta a nuestro qubit utilizando el método .evolve() y giardamos el resultado en otra variable\n",
    "evo = estado.evolve(qc)\n",
    "\n",
    "#Utilizamos el método .draw() para imprimir el vector de estado guardado en la variable evo, el cual es el resultado de aplicar\n",
    "#nuestro circuito al estado ogirinal. Usamos el parámetro latex para imprimir el vector de estado de manera más legible\n",
    "evo.draw(\"latex\")"
   ]
  },
  {
   "cell_type": "markdown",
   "id": "d6cd3202",
   "metadata": {},
   "source": [
    "Efectivamente, vemos el signo menos que produce el operador $Z$ en el vector de estado. Y aunque ambos estados $|1\\rangle$ y $-|1\\rangle$ son matemáticamente distintos, somos incapaces de diferenciarlos por medio de mediciones. Por lo tanto, desde el punto de vista experimental, son indistinguibles entre sí. Entonces ¿Para qué se utilizaría la compuerta $Z$ <br>\n",
    "Bueno, la respuesta la encontrarás en el siguiente notebook."
   ]
  },
  {
   "cell_type": "markdown",
   "id": "6bdf8cdd",
   "metadata": {},
   "source": [
    "Sin embargo, cabe destacar que los estados base son los *eigenestados* del operador $Z$, con *eigenvalores* $+1$ y $-1$. "
   ]
  },
  {
   "cell_type": "markdown",
   "id": "83810f4f",
   "metadata": {},
   "source": [
    "----"
   ]
  },
  {
   "cell_type": "markdown",
   "id": "52684681",
   "metadata": {},
   "source": [
    "De momento, vamos a comentar otra propiedad del operador $Z$, y es que al igual que el operador $X$ este es su propio inverso"
   ]
  },
  {
   "cell_type": "markdown",
   "id": "39f48d9e",
   "metadata": {},
   "source": [
    "$\\hspace{8 cm}$ $Z^{2} = \\begin{pmatrix} 1 & 0 \\\\ 0 & -1 \\end{pmatrix}\\begin{pmatrix} 1 & 0 \\\\ 0 & -1 \\end{pmatrix} = \\begin{pmatrix} 1 & 0 \\\\ 0 & 1 \\end{pmatrix} = I$"
   ]
  },
  {
   "cell_type": "markdown",
   "id": "6fef5243",
   "metadata": {},
   "source": [
    "### Compuerta Y"
   ]
  },
  {
   "cell_type": "markdown",
   "id": "5e6e3af1",
   "metadata": {},
   "source": [
    "Al igual que con la compuerta $Z$, vamos a dar primero la forma matricial de la compuerta $Y$"
   ]
  },
  {
   "cell_type": "markdown",
   "id": "726d1108",
   "metadata": {},
   "source": [
    "$\\hspace{10 cm}$ $Y = \\begin{pmatrix} 0 & -i \\\\ i & 0 \\end{pmatrix}$"
   ]
  },
  {
   "cell_type": "markdown",
   "id": "4b5a79ac",
   "metadata": {},
   "source": [
    "Y con el operador $Y$ definido, podemos ver cómo afecta a los estados base"
   ]
  },
  {
   "cell_type": "markdown",
   "id": "0cfe5277",
   "metadata": {},
   "source": [
    "- $Y|0\\rangle = i|1\\rangle$.\n",
    "- $Y|1\\rangle = -i|0\\rangle$."
   ]
  },
  {
   "cell_type": "markdown",
   "id": "a618a477",
   "metadata": {},
   "source": [
    "En este caso, la compuerta $Y$ intercambia la amplitud de los estados base (como lo hace la compuerta $X$) y además los multiplica por un valor adicional (en el caso del estado $|0\\rangle$ este valor es $i$, y en el caso del estado $|1\\rangle$ es $-i$)."
   ]
  },
  {
   "cell_type": "markdown",
   "id": "5bea0a70",
   "metadata": {},
   "source": [
    "Si utilizamos el simulador, nos daremos cuenta de que aunque el vector de estado es el que predice la teoría, los resultados de las mediciones no difieren de lo que esperaríamos para los estados base, tal y como sucedió con el estado $-|1\\rangle$ producido por la compuerta $Z$."
   ]
  },
  {
   "cell_type": "code",
   "execution_count": null,
   "id": "14238da3",
   "metadata": {},
   "outputs": [],
   "source": [
    "#Creamos un circuito cuántico con un qubit y un bit\n",
    "qc = QuantumCircuit(1,1)\n",
    "\n",
    "#Aplicamos una compuerta y a nuestro qubit\n",
    "qc.y(0)\n",
    "\n",
    "#Medimos nuestro qubit\n",
    "qc.measure(0,0)\n",
    "\n",
    "#Dibujamos nuestro circuito\n",
    "qc.draw(output=\"mpl\")"
   ]
  },
  {
   "cell_type": "code",
   "execution_count": null,
   "id": "c0043516",
   "metadata": {},
   "outputs": [],
   "source": [
    "#Ejecutamos nuestro circuito 100 veces\n",
    "job = AerSimulator().run(qc, shots=100)\n",
    "\n",
    "#Recuperamos los resultados y los imprimimos\n",
    "counts = job.result().get_counts(qc)\n",
    "print(counts)"
   ]
  },
  {
   "cell_type": "code",
   "execution_count": null,
   "id": "fcec8b13",
   "metadata": {},
   "outputs": [],
   "source": [
    "estado = Statevector.from_label(\"0\")\n",
    "\n",
    "#Aplicamos esta compuerta a nuestro qubit utilizando el método .evolve() y giardamos el resultado en otra variable\n",
    "evo = estado.evolve(qc)\n",
    "\n",
    "#Utilizamos el método .draw() para imprimir el vector de estado guardado en la variable evo, el cual es el resultado de aplicar\n",
    "#nuestro circuito al estado ogirinal. Usamos el parámetro latex para imprimir el vector de estado de manera más legible\n",
    "evo.draw(\"latex\")"
   ]
  },
  {
   "cell_type": "markdown",
   "id": "edfe1063",
   "metadata": {},
   "source": [
    "Lo mismo sucede si aplicamos la compuerta $Y$ al estado $|1\\rangle$"
   ]
  },
  {
   "cell_type": "code",
   "execution_count": null,
   "id": "86cb4262",
   "metadata": {},
   "outputs": [],
   "source": [
    "#Creamos un circuito cuántico con un qubit y un bit\n",
    "qc = QuantumCircuit(1,1)\n",
    "qc.x(0)\n",
    "\n",
    "#Aplicamos una compuerta y a nuestro qubit\n",
    "qc.y(0)\n",
    "\n",
    "#Medimos nuestro qubit\n",
    "qc.measure(0,0)\n",
    "\n",
    "#Dibujamos nuestro circuito\n",
    "qc.draw(output=\"mpl\")"
   ]
  },
  {
   "cell_type": "code",
   "execution_count": null,
   "id": "08448675",
   "metadata": {},
   "outputs": [],
   "source": [
    "#Ejecutamos nuestro circuito 100 veces\n",
    "job = AerSimulator().run(qc, shots=100)\n",
    "\n",
    "#Recuperamos los resultados y los imprimimos\n",
    "counts = job.result().get_counts(qc)\n",
    "print(counts)"
   ]
  },
  {
   "cell_type": "code",
   "execution_count": null,
   "id": "5bab5749",
   "metadata": {},
   "outputs": [],
   "source": [
    "estado = Statevector.from_label(\"0\")\n",
    "\n",
    "#Aplicamos esta compuerta a nuestro qubit utilizando el método .evolve() y giardamos el resultado en otra variable\n",
    "evo = estado.evolve(qc)\n",
    "\n",
    "#Utilizamos el método .draw() para imprimir el vector de estado guardado en la variable evo, el cual es el resultado de aplicar\n",
    "#nuestro circuito al estado ogirinal. Usamos el parámetro latex para imprimir el vector de estado de manera más legible\n",
    "evo.draw(\"latex\")"
   ]
  },
  {
   "cell_type": "markdown",
   "id": "d1802ae4",
   "metadata": {},
   "source": [
    "De esta forma, volvemos a comprobar que aunque los estados $|1\\rangle$, $-|1\\rangle$ e $i|1\\rangle$ son matemáticamente diferentes, son físicamente indistinguibles. Los tres estados nos devolverán el mismo valor de 1 al ser medidos, por lo que no tenemos forma de saber qué estado pudo haber generado nuestra respuesta. Lo mismo sucede con los estados $|0\\rangle$ y $-i|0\\rangle$, pues ambos devuelven 0 al ser medidos."
   ]
  },
  {
   "cell_type": "markdown",
   "id": "018c1da2",
   "metadata": {},
   "source": [
    "----"
   ]
  },
  {
   "cell_type": "markdown",
   "id": "781d9630",
   "metadata": {},
   "source": [
    "Y para finalizar con este trio de compuertas, tenemos que el operador $Y$ también es su propio inverso"
   ]
  },
  {
   "cell_type": "markdown",
   "id": "9b29120f",
   "metadata": {},
   "source": [
    "$\\hspace{8 cm}$ $Y^{2} = \\begin{pmatrix} 0 & -i \\\\ i & 0 \\end{pmatrix}\\begin{pmatrix} 0 & -i \\\\ i & 0 \\end{pmatrix} = \\begin{pmatrix} 1 & 0 \\\\ 0 & 1 \\end{pmatrix} = I$"
   ]
  },
  {
   "cell_type": "markdown",
   "id": "7701c2f8",
   "metadata": {},
   "source": [
    "### Extra: ¿Por qué las compuertas X, Y y Z tienen esa forma?"
   ]
  },
  {
   "cell_type": "markdown",
   "id": "e6257bac",
   "metadata": {},
   "source": [
    "Si alguna vez has llevado un curso de mecánica cuántica, es probable que la forma de los operadores $X$, $Y$ y $Z$ te parezcan familiares, y es que su forma no es arbitraria: son las matrices de Pauli."
   ]
  },
  {
   "cell_type": "markdown",
   "id": "b3b87542",
   "metadata": {},
   "source": [
    "El echo de que sean matrices de $2\\times 2$ (además de cumplir con todos los requisitos de un operador cuántico) las hace perfectas para usarlas sobre los vectores de dos dimensiones que representan los estados de nuestro qubit."
   ]
  }
 ],
 "metadata": {
  "kernelspec": {
   "display_name": "Python 3 (ipykernel)",
   "language": "python",
   "name": "python3"
  },
  "language_info": {
   "codemirror_mode": {
    "name": "ipython",
    "version": 3
   },
   "file_extension": ".py",
   "mimetype": "text/x-python",
   "name": "python",
   "nbconvert_exporter": "python",
   "pygments_lexer": "ipython3",
   "version": "3.11.7"
  }
 },
 "nbformat": 4,
 "nbformat_minor": 5
}
