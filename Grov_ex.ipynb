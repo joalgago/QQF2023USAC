{
 "cells": [
  {
   "cell_type": "markdown",
   "id": "aee2bacb",
   "metadata": {},
   "source": [
    "<img src=\"Imagenes/Mac_wallpaper_3.png\" width=\"50%\">"
   ]
  },
  {
   "cell_type": "code",
   "execution_count": null,
   "id": "6bfe5cd2",
   "metadata": {},
   "outputs": [],
   "source": [
    "!pip install \"qiskit[visualization]\" --user"
   ]
  },
  {
   "cell_type": "code",
   "execution_count": null,
   "id": "0fe2a72d",
   "metadata": {},
   "outputs": [],
   "source": [
    "!pip install qiskit-aer --user"
   ]
  },
  {
   "cell_type": "markdown",
   "id": "8020a3d1",
   "metadata": {},
   "source": [
    "# Identificar gráficas bipartitas"
   ]
  },
  {
   "cell_type": "markdown",
   "id": "d71d2675",
   "metadata": {},
   "source": [
    "Ahora, vamos a ver un ejemplo del uso del algoritmo de Grover como herramienta para resolver un problema concreto. Y para ello, vamos a utilizar una versión simplificada de un problema bastante conocido: el problema del corte máximo."
   ]
  },
  {
   "cell_type": "markdown",
   "id": "ba432c83",
   "metadata": {},
   "source": [
    "### El problema de corte máximo"
   ]
  },
  {
   "cell_type": "markdown",
   "id": "9dba8986",
   "metadata": {},
   "source": [
    "Supongamos que tenemos la siguiente figura"
   ]
  },
  {
   "cell_type": "markdown",
   "id": "17d67411",
   "metadata": {},
   "source": [
    "<img src=\"Imagenes/cuadrado.png\" width=\"20%\">"
   ]
  },
  {
   "cell_type": "markdown",
   "id": "ca07d641",
   "metadata": {},
   "source": [
    "En ella tenemos cuatro nodos o \"esquinas\", numeradas convenientemente de 0 a 3; además, tenemos cuatro líneas conectoras o \"lados\" en nuestra figura, que esencialmente es un cuadrado. Supongamos ahora que queremos marcar estos cuatro nodos de manera que queden separados en dos grupos: los que están pintados de rojo y los que están pintados de azul, por ejemplo. Esto nos permite hacer un \"corte\" en nuestra figura, el cual puede lucir de la siguiente manera"
   ]
  },
  {
   "cell_type": "markdown",
   "id": "a6af2e51",
   "metadata": {},
   "source": [
    "<img src=\"Imagenes/cuadrado_1.png\" width=\"20%\">"
   ]
  },
  {
   "cell_type": "markdown",
   "id": "e20e16f5",
   "metadata": {},
   "source": [
    "En este caso, la línea verde marca nuestro corte, el cual divide a nuestra figura en dos subconjuntos:"
   ]
  },
  {
   "cell_type": "markdown",
   "id": "0b69e536",
   "metadata": {},
   "source": [
    "$\\hspace{9 cm} A = \\{0,1\\} \\hspace{3 cm} B = \\{2,3\\} $"
   ]
  },
  {
   "cell_type": "markdown",
   "id": "ff9da359",
   "metadata": {},
   "source": [
    "Ahora, nos vamos a centrar en las líneas conectoras de nuestra figura y vamos a contar solamente las líneas que sean atravesadas por el delimitador de nuestro corte, es decir, por la línea verde. Estas son las que nos van a permitir identificar el \"tamaño\" de nuestro corte, el cual es de $2$ en este caso. "
   ]
  },
  {
   "cell_type": "markdown",
   "id": "87eb2eea",
   "metadata": {},
   "source": [
    "Es decir, el tamaño de nuestro corte es el número de líneas conectoras que conectan dos nodos que pertenecen a subconjuntos diferentes de nuestra partición"
   ]
  },
  {
   "cell_type": "markdown",
   "id": "cd9b060d",
   "metadata": {},
   "source": [
    "Y el objetivo del problema es encontrar el corte de máximo tamaño, el cual en este caso es fácil ver que se trata de $4$."
   ]
  },
  {
   "cell_type": "markdown",
   "id": "c279bc9d",
   "metadata": {},
   "source": [
    "Sin embargo, el circuito necesario para resolver un problema de corte máximo es un poco más complicado que los circuitos que hemos visto anteriormente, y requiere de varias subrutinas extras como sumadores y comparadores. Es por ello que nos vamos a dedicar a resolver una versión más sencilla de este problema: verificar si una gráfica es bipartita o no. "
   ]
  },
  {
   "cell_type": "markdown",
   "id": "7d783fff",
   "metadata": {},
   "source": [
    "### Gráficas bipartitas"
   ]
  },
  {
   "cell_type": "markdown",
   "id": "f4b51a3d",
   "metadata": {},
   "source": [
    "Una gráfica bipartita es aquella que admite un corte en el cual **ninguna** línea conectora conecta dos nodos que pertenecen a un mismo subconjunto de la partición. "
   ]
  },
  {
   "cell_type": "markdown",
   "id": "764dc8d8",
   "metadata": {},
   "source": [
    "Es decir, si tomamos la figura de la sección anterior como ejemplo veremos que esta es una gráfica bipartita: si coloreamos los nodos 0 y 3 de azul, y los nodos 1 y 2 de rojo, veremos que todas nuestras líneas conectoras van de un elemento rojo a uno azul."
   ]
  },
  {
   "cell_type": "markdown",
   "id": "4692265a",
   "metadata": {},
   "source": [
    "### Codificación del problema"
   ]
  },
  {
   "cell_type": "markdown",
   "id": "e36b4ac0",
   "metadata": {},
   "source": [
    "¡Muy bien! Ya sabemos que problema queremos resolver, ahora solo falta codificarlo en un circuito. Para ello, vamos a realizar los siguientes pasos:"
   ]
  },
  {
   "cell_type": "markdown",
   "id": "4b851650",
   "metadata": {},
   "source": [
    "- Vamos a asignar cada uno de los nodos a un qubit cada uno. Si el estado de nuestro qubit es 0, significa que el nodo correspondiente está pintado de azul; y si el estado de nuestro qubit es 1, entonces el nodo correspondiente está pintado de rojo. <br><br>\n",
    "- Vamos a asignar cada una de las líneas conectoras a un qubit cada una también. De esta manera si el estado de un qubit que representa una línea conectora es 0, entonces esta línea conecta dos nodos que tienen el mismo color; y si el estado de un qubit que representa una línea conectora es 1, entonces esta línea conecta dos nodos que tienen un color diferente.<br><br>\n",
    "- Vamos a utilizar un último qubit, el cual nos va a ayudar a verificar si nuestra partición cumple la condición que buscamos. Y esto se reduce a verificar que todos los qubits que representan líneas conectoras se encuentren en el estado 1."
   ]
  },
  {
   "cell_type": "markdown",
   "id": "45d128a4",
   "metadata": {},
   "source": [
    "De esta manera, si quisieramos resolver el caso de la gráfica que hemos usado como ejemplo utilizando el algoritmo de Grover, necesitaríamos: 4 qubits para los nodos, 4 qubits para las líneas conectoras y 1 qubit para verificar que tenemos la respuesta correcta. Es decir, necesitamos 9 qubits en total."
   ]
  },
  {
   "cell_type": "markdown",
   "id": "f416bba7",
   "metadata": {},
   "source": [
    "### Creación del oráculo"
   ]
  },
  {
   "cell_type": "markdown",
   "id": "fdce1a99",
   "metadata": {},
   "source": [
    "Como seguro recordarás de la construcción del algoritmo de Grover, el oráculo es el que se encarga de marcar la respuesta que estamos buscando, y por lo tanto, varía de problema en problema. En nuestro caso, necesitamos un oráculo que marque el (o los) estado(s) que representen una partición que cumpla los requisitos para considerarse una gráfica bipartita. Para ello, vamos a crear un oráculo que realice tres pasos:"
   ]
  },
  {
   "cell_type": "markdown",
   "id": "0036ba56",
   "metadata": {},
   "source": [
    "- Revisar si una línea conectora conecta dos nodos que pertenecen a un mismo subconjunto, o no. Esto se puede hacer utilizando dos compuertas CNOT tomando los qubits de los nodos como controles y el qubit de la línea conectora como objetivo. De esta manera si ambos qubits de los nodos se encuentran en el estado 1, aplicaremos dos compuertas NOT al qubit de la línea conectora (esto lo deja en el estado 0); y si ambos qubits de los nodos se encuentran en el estado 0, no haremos nada.<br><br>\n",
    "- Revisar que **todos** los qubits de las líneas conectoras estén en el estado 1. Esto se puede hacer con una compuerta Toffoli multicontrolada, tomando a los qubits de las líneas conectoras como controles y el qubit de verificación como el objetivo.<br><br>\n",
    "- Marcar solo los estados cuyo qubit de verificación se encuentre en el estado 1. Esta parte es bastante sencilla; solo necesitamos aplicar una compuerta $Z$ sobre el qubit de verificación."
   ]
  },
  {
   "cell_type": "markdown",
   "id": "caada7e6",
   "metadata": {},
   "source": [
    "Ahora, creemos un oráculo para nuestro ejemplo. Recuerda siempre tener en cuenta qué qubit representa qué línea conectora."
   ]
  },
  {
   "cell_type": "code",
   "execution_count": null,
   "id": "a9d60aa3",
   "metadata": {},
   "outputs": [],
   "source": [
    "from qiskit import QuantumCircuit, QuantumRegister, ClassicalRegister\n",
    "from qiskit.visualization import plot_histogram\n",
    "from qiskit_aer import AerSimulator\n",
    "\n",
    "def oracle(qc,nod,lin,ver):\n",
    "#Primero, revisamos las líneas conectoras\n",
    "    qc.cx(nod[0],lin[0]) #Empezamos con la línea conectora de los nodos 0-1\n",
    "    qc.cx(nod[1],lin[0])\n",
    "    \n",
    "    qc.cx(nod[0],lin[1]) #Línea conectora de los nodos 0-2\n",
    "    qc.cx(nod[2],lin[1])\n",
    "    \n",
    "    qc.cx(nod[1],lin[2]) #Línea conectora de los nodos 1-3\n",
    "    qc.cx(nod[3],lin[2])\n",
    "    \n",
    "    qc.cx(nod[2],lin[3]) #Línea conectora de los nodos 2-3\n",
    "    qc.cx(nod[3],lin[3])\n",
    "    \n",
    "#Ahora revisamos que todas las líneas conectoras se encuentren en el estado 1\n",
    "\n",
    "    qc.mcx([lin[0],lin[1],lin[2],lin[3]],ver[0])"
   ]
  },
  {
   "cell_type": "markdown",
   "id": "ab34adfa",
   "metadata": {},
   "source": [
    "Antes de marcar el estado que nos interesa, verifiquemos que nuestro oráculo realiza lo que le pedimos."
   ]
  },
  {
   "cell_type": "code",
   "execution_count": null,
   "id": "982a5a54",
   "metadata": {},
   "outputs": [],
   "source": [
    "nod = QuantumRegister(4, name=\"nod\")\n",
    "lin = QuantumRegister(4, name=\"lin\")\n",
    "ver = QuantumRegister(1, name=\"ver\")\n",
    "c = ClassicalRegister(1)\n",
    "\n",
    "qc = QuantumCircuit(nod,lin,ver,c)\n",
    "\n",
    "#Creamos el estado que querramos verificar\n",
    "#qc.x(nod[0])\n",
    "#qc.x(nod[1])\n",
    "#qc.x(nod[2])\n",
    "#qc.x(nod[3])\n",
    "\n",
    "#Aplicamos el oráculo\n",
    "\n",
    "oracle(qc,nod,lin,ver)\n",
    "\n",
    "#Medimos el registro de verificación\n",
    "\n",
    "qc.measure(ver,c)\n",
    "\n",
    "#Dibujamos nuestro circuito para ver cómo luce\n",
    "\n",
    "qc.draw(output=\"mpl\")"
   ]
  },
  {
   "cell_type": "code",
   "execution_count": null,
   "id": "2a14f75d",
   "metadata": {},
   "outputs": [],
   "source": [
    "#Ejecutamos nuestro circuito\n",
    "job = AerSimulator().run(qc, shots=10)\n",
    "counts = job.result().get_counts(qc)\n",
    "print(counts)"
   ]
  },
  {
   "cell_type": "markdown",
   "id": "87d3baff",
   "metadata": {},
   "source": [
    "¡Perfecto! Ahora, antes de proseguir con el último paso de nuestro oráculo, hay un detalle que debemos tener en cuenta: vamos a aplicar el oráculo múltiples veces en el algoritmo de Grover, por lo que es necesario que nuestro qubit de verificación y nuestros qubits de las líneas conectoras regresen al estado 0 antes de pasar a la siguiente iteración. Para ello, vamos a crear una nueva función que aplicará el inverso de nuestro oráculo."
   ]
  },
  {
   "cell_type": "code",
   "execution_count": null,
   "id": "a489c0fd",
   "metadata": {},
   "outputs": [],
   "source": [
    "def inverse_oracle(qc,nod,lin,ver):\n",
    "#Primero, regresamos el qubit de verificación al estado 0\n",
    "    qc.mcx([lin[0],lin[1],lin[2],lin[3]],ver[0])\n",
    "    \n",
    "#Y ahora, regresamos a los qubits de las líneas conectoras a 0 también\n",
    "    qc.cx(nod[0],lin[0]) #Empezamos con la línea conectora de los nodos 0-1\n",
    "    qc.cx(nod[1],lin[0])\n",
    "    \n",
    "    qc.cx(nod[0],lin[1]) #Línea conectora de los nodos 0-2\n",
    "    qc.cx(nod[2],lin[1])\n",
    "    \n",
    "    qc.cx(nod[1],lin[2]) #Línea conectora de los nodos 1-3\n",
    "    qc.cx(nod[3],lin[2])\n",
    "    \n",
    "    qc.cx(nod[2],lin[3]) #Línea conectora de los nodos 2-3\n",
    "    qc.cx(nod[3],lin[3])"
   ]
  },
  {
   "cell_type": "markdown",
   "id": "d082fc09",
   "metadata": {},
   "source": [
    "Y finalmente, creamos una tercera función que va a aplicar el oráculo (incluido el último paso) y luego aplicará su inverso"
   ]
  },
  {
   "cell_type": "code",
   "execution_count": null,
   "id": "a5de71df",
   "metadata": {},
   "outputs": [],
   "source": [
    "def oracle_computation(qc,nod,lin,ver):\n",
    "    oracle(qc,nod,lin,ver)\n",
    "    qc.z(ver[0]) #Marcamos la respuesta\n",
    "    inverse_oracle(qc,nod,lin,ver)"
   ]
  },
  {
   "cell_type": "markdown",
   "id": "a18e433b",
   "metadata": {},
   "source": [
    "### El algoritmo de Grover completo"
   ]
  },
  {
   "cell_type": "markdown",
   "id": "f4e88037",
   "metadata": {},
   "source": [
    "Finalmente, solo necesitamos nuestro operador de difusión para tener el algoritmo de Grover completo"
   ]
  },
  {
   "cell_type": "code",
   "execution_count": null,
   "id": "af3424e0",
   "metadata": {},
   "outputs": [],
   "source": [
    "def diffuser(qc,nod,n):\n",
    "#Primer paso\n",
    "    for i in range(n):\n",
    "        qc.h(nod[i])\n",
    "        qc.x(nod[i])\n",
    "#Segundo paso\n",
    "    qc.h(nod[n-1])\n",
    "    qc.mcx([nod[0],nod[1],nod[2]],nod[n-1])\n",
    "    qc.h(nod[n-1])\n",
    "#Tercer paso\n",
    "    for i in range(n):\n",
    "        qc.x(nod[i])\n",
    "        qc.h(nod[i])"
   ]
  },
  {
   "cell_type": "code",
   "execution_count": null,
   "id": "2e053e54",
   "metadata": {},
   "outputs": [],
   "source": [
    "nod = QuantumRegister(4, name=\"nod\")\n",
    "lin = QuantumRegister(4, name=\"lin\")\n",
    "ver = QuantumRegister(1, name=\"ver\")\n",
    "c = ClassicalRegister(4)\n",
    "\n",
    "qc = QuantumCircuit(nod,lin,ver,c)\n",
    "\n",
    "#Inicializamos el espacio de búsqueda\n",
    "for i in range(4):\n",
    "    qc.h(nod[i])\n",
    "\n",
    "#Aplicamos el oráculo completo y el difusor 2 veces\n",
    "for i in range(2):\n",
    "    oracle_computation(qc,nod,lin,ver)\n",
    "    diffuser(qc,nod,4)\n",
    "\n",
    "#Medimos el registro de los nodos\n",
    "\n",
    "qc.measure(nod,c)\n",
    "\n",
    "#Ejecutamos nuestro circuito\n",
    "job = AerSimulator().run(qc, shots=100)\n",
    "counts = job.result().get_counts(qc)\n",
    "print(counts)\n",
    "#Graficamos nuestros resultados en un histograma\n",
    "plot_histogram(counts)"
   ]
  },
  {
   "cell_type": "markdown",
   "id": "da533389",
   "metadata": {},
   "source": [
    "Como puedes ver, las cadenas de bits que más veces medimos resultaron ser $0110$ y $1001$, las cuales corresponden a los nodos 0 y 3 de un color (rojo o azul) y los nodos 1 y 2 de otro color (azul o rojo). "
   ]
  },
  {
   "cell_type": "markdown",
   "id": "575cdd61",
   "metadata": {},
   "source": [
    "### Ejemplo #2"
   ]
  },
  {
   "cell_type": "markdown",
   "id": "63828798",
   "metadata": {},
   "source": [
    "Ahora, veamos qué sucede cuando una gráfica no es bipartita. Tomemos la siguiente gráfica como un ejemplo:"
   ]
  },
  {
   "cell_type": "markdown",
   "id": "74fe5fb0",
   "metadata": {},
   "source": [
    "<img src=\"Imagenes/triangulo.png\" width=\"20%\">"
   ]
  },
  {
   "cell_type": "markdown",
   "id": "ef48abd9",
   "metadata": {},
   "source": [
    "Como podemos ver, no hay forma de pintar este triángulo de manera que todas nuestras líneas conectoras se encuentren entre dos nodos de distinto color. Veamos qué sucede si aplicamos nuestro algoritmo de Grover a este problema. En este caso, y para poder usar un operador de difusión general, vamos a seleccionar:"
   ]
  },
  {
   "cell_type": "markdown",
   "id": "c0e5870b",
   "metadata": {},
   "source": [
    "1. Qubits 0-2 como los nodos.\n",
    "1. Qubits 3-5 como las líneas conectoras.\n",
    "1. Qubit 6 como el de verificación."
   ]
  },
  {
   "cell_type": "code",
   "execution_count": null,
   "id": "f9943d82",
   "metadata": {},
   "outputs": [],
   "source": [
    "def oracle2(qc):\n",
    "#Primero, revisamos las líneas conectoras\n",
    "    qc.cx(0,3) #Empezamos con la línea conectora de los nodos 0-1\n",
    "    qc.cx(1,3)\n",
    "    \n",
    "    qc.cx(0,4) #Línea conectora de los nodos 0-2\n",
    "    qc.cx(2,4)\n",
    "    \n",
    "    qc.cx(1,5) #Línea conectora de los nodos 1-2\n",
    "    qc.cx(2,5)\n",
    "    \n",
    "#Ahora revisamos que todas las líneas conectoras se encuentren en el estado 1\n",
    "\n",
    "    qc.mcx([3,4,5],6)"
   ]
  },
  {
   "cell_type": "code",
   "execution_count": null,
   "id": "eecbbd05",
   "metadata": {},
   "outputs": [],
   "source": [
    "def inverse_oracle2(qc):\n",
    "\n",
    "    qc.mcx([3,4,5],6)\n",
    "    \n",
    "    qc.cx(0,3) #línea conectora de los nodos 0-1\n",
    "    qc.cx(1,3)\n",
    "    \n",
    "    qc.cx(0,4) #Línea conectora de los nodos 0-2\n",
    "    qc.cx(2,4)\n",
    "    \n",
    "    qc.cx(1,5) #Línea conectora de los nodos 1-2\n",
    "    qc.cx(2,5)"
   ]
  },
  {
   "cell_type": "code",
   "execution_count": null,
   "id": "549a4d7f",
   "metadata": {},
   "outputs": [],
   "source": [
    "def oracle_computation2(qc):\n",
    "    oracle2(qc)\n",
    "    qc.z(6) #Marcamos la respuesta\n",
    "    inverse_oracle2(qc)"
   ]
  },
  {
   "cell_type": "code",
   "execution_count": null,
   "id": "6a68453d",
   "metadata": {},
   "outputs": [],
   "source": [
    "def diffuser(qc,n):\n",
    "#Primer paso\n",
    "    for i in range(n):\n",
    "        qc.h(i)\n",
    "        qc.x(i)\n",
    "#Segundo paso\n",
    "    qc.h(n-1)\n",
    "    qc.mcx(list(range(n-1)),n-1)\n",
    "    qc.h(n-1)\n",
    "#Tercer paso\n",
    "    for i in range(n):\n",
    "        qc.x(i)\n",
    "        qc.h(i)"
   ]
  },
  {
   "cell_type": "code",
   "execution_count": null,
   "id": "79ba7123",
   "metadata": {},
   "outputs": [],
   "source": [
    "qc = QuantumCircuit(7,3)\n",
    "\n",
    "#Inicializamos el espacio de búsqueda\n",
    "for i in range(3):\n",
    "    qc.h(i)\n",
    "\n",
    "#Aplicamos el oráculo completo y el difusor 1 vez\n",
    "oracle_computation2(qc)\n",
    "diffuser(qc,3)\n",
    "\n",
    "#Medimos los nodos\n",
    "\n",
    "qc.measure([0,1,2],[0,1,2])\n",
    "\n",
    "#Ejecutamos nuestro circuito\n",
    "job = AerSimulator().run(qc, shots=100)\n",
    "counts = job.result().get_counts(qc)\n",
    "print(counts)\n",
    "#Graficamos nuestros resultados en un histograma\n",
    "plot_histogram(counts)"
   ]
  }
 ],
 "metadata": {
  "kernelspec": {
   "display_name": "Python 3 (ipykernel)",
   "language": "python",
   "name": "python3"
  },
  "language_info": {
   "codemirror_mode": {
    "name": "ipython",
    "version": 3
   },
   "file_extension": ".py",
   "mimetype": "text/x-python",
   "name": "python",
   "nbconvert_exporter": "python",
   "pygments_lexer": "ipython3",
   "version": "3.11.7"
  }
 },
 "nbformat": 4,
 "nbformat_minor": 5
}
