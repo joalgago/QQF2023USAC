{
 "cells": [
  {
   "cell_type": "markdown",
   "id": "2ada4e7c",
   "metadata": {},
   "source": [
    "<img src=\"Imagenes/Mac_wallpaper_3.png\" width=\"50%\">"
   ]
  },
  {
   "cell_type": "markdown",
   "id": "7c067da5",
   "metadata": {},
   "source": [
    "# Representación gráfica de un qubit"
   ]
  },
  {
   "cell_type": "markdown",
   "id": "024df8be",
   "metadata": {},
   "source": [
    "### Esfera de Bloch"
   ]
  },
  {
   "cell_type": "markdown",
   "id": "7122c204",
   "metadata": {},
   "source": [
    "Aunque no lo parezca a simple vista, es posible graficar el estado de un qubit. Si bien necesitamos de *4* parámetros reales para representar el estado más general de un qubit, la restricción de que la norma del vector de estado debe ser igual a *1* nos permite deshacernos de un parámetro, pues este quedará fijado por nuestra restricción una vez que hallamos escogido libremente los otros *3*. De esta forma, realmente solo tenemos **3** parámetros reales en la expresión"
   ]
  },
  {
   "cell_type": "markdown",
   "id": "43c52787",
   "metadata": {},
   "source": [
    "$\\hspace{7 cm} |\\psi\\rangle = a|0\\rangle + be^{i\\phi}|1\\rangle \\hspace{0.5 cm}$ donde $\\hspace{0.5 cm}a,b > 0 \\hspace{0.5 cm}$ y $\\hspace{0.5 cm} \\phi \\in [0,2\\pi)$"
   ]
  },
  {
   "cell_type": "markdown",
   "id": "5c845729",
   "metadata": {},
   "source": [
    "Los cuales son $a,b$ y $\\phi$. Esto nos permite representar los estados de nuestro qubit en una figura en tres dimensiones, escogiendo los ejes apropiadamente. Esta representación se conoce como la **esfera de Bloch**, y es una esfera unitaria, pues la norma de nuestros vectores de estado es siempre igual a *1*. De esta forma, y sabiendo que $a^{2} + b^{2} = 1$, tenemos que podemos reescribir el estado general de un qubit como"
   ]
  },
  {
   "cell_type": "markdown",
   "id": "e7c6541f",
   "metadata": {},
   "source": [
    "$\\hspace{6 cm} |\\psi\\rangle = \\cos\\left(\\dfrac{\\theta}{2}\\right)|0\\rangle + \\sin\\left(\\dfrac{\\theta}{2}\\right)e^{i\\phi}|1\\rangle \\hspace{0.5 cm}$ donde $\\hspace{0.5 cm} \\theta \\in [0,\\pi] \\hspace{0.5 cm}$ y $\\hspace{0.5 cm} \\phi \\in [0,2\\pi)$"
   ]
  },
  {
   "cell_type": "markdown",
   "id": "c7245365",
   "metadata": {},
   "source": [
    "Donde se utiliza $\\frac{\\theta}{2}$ en lugar de $\\theta$ porque $|0\\rangle$ y $|1\\rangle$ se colocan en lados opuestos de uno de los ejes de la esfera."
   ]
  },
  {
   "cell_type": "markdown",
   "id": "7e5969d3",
   "metadata": {},
   "source": [
    "<img src=\"Imagenes/Bloch.png\" width=\"30%\">"
   ]
  },
  {
   "cell_type": "markdown",
   "id": "b4598ba1",
   "metadata": {},
   "source": [
    "Como podemos ver en la imagen superior, los estados $|0\\rangle$ y $|1\\rangle$ se encuentran en los lados opuestos del eje $z$. Esto se debe a que ambos son los autovalores del operador $z$. De la misma forma, los estados que se encuentran sobre los ejes $x$, $y$ son los autovalores de los operadores $x$, $y$ respectivamente."
   ]
  },
  {
   "cell_type": "markdown",
   "id": "634b3346",
   "metadata": {},
   "source": [
    "*Nota: Los estados $|0\\rangle$ y $|1\\rangle$ son considerados la **base computacional** porque todas las computadoras cuánticas realizan mediciones en el eje z, por lo que los únicos vectores que se pueden usar como la base son los autoestados del operador z. Cualquier otro estado daría resultados aleatorios al medirlo en este eje. Por ello, cada vez que agregamos una medición a un circuito estamos midiendo sobre el eje z.* <br>\n",
    "*El eje z no tiene nada de especial con respecto a los otras dos, simplemente se escogió por convención. Y aunque es posible hacer mediciones sobre otros ejes, no las tomaremos en cuenta en este taller.*"
   ]
  },
  {
   "cell_type": "markdown",
   "id": "916c09db",
   "metadata": {},
   "source": [
    "Qiskit posee una función especial para graficar qubits utilizando su vector de estado."
   ]
  },
  {
   "cell_type": "code",
   "execution_count": null,
   "id": "f6837d9a",
   "metadata": {
    "scrolled": false
   },
   "outputs": [],
   "source": [
    "from qiskit import QuantumCircuit, execute, Aer\n",
    "from qiskit.visualization import plot_bloch_multivector\n",
    "from math import sqrt\n",
    "\n",
    "#Creamos un circuito cuántico con un qubit y un bit clásico\n",
    "qc = QuantumCircuit(1,1)\n",
    "\n",
    "#Ejecutamos nuestro circuito y guardamos el vector de estado final\n",
    "job = execute(qc,Aer.get_backend('statevector_simulator'),optimization_level=0)\n",
    "\n",
    "#Recuperamos el vector de estado final y lo imprimimos\n",
    "precision = 3 #Indicamos que los valores del vector de estado tengan solo 3 cifras significativas\n",
    "vector_estado = job.result().get_statevector(qc,precision).data\n",
    "print(vector_estado)\n",
    "plot_bloch_multivector(vector_estado)"
   ]
  },
  {
   "cell_type": "markdown",
   "id": "127efc41",
   "metadata": {},
   "source": [
    "Veamos ahora uno de los dos autovectores de los operadores $x$, $y$"
   ]
  },
  {
   "cell_type": "code",
   "execution_count": null,
   "id": "e4e33f48",
   "metadata": {},
   "outputs": [],
   "source": [
    "qc = QuantumCircuit(1,1)\n",
    "qc.h(0)\n",
    "job = execute(qc,Aer.get_backend('statevector_simulator'),optimization_level=0)\n",
    "\n",
    "#Recuperamos el vector de estado final y lo imprimimos\n",
    "precision = 3 #Indicamos que los valores del vector de estado tengan solo 3 cifras significativas\n",
    "vector_estado = job.result().get_statevector(qc,precision).data\n",
    "print(vector_estado)\n",
    "plot_bloch_multivector(vector_estado)"
   ]
  },
  {
   "cell_type": "code",
   "execution_count": null,
   "id": "2df25e82",
   "metadata": {},
   "outputs": [],
   "source": [
    "qc = QuantumCircuit(1,1)\n",
    "\n",
    "estado = [1/sqrt(2),1j/sqrt(2)] \n",
    "qc.initialize(estado, 0)\n",
    "\n",
    "job = execute(qc,Aer.get_backend('statevector_simulator'),optimization_level=0)\n",
    "\n",
    "#Recuperamos el vector de estado final y lo imprimimos\n",
    "precision = 3 #Indicamos que los valores del vector de estado tengan solo 3 cifras significativas\n",
    "vector_estado = job.result().get_statevector(qc,precision).data\n",
    "print(vector_estado)\n",
    "plot_bloch_multivector(vector_estado)"
   ]
  },
  {
   "cell_type": "markdown",
   "id": "d6fbb228",
   "metadata": {},
   "source": [
    "Ahora probemos con un estado cualquiera"
   ]
  },
  {
   "cell_type": "code",
   "execution_count": null,
   "id": "63fbc4d3",
   "metadata": {},
   "outputs": [],
   "source": [
    "qc = QuantumCircuit(1,1)\n",
    "\n",
    "estado = [1/sqrt(3),(1+1j)/sqrt(3)] \n",
    "qc.initialize(estado, 0)\n",
    "\n",
    "job = execute(qc,Aer.get_backend('statevector_simulator'),optimization_level=0)\n",
    "\n",
    "#Recuperamos el vector de estado final y lo imprimimos\n",
    "precision = 3 #Indicamos que los valores del vector de estado tengan solo 3 cifras significativas\n",
    "vector_estado = job.result().get_statevector(qc,precision).data\n",
    "print(vector_estado)\n",
    "plot_bloch_multivector(vector_estado)"
   ]
  },
  {
   "cell_type": "markdown",
   "id": "63e8ad58",
   "metadata": {},
   "source": [
    "### Rotaciones"
   ]
  },
  {
   "cell_type": "markdown",
   "id": "c93a9987",
   "metadata": {},
   "source": [
    "Ahora que ya conoces la esfera de Bloch, es buen momento para introducir los operadores de rotaciones alrededor de los tres ejes de la esfera. Si bien cualquier cualquier operador válido que actúe sobre un qubit es una rotación en la esfera de Bloch (incluidos los operadores que hemos visto hasta ahora), vamos a ver la forma más general de dichas rotaciones."
   ]
  },
  {
   "cell_type": "markdown",
   "id": "57f239d9",
   "metadata": {},
   "source": [
    "- Empezaremos con la rotación alrededor del eje $z$:"
   ]
  },
  {
   "cell_type": "markdown",
   "id": "6850b14a",
   "metadata": {},
   "source": [
    "$\\hspace{10 cm} RZ(\\phi) = \\begin{pmatrix} e^{-\\frac{i\\phi}{2}} & 0 \\\\ 0 & e^{\\frac{i\\phi}{2}} \\end{pmatrix}$"
   ]
  },
  {
   "cell_type": "markdown",
   "id": "368018cc",
   "metadata": {},
   "source": [
    "La sintaxis para esta compuerta es *qc.rz(angulo,qubit)* donde el ángulo se debe dar en radianes. A continuación se presenta un código simple donde hemos colocado al qubit en superposición (de lo contrario la rotación alrededor del eje $z$ no sería visible en la esfera de Bloch) y luego se realiza una rotación. Siéntete libre de cambiar el ángulo y jugar con la rotación hasta que estés seguro de que entiendes su efecto."
   ]
  },
  {
   "cell_type": "code",
   "execution_count": null,
   "id": "b834e038",
   "metadata": {},
   "outputs": [],
   "source": [
    "from math import pi\n",
    "qc = QuantumCircuit(1,1)\n",
    "qc.h(0)\n",
    "qc.rz(7*pi/11,0)\n",
    "job = execute(qc,Aer.get_backend('statevector_simulator'),optimization_level=0)\n",
    "\n",
    "#Recuperamos el vector de estado final y lo imprimimos\n",
    "precision = 3 #Indicamos que los valores del vector de estado tengan solo 3 cifras significativas\n",
    "vector_estado = job.result().get_statevector(qc,precision).data\n",
    "print(vector_estado)\n",
    "plot_bloch_multivector(vector_estado)"
   ]
  },
  {
   "cell_type": "markdown",
   "id": "8f7e02b6",
   "metadata": {},
   "source": [
    "Otra compuerta que se utiliza para hacer rotaciones sobre el eje $z$ es la compuerta $P$, que a diferencia de la compuerta $RZ$ solo afecta la fase del vector $|1\\rangle$. Su forma matricial es"
   ]
  },
  {
   "cell_type": "markdown",
   "id": "5ad6a334",
   "metadata": {},
   "source": [
    "$\\hspace{10.5 cm} P(\\lambda) = \\begin{pmatrix} 1 & 0 \\\\ 0 & e^{i\\lambda} \\end{pmatrix}$"
   ]
  },
  {
   "cell_type": "markdown",
   "id": "8f6410f3",
   "metadata": {},
   "source": [
    "De esta forma podemos ver que la compuerta $Z$ no es más que una rotación de $\\pi$ radianes sobre el eje $z$, pues"
   ]
  },
  {
   "cell_type": "markdown",
   "id": "755c57fe",
   "metadata": {},
   "source": [
    "$\\hspace{8.5 cm} Z = P(\\pi) = \\begin{pmatrix} 1 & 0 \\\\ 0 & e^{i\\pi} \\end{pmatrix} = \\begin{pmatrix} 1 & 0 \\\\ 0 & -1 \\end{pmatrix}$"
   ]
  },
  {
   "cell_type": "markdown",
   "id": "0d700749",
   "metadata": {},
   "source": [
    "Además, vemos que $P$ es equivalente a $RZ$ más una fase global"
   ]
  },
  {
   "cell_type": "markdown",
   "id": "97fc7b4c",
   "metadata": {},
   "source": [
    "$\\hspace{6.5 cm} RZ(\\phi) = \\begin{pmatrix} e^{-\\frac{i\\phi}{2}} & 0 \\\\ 0 & e^{\\frac{i\\phi}{2}} \\end{pmatrix} = e^{-\\frac{i\\phi}{2}}\\begin{pmatrix} 1 & 0 \\\\ 0 & e^{i\\phi} \\end{pmatrix} = e^{-\\frac{i\\phi}{2}}P(\\phi)$"
   ]
  },
  {
   "cell_type": "markdown",
   "id": "46bac8af",
   "metadata": {},
   "source": [
    "Y ya que las fases globales pueden ser ignoradas, utilizar la compuerta $P$ dará el mismo resultado experimental y en la esfera de Bloch que la compuerta $RZ$, aunque el vector de estado resultante sea diferente."
   ]
  },
  {
   "cell_type": "code",
   "execution_count": null,
   "id": "17683a76",
   "metadata": {},
   "outputs": [],
   "source": [
    "qc = QuantumCircuit(1,1)\n",
    "qc.h(0)\n",
    "qc.p(7*pi/11,0)\n",
    "job = execute(qc,Aer.get_backend('statevector_simulator'),optimization_level=0)\n",
    "\n",
    "#Recuperamos el vector de estado final y lo imprimimos\n",
    "precision = 3 #Indicamos que los valores del vector de estado tengan solo 3 cifras significativas\n",
    "vector_estado = job.result().get_statevector(qc,precision).data\n",
    "print(vector_estado)\n",
    "plot_bloch_multivector(vector_estado)"
   ]
  },
  {
   "cell_type": "markdown",
   "id": "f3230e8e",
   "metadata": {},
   "source": [
    "- Ahora, seguimos con la rotación alrededor del eje $y$:"
   ]
  },
  {
   "cell_type": "markdown",
   "id": "c17b9e58",
   "metadata": {},
   "source": [
    "$\\hspace{9 cm} RY(\\theta) = \\begin{pmatrix} \\cos\\frac{\\theta}{2} & -\\sin\\frac{\\theta}{2} \\\\ \\sin\\frac{\\theta}{2} & \\cos\\frac{\\theta}{2} \\end{pmatrix}$"
   ]
  },
  {
   "cell_type": "markdown",
   "id": "2a61e7cd",
   "metadata": {},
   "source": [
    "La sintaxis es similar a las anteriores compuertas que hemos visto. Nuevamente, dejamos una porción de código para que juegues con la rotación."
   ]
  },
  {
   "cell_type": "code",
   "execution_count": null,
   "id": "d8cf520e",
   "metadata": {},
   "outputs": [],
   "source": [
    "qc = QuantumCircuit(1,1)\n",
    "qc.ry(7*pi/10,0)\n",
    "job = execute(qc,Aer.get_backend('statevector_simulator'),optimization_level=0)\n",
    "\n",
    "#Recuperamos el vector de estado final y lo imprimimos\n",
    "precision = 3 #Indicamos que los valores del vector de estado tengan solo 3 cifras significativas\n",
    "vector_estado = job.result().get_statevector(qc,precision).data\n",
    "print(vector_estado)\n",
    "plot_bloch_multivector(vector_estado)"
   ]
  },
  {
   "cell_type": "markdown",
   "id": "734718b5",
   "metadata": {},
   "source": [
    "De la misma manera que $Z$ es una rotación de $\\pi$ radianes sobre el eje $z$, la compuerta $Y$ es una rotación de $\\pi$ radianes sobre el eje $y$ más una fase global"
   ]
  },
  {
   "cell_type": "markdown",
   "id": "3030a66f",
   "metadata": {},
   "source": [
    "$\\hspace{6 cm} RY(\\pi) = \\begin{pmatrix} \\cos\\frac{\\pi}{2} & -\\sin\\frac{\\pi}{2} \\\\ \\sin\\frac{\\pi}{2} & \\cos\\frac{\\pi}{2} \\end{pmatrix} = \\begin{pmatrix} 0 & -1 \\\\ 1 & 0 \\end{pmatrix} = -i\\begin{pmatrix} 0 & -i \\\\ i & 0 \\end{pmatrix} = -iY$"
   ]
  },
  {
   "cell_type": "markdown",
   "id": "db67cb6b",
   "metadata": {},
   "source": [
    "- Ahora, toca la rotación alrededor del eje $x$:"
   ]
  },
  {
   "cell_type": "markdown",
   "id": "e704afd5",
   "metadata": {},
   "source": [
    "$\\hspace{9 cm} RX(\\theta) = \\begin{pmatrix} \\cos\\frac{\\theta}{2} & -i\\sin\\frac{\\theta}{2} \\\\ -i\\sin\\frac{\\theta}{2} & \\cos\\frac{\\theta}{2} \\end{pmatrix}$"
   ]
  },
  {
   "cell_type": "markdown",
   "id": "6149cefe",
   "metadata": {},
   "source": [
    "La sintaxis es similar a las anteriores compuertas que hemos visto. Nuevamente, dejamos una porción de código para que juegues con la rotación."
   ]
  },
  {
   "cell_type": "code",
   "execution_count": null,
   "id": "9469b3a1",
   "metadata": {},
   "outputs": [],
   "source": [
    "qc = QuantumCircuit(1,1)\n",
    "qc.rx(7*pi/8,0)\n",
    "job = execute(qc,Aer.get_backend('statevector_simulator'),optimization_level=0)\n",
    "\n",
    "#Recuperamos el vector de estado final y lo imprimimos\n",
    "precision = 3 #Indicamos que los valores del vector de estado tengan solo 3 cifras significativas\n",
    "vector_estado = job.result().get_statevector(qc,precision).data\n",
    "print(vector_estado)\n",
    "plot_bloch_multivector(vector_estado)"
   ]
  },
  {
   "cell_type": "markdown",
   "id": "0d83c6bd",
   "metadata": {},
   "source": [
    "Nuevamente, la compuerta $X$ es una rotación de $\\pi$ radianes sobre el eje $x$ más una fase global"
   ]
  },
  {
   "cell_type": "markdown",
   "id": "348ee7fb",
   "metadata": {},
   "source": [
    "$\\hspace{6 cm} RX(\\pi) = \\begin{pmatrix} \\cos\\frac{\\pi}{2} & -i\\sin\\frac{\\pi}{2} \\\\ -i\\sin\\frac{\\pi}{2} & \\cos\\frac{\\pi}{2} \\end{pmatrix} = \\begin{pmatrix} 0 & -i \\\\ -i & 0 \\end{pmatrix} = -i\\begin{pmatrix} 0 & 1 \\\\ 1 & 0 \\end{pmatrix} = -iX$"
   ]
  },
  {
   "cell_type": "markdown",
   "id": "f6f71142",
   "metadata": {},
   "source": [
    "- Finalmente, tenemos la rotación general:"
   ]
  },
  {
   "cell_type": "markdown",
   "id": "7cb74f1b",
   "metadata": {},
   "source": [
    "$\\hspace{8 cm} U(\\theta,\\phi,\\lambda) = \\begin{pmatrix} \\cos\\frac{\\theta}{2} & -e^{i\\lambda}\\sin\\frac{\\theta}{2} \\\\ e^{i\\phi}\\sin\\frac{\\theta}{2} & e^{i(\\lambda+\\phi)}\\cos\\frac{\\theta}{2} \\end{pmatrix}$"
   ]
  },
  {
   "cell_type": "markdown",
   "id": "a79a29db",
   "metadata": {},
   "source": [
    "Su sintaxis es *qc.u($\\theta$,$\\phi$,$\\lambda$,qubit)*, en ese orden, y con todos los ángulos siempre en radianes."
   ]
  },
  {
   "cell_type": "code",
   "execution_count": null,
   "id": "12f0af9c",
   "metadata": {},
   "outputs": [],
   "source": [
    "qc = QuantumCircuit(1,1)\n",
    "qc.u(7*pi/8,7*pi/10,7*pi/9,0)\n",
    "job = execute(qc,Aer.get_backend('statevector_simulator'),optimization_level=0)\n",
    "\n",
    "#Recuperamos el vector de estado final y lo imprimimos\n",
    "precision = 3 #Indicamos que los valores del vector de estado tengan solo 3 cifras significativas\n",
    "vector_estado = job.result().get_statevector(qc,precision).data\n",
    "print(vector_estado)\n",
    "plot_bloch_multivector(vector_estado)"
   ]
  },
  {
   "cell_type": "markdown",
   "id": "743d5140",
   "metadata": {},
   "source": [
    "Cabe mencionar que cada una de las rotaciones que vimos previamente es un caso especial de la compuerta $U$"
   ]
  },
  {
   "cell_type": "markdown",
   "id": "5bd6a870",
   "metadata": {},
   "source": [
    "- $P(\\lambda) = U(0,0,\\lambda)$\n",
    "- $RY(\\theta) = U(\\theta,0,0)$\n",
    "- $RX(\\theta) = U\\left(\\theta,-\\dfrac{\\pi}{2},\\dfrac{\\pi}{2}\\right)$"
   ]
  },
  {
   "cell_type": "markdown",
   "id": "ffdc9885",
   "metadata": {},
   "source": [
    "De echo, cualquier compuerta que puedas imaginar es un caso especial de la compuerta $U$, incluso aquellas que parecen no tener relación con rotaciones, como la compuerta de Hadamard"
   ]
  },
  {
   "cell_type": "markdown",
   "id": "eedbc7fb",
   "metadata": {},
   "source": [
    "$\\hspace{6 cm} H = U\\left(\\dfrac{\\pi}{2},0,\\pi\\right) = \\begin{pmatrix} \\cos\\frac{\\pi}{4} & -e^{i\\pi}\\sin\\frac{\\pi}{4} \\\\ \\sin\\frac{\\pi}{4} & e^{i\\pi}\\cos\\frac{\\pi}{4} \\end{pmatrix} = \\begin{pmatrix}\\frac{1}{\\sqrt{2}} & \\frac{1}{\\sqrt{2}} \\\\ \\frac{1}{\\sqrt{2}} & -\\frac{1}{\\sqrt{2}}\\end{pmatrix}$"
   ]
  },
  {
   "cell_type": "markdown",
   "id": "74a7de69",
   "metadata": {},
   "source": [
    "### Extra"
   ]
  },
  {
   "cell_type": "markdown",
   "id": "15e81c86",
   "metadata": {},
   "source": [
    "Si bien cualquier compuerta se puede escribir como una compuerta $U$ con los parámetros adecuados, esto no se suele hacer ya que en los diagramas es más fácil leer el símbolo $H$, por ejemplo, y saber qué es lo que hace la compuerta, a diferencia del símbolo $U(\\pi/2,0,\\pi)$. Incluso es más fácil leer las rotaciones en un diagrama, pues estas solo dependen de un parámetro, a diferencia de los tres parámetros de la compuerta $U$."
   ]
  },
  {
   "cell_type": "markdown",
   "id": "fff63dcd",
   "metadata": {},
   "source": [
    "Y para aquellos que tengan curiosidad, las compuertas $X$, $Y$ y $Z$ generan las rotaciones respectivas al exponenciarse:"
   ]
  },
  {
   "cell_type": "markdown",
   "id": "5afd0e7b",
   "metadata": {},
   "source": [
    "- $RZ(\\phi) = e^{-iZ\\phi/2}$\n",
    "- $RY(\\theta) = e^{-iY\\theta/2}$\n",
    "- $RX(\\theta) = e^{-iX\\theta/2}$"
   ]
  }
 ],
 "metadata": {
  "kernelspec": {
   "display_name": "Python 3 (ipykernel)",
   "language": "python",
   "name": "python3"
  },
  "language_info": {
   "codemirror_mode": {
    "name": "ipython",
    "version": 3
   },
   "file_extension": ".py",
   "mimetype": "text/x-python",
   "name": "python",
   "nbconvert_exporter": "python",
   "pygments_lexer": "ipython3",
   "version": "3.10.9"
  }
 },
 "nbformat": 4,
 "nbformat_minor": 5
}
