{
 "cells": [
  {
   "cell_type": "markdown",
   "id": "5b2f7a92",
   "metadata": {},
   "source": [
    "<img src=\"Imagenes/Mac_wallpaper_3.png\" width=\"50%\">"
   ]
  },
  {
   "cell_type": "code",
   "execution_count": null,
   "id": "6bfe5cd2",
   "metadata": {},
   "outputs": [],
   "source": [
    "!pip install \"qiskit[visualization]\" --user"
   ]
  },
  {
   "cell_type": "code",
   "execution_count": null,
   "id": "0fe2a72d",
   "metadata": {},
   "outputs": [],
   "source": [
    "!pip install qiskit-aer --user"
   ]
  },
  {
   "cell_type": "markdown",
   "id": "3a24081c",
   "metadata": {},
   "source": [
    "# Algoritmo de Deutsch-Jozsa"
   ]
  },
  {
   "cell_type": "markdown",
   "id": "1d9f7c98",
   "metadata": {},
   "source": [
    "El algoritmo de Deutsch-Jozsa fue el primer ejemplo de un algoritmo cuántico que posee una ventaja sobre el mejor algoritmo clásico. Y aunque no tenga una aplicación útil como tal, es un buen ejemplo de que utilizar una computadora cuántica en lugar de una clásica puede ser ventajoso para ciertos problemas. "
   ]
  },
  {
   "cell_type": "markdown",
   "id": "bacab2bb",
   "metadata": {},
   "source": [
    "### El problema de Deutsch-Jozsa"
   ]
  },
  {
   "cell_type": "markdown",
   "id": "32c4f8c2",
   "metadata": {},
   "source": [
    "Nosotros recibimos una función misteriosa $f$ (la cual no conocemos como opera) que recibe como entrada una cadena de $n$ bits y regresa un $0$ o un $1$"
   ]
  },
  {
   "cell_type": "markdown",
   "id": "d4f10992",
   "metadata": {},
   "source": [
    "$\\hspace{7 cm} f(x_{n-1}x_{n-2}\\cdots x_{1}x_{0}) \\rightarrow 0 \\hspace{0.2 cm} o \\hspace{0.2 cm} 1 \\hspace{0.5 cm}$ donde $\\hspace{0.5 cm} x_{i} \\in \\{0,1\\}$"
   ]
  },
  {
   "cell_type": "markdown",
   "id": "c95528e1",
   "metadata": {},
   "source": [
    "Sin embargo, sabemos con seguridad que la función es constante o balanceada. <br>\n",
    "- Si es constante regresará solo 0 o solo 1 para todos los inputs.\n",
    "- Si es balanceada regresará 0 para la mitad de los inputs y 1 para la otra mitad."
   ]
  },
  {
   "cell_type": "markdown",
   "id": "65d57c9a",
   "metadata": {},
   "source": [
    "Nuestra tarea es determinar si la función $f$ es balanceada o constante, siendo que la única forma que tenemos de extraer información de la función es aplicándola."
   ]
  },
  {
   "cell_type": "markdown",
   "id": "b2582f1b",
   "metadata": {},
   "source": [
    "### El caso clásico"
   ]
  },
  {
   "cell_type": "markdown",
   "id": "37fe7128",
   "metadata": {},
   "source": [
    "Si fuéramos a resolver este problema de manera clásica tenemos que en el mejor de los casos (si tenemos mucha suerte) podemos saber si la función es constante o balanceada haciendo únicamente dos llamados a la función. Por ejemplo, si observamos que $f(100) = 1$ y $f(010) = 0$ sabremos con total seguridad que la función es balanceada."
   ]
  },
  {
   "cell_type": "markdown",
   "id": "016929e3",
   "metadata": {},
   "source": [
    "Ahora, en el peor de los casos (en el que siempre obtenemos el mismo valor como respuesta) no podremos estar seguros al 100% de si la función es balanceada o constante hasta que hagamos $N/2 + 1$ llamadas a la función, donde $N$ es el número de cadenas de bits que tenemos como entrada. Y si $n$ es el número de bits en nuestro sistema, entonces $N = 2^{n}$, por lo que necesitaríamos llamar a nuestra función $2^{n-1}+1$ veces."
   ]
  },
  {
   "cell_type": "markdown",
   "id": "10d40f6e",
   "metadata": {},
   "source": [
    "Por ejemplo, si nuestro sistema es de 5 bits, necesitaríamos hacer un total de 17 operaciones para estar 100% seguros de nuestra respuesta, pues es posible que aunque las primeras 16 operaciones dieran todas $0$ la número 17 de como resultado $1$, significando que la función es balanceada."
   ]
  },
  {
   "cell_type": "markdown",
   "id": "33f6a151",
   "metadata": {},
   "source": [
    "Obviamente estamos hablando del peor escenario posible, y en teoría podríamos truncar nuestro proceso antes de llegar a esas $2^{n-1}+1$ operaciones dependiendo de que tanto margen de error querramos; pero la única forma de estar 100% seguros es haciendo $2^{n-1}+1$ operaciones. Es decir, tenemos un algoritmo cuyo tiempo de ejecución crece exponencialmente con el número de bits."
   ]
  },
  {
   "cell_type": "markdown",
   "id": "0a2f4cd0",
   "metadata": {},
   "source": [
    "### ¿Cómo implementar nuestra función en un circuito cuántico?"
   ]
  },
  {
   "cell_type": "markdown",
   "id": "9ff5a0cf",
   "metadata": {},
   "source": [
    "Antes de dar la solución cuántica a este problema, es necesario hallar una forma de implementar la función $f$ como un operador que:"
   ]
  },
  {
   "cell_type": "markdown",
   "id": "1af7b340",
   "metadata": {},
   "source": [
    "- Sea unitario (es decir, que deje igual la norma de un estado luego de aplicarse)\n",
    "- Sea reversible (aplicando un operador al estado final podemos regresar al estado inicial siempre)"
   ]
  },
  {
   "cell_type": "markdown",
   "id": "ffc925e9",
   "metadata": {},
   "source": [
    "Con estos dos requisitos en mente, vamos a implementar la función $f$ como un operador $U_{f}$ que actúe de la siguiente manera:"
   ]
  },
  {
   "cell_type": "markdown",
   "id": "efb08052",
   "metadata": {},
   "source": [
    "$\\hspace{10 cm} U_{f}|x\\rangle|y\\rangle = |x\\rangle|y \\oplus f(x)\\rangle$"
   ]
  },
  {
   "cell_type": "markdown",
   "id": "2d0bb5a9",
   "metadata": {},
   "source": [
    "Donde $x$ es la cadena de bits de tamaño $n$ que nuestra función recibe como input, $y$ es un estado cualquiera (del mismo tamaño que la cadena de bits $f(x)$) que servirá para almacenar el output y el símbolo $\\oplus$ representa la suma módulo 2 bit por bit"
   ]
  },
  {
   "cell_type": "markdown",
   "id": "18bebea6",
   "metadata": {},
   "source": [
    "| Operación | Resultado |\n",
    "| :---: | :---: |\n",
    "| $0\\oplus 0$ | 0 |\n",
    "| $0\\oplus 1$ | 1 |\n",
    "| $1\\oplus 0$ | 1 |\n",
    "| $1\\oplus 1$ | 0 |"
   ]
  },
  {
   "cell_type": "markdown",
   "id": "5951672e",
   "metadata": {},
   "source": [
    "De esta forma, podemos observar que si aplicamos nuestro operador una segunda vez recuperamos nuestro estado inicial, ya que"
   ]
  },
  {
   "cell_type": "markdown",
   "id": "23ada47b",
   "metadata": {},
   "source": [
    "$\\hspace{8 cm} U_{f}|x\\rangle|y\\oplus f(x)\\rangle = |x\\rangle|y \\oplus f(x) \\oplus f(x)\\rangle = |x\\rangle|y\\rangle$"
   ]
  },
  {
   "cell_type": "markdown",
   "id": "000267c3",
   "metadata": {},
   "source": [
    "Pues $f(x) \\oplus f(x) = 0$ independientemente del valor de $f(x)$ (puedes comprobarlo viendo a la tabla de arriba) e $y \\oplus 0 = y$ sin importar el valor de $y$."
   ]
  },
  {
   "cell_type": "markdown",
   "id": "85e211df",
   "metadata": {},
   "source": [
    "Ya con la implementación de nuestra función decidida, es momento de hablar de la solución cuántica."
   ]
  },
  {
   "cell_type": "markdown",
   "id": "d572fecc",
   "metadata": {},
   "source": [
    "### El caso cuántico"
   ]
  },
  {
   "cell_type": "markdown",
   "id": "b763ad39",
   "metadata": {},
   "source": [
    "En este caso, necesitamos un circuito con $n+1$ qubits. Los primeros $n$ qubits (nuestro input) se inicializan en el estado $|0\\rangle$ y el último qubit se inicializa en el estado $|1\\rangle$ (pronto veremos por qué). A continuación presentamos cómo luce el circuito para resolver el problema de Deutsch-Jozsa (extraída del textbook de Qiskit)"
   ]
  },
  {
   "cell_type": "markdown",
   "id": "259c2ca7",
   "metadata": {},
   "source": [
    "<img src=\"Imagenes/DJ.png\" width=\"60%\">"
   ]
  },
  {
   "cell_type": "markdown",
   "id": "e1a04c7e",
   "metadata": {},
   "source": [
    "Ahora, veamos algo de notación. Esta la utilizaremos con los demás algoritmos, por lo que es necesario que quede clara desde el inicio."
   ]
  },
  {
   "cell_type": "markdown",
   "id": "4d21b5b0",
   "metadata": {},
   "source": [
    "- El término $|0^{\\otimes n}\\rangle$ se refiere al estado formado por $n$ qubits, todos en el estado $|0\\rangle$. Es decir $|0^{\\otimes n}\\rangle = |0\\rangle_{n-1}\\otimes \\cdots \\otimes|0\\rangle_{0}$.\n",
    "- El término $H^{\\otimes n}$ se refiere al operador formado por el producto tensorial de $n$ compuertas Hadamard. Es decir $H^{\\otimes n} = H_{n-1}\\otimes \\cdots \\otimes H_{0}$."
   ]
  },
  {
   "cell_type": "markdown",
   "id": "569399e2",
   "metadata": {},
   "source": [
    "Ahora sí, veamos cómo funciona el algoritmo paso por paso:"
   ]
  },
  {
   "cell_type": "markdown",
   "id": "542e3dbd",
   "metadata": {},
   "source": [
    "*Nota: A partir de aquí hay mucha matemática para explicar cómo funciona el algoritmo. No es necesario que lo comprendas todo a la perfección, solo que te convenzas de que el algoritmo funciona.*"
   ]
  },
  {
   "cell_type": "markdown",
   "id": "9ee1df67",
   "metadata": {},
   "source": [
    "---"
   ]
  },
  {
   "cell_type": "markdown",
   "id": "d5e3462a",
   "metadata": {},
   "source": [
    "**Primer paso**: Aplicar una compuerta Hadamard a todos los qubits. Este paso es trivial para el qubit del output, pues sabemos que"
   ]
  },
  {
   "cell_type": "markdown",
   "id": "03d2aa4f",
   "metadata": {},
   "source": [
    "$\\hspace{10 cm} H|1\\rangle = \\dfrac{1}{\\sqrt{2}}(|0\\rangle - |1\\rangle)$"
   ]
  },
  {
   "cell_type": "markdown",
   "id": "e023de27",
   "metadata": {},
   "source": [
    "En el caso del estado $|0^{\\otimes n}\\rangle$ solo debemos generalizar el resultado de aplicar compuertas Hadamard a todos los qubits: <br>\n",
    "- Para $n=1$: $H|0\\rangle = \\frac{1}{\\sqrt{2}}(|0\\rangle + |1\\rangle)$.\n",
    "- Para $n=2$: $H\\otimes H|00\\rangle = \\frac{1}{\\sqrt{2^{2}}}(|00\\rangle + |01\\rangle + |10\\rangle + |11\\rangle)$."
   ]
  },
  {
   "cell_type": "markdown",
   "id": "181cd0c3",
   "metadata": {},
   "source": [
    "Si seguimos aumentando el valor de $n$ veremos que el resultado es una superposición equitativa (todos los estados tienen la misma amplitud) de todas las posibles $2^{n}$ diferentes combinaciones de los estados de los $n$ qubits, la cual se puede expresar de la siguiente forma:"
   ]
  },
  {
   "cell_type": "markdown",
   "id": "13857bbf",
   "metadata": {},
   "source": [
    "$\\hspace{10 cm} H^{\\otimes n}|0^{\\otimes n}\\rangle = \\dfrac{1}{\\sqrt{2^{n}}}\\displaystyle\\sum_{x\\in\\{0,1\\}^{n}}|x\\rangle$"
   ]
  },
  {
   "cell_type": "markdown",
   "id": "ed194b28",
   "metadata": {},
   "source": [
    "*Nota: La expresión $x\\in\\{0,1\\}^{n}$ es una forma abreviada de escribir que $x$ pertenece al conjunto de las cadenas de $n$ bits. Al colocarlo en la sumatoria nos indica que la suma es sobre todas las posibles cadenas de $n$ bits.*"
   ]
  },
  {
   "cell_type": "markdown",
   "id": "0fa66ec6",
   "metadata": {},
   "source": [
    "Por lo que el estado del sistema completo antes de la primera barrera sería:"
   ]
  },
  {
   "cell_type": "markdown",
   "id": "0feb8561",
   "metadata": {},
   "source": [
    "$\\hspace{9 cm} |\\psi_{1}\\rangle = \\dfrac{1}{\\sqrt{2^{n+1}}}\\displaystyle\\sum_{x\\in\\{0,1\\}^{n}}|x\\rangle(|0\\rangle - |1\\rangle)$"
   ]
  },
  {
   "cell_type": "code",
   "execution_count": null,
   "id": "91bc74e2",
   "metadata": {},
   "outputs": [],
   "source": [
    "from qiskit import QuantumRegister, ClassicalRegister, QuantumCircuit\n",
    "from qiskit_aer import AerSimulator\n",
    "\n",
    "#Creamos dos registros cuánticos, uno para la entrada y el otro para almacenar la salida\n",
    "qin = QuantumRegister(3, name=\"in\") #En este caso, n=3\n",
    "qout = QuantumRegister(1, name=\"out\")\n",
    "\n",
    "#Juntamos ambos registros en un solo circuito\n",
    "qc = QuantumCircuit(qin,qout)\n",
    "\n",
    "#Preparamos el qubit del output en el estado |->\n",
    "qc.x(qout[0])\n",
    "qc.h(qout[0])\n",
    "\n",
    "#Aplicamos las compuertas Hadamard a todos los qubits del input\n",
    "for i in range(3):\n",
    "    qc.h(qin[i])\n",
    "    \n",
    "#Dibujamos nuestro circuito\n",
    "qc.draw(output=\"mpl\")"
   ]
  },
  {
   "cell_type": "markdown",
   "id": "e2da33d6",
   "metadata": {},
   "source": [
    "---"
   ]
  },
  {
   "cell_type": "markdown",
   "id": "3a00bd6a",
   "metadata": {},
   "source": [
    "**Segundo paso**: Aplicamos el operador $U_{f}$:"
   ]
  },
  {
   "cell_type": "markdown",
   "id": "e80196f8",
   "metadata": {},
   "source": [
    "$\\hspace{7.5 cm} |\\psi_{2}\\rangle = U_{f}|\\psi_{1}\\rangle = \\dfrac{1}{\\sqrt{2^{n+1}}}\\displaystyle\\sum_{x\\in\\{0,1\\}^{n}}|x\\rangle(|0\\oplus f(x)\\rangle - |1 \\oplus f(x)\\rangle)$"
   ]
  },
  {
   "cell_type": "markdown",
   "id": "95201668",
   "metadata": {},
   "source": [
    "Ya que $f(x)$ solo puede tomar dos valores, tenemos dos opciones:<br>\n",
    "- Si $f(x) = 0$ entonces el estado del qubit del output se queda como $|0\\rangle - |1\\rangle$.\n",
    "- Si $f(x) = 1$ entonces el estado del qubit del output cambia a $|1\\rangle - |0\\rangle = -(|0\\rangle - |1\\rangle)$"
   ]
  },
  {
   "cell_type": "markdown",
   "id": "5466bab5",
   "metadata": {},
   "source": [
    "Esto lo podemos resumir como $(-1)^{f(x)}(|0\\rangle - |1\\rangle)$. De esta forma, nuestro estado queda como"
   ]
  },
  {
   "cell_type": "markdown",
   "id": "f2982f94",
   "metadata": {},
   "source": [
    "$\\hspace{9 cm} |\\psi_{2}\\rangle = \\dfrac{1}{\\sqrt{2^{n+1}}}\\displaystyle\\sum_{x\\in\\{0,1\\}^{n}}(-1)^{f(x)}|x\\rangle(|0\\rangle - |1\\rangle)$"
   ]
  },
  {
   "cell_type": "markdown",
   "id": "15d0bf8a",
   "metadata": {},
   "source": [
    "Utilizando el retroceso de fase hemos sido capaces de \"pasar\" el efecto del operador $U_{f}$ del qubit del output a nuestra cadena de qubits del input, en forma de una fase local (pues depende del valor de $f(x)$). Es por esto que inicializamos el qubit del output como $|1\\rangle$ antes de aplicar una compuerta Hadamard, pues si lo hubiéramos inicializado como $|0\\rangle$ no tendríamos el signo menos que es el cuasante del retroceso de fase. Esto nos permite ignorar el estado del qubit del output a partir de este punto, pues ya no usaremos más compuertas sobre este."
   ]
  },
  {
   "cell_type": "markdown",
   "id": "4a746d5d",
   "metadata": {},
   "source": [
    "Para este ejemplo usaremos una función constante que siempre regresa **1** como su resultado. Para implementarla basta con aplicar una compuerta NOT al qubit del output."
   ]
  },
  {
   "cell_type": "code",
   "execution_count": null,
   "id": "aa255201",
   "metadata": {},
   "outputs": [],
   "source": [
    "#Creamos dos registros cuánticos, uno para la entrada y el otro para almacenar la salida\n",
    "qin = QuantumRegister(3, name=\"in\") #En este caso, n=3\n",
    "qout = QuantumRegister(1, name=\"out\")\n",
    "\n",
    "#Juntamos ambos registros en un solo circuito\n",
    "qc = QuantumCircuit(qin,qout)\n",
    "\n",
    "#Preparamos el qubit del output en el estado |->\n",
    "qc.x(qout[0])\n",
    "qc.h(qout[0])\n",
    "\n",
    "#Aplicamos las compuertas Hadamard a todos los qubits del input\n",
    "for i in range(3):\n",
    "    qc.h(qin[i])\n",
    "    \n",
    "qc.barrier()\n",
    "\n",
    "#Aplicamos el operador constante U_f\n",
    "qc.x(qout[0])\n",
    "    \n",
    "#Dibujamos nuestro circuito\n",
    "qc.draw(output=\"mpl\")"
   ]
  },
  {
   "cell_type": "markdown",
   "id": "11ea8673",
   "metadata": {},
   "source": [
    "---"
   ]
  },
  {
   "cell_type": "markdown",
   "id": "ac220a64",
   "metadata": {},
   "source": [
    "**Tercer paso**: Aplicar compuertas Hadamard a todos los qubits del input. Para ello ahora debemos generalizar lo que sucede al aplicar el operador $H^{\\otimes n}$ a un estado $|a\\rangle$ arbitrario."
   ]
  },
  {
   "cell_type": "markdown",
   "id": "30886406",
   "metadata": {},
   "source": [
    "Primero, recordemos que la única diferencia entre aplicar el operador Hadamard a $|0\\rangle$ o a $|1\\rangle$ es un signo menos:"
   ]
  },
  {
   "cell_type": "markdown",
   "id": "d505eb68",
   "metadata": {},
   "source": [
    "$\\hspace{10 cm} H|0\\rangle = \\dfrac{1}{\\sqrt{2}}(|0\\rangle + |1\\rangle)$"
   ]
  },
  {
   "cell_type": "markdown",
   "id": "677aaea6",
   "metadata": {},
   "source": [
    "$\\hspace{10 cm} H|1\\rangle = \\dfrac{1}{\\sqrt{2}}(|0\\rangle - |1\\rangle)$"
   ]
  },
  {
   "cell_type": "markdown",
   "id": "7e95a8fc",
   "metadata": {},
   "source": [
    "De esta forma, si $a$ es una cadena de un solo bit (es decir, los únicos valores que puede tomar son $0$ y $1$), podemos escribir el resultado de aplicarle una compuerta Hadamard como"
   ]
  },
  {
   "cell_type": "markdown",
   "id": "4dad2032",
   "metadata": {},
   "source": [
    "$\\hspace{10 cm} H|a\\rangle = \\dfrac{1}{\\sqrt{2}}\\displaystyle\\sum_{y\\in\\{0,1\\}}(-1)^{a\\cdot y}|y\\rangle$"
   ]
  },
  {
   "cell_type": "markdown",
   "id": "4ebeaffe",
   "metadata": {},
   "source": [
    "En este caso si $y = 0$ siempre va a estar multiplicado por $1$, independientemente del valor de $a$. Pero si $y= 1$ y $a = 1$, tenemos un factor de $-1$ correspondiente a nuestro estado $|-\\rangle$. "
   ]
  },
  {
   "cell_type": "markdown",
   "id": "56b0e2a8",
   "metadata": {},
   "source": [
    "En el caso de que $a$ sea una cadena de dos bits tenemos cuatro posibilidades:"
   ]
  },
  {
   "cell_type": "markdown",
   "id": "5c71e27b",
   "metadata": {},
   "source": [
    "$\\hspace{9 cm} H^{\\otimes 2}|00\\rangle = \\dfrac{1}{2}(|00\\rangle + |01\\rangle + |10\\rangle + |11\\rangle)$"
   ]
  },
  {
   "cell_type": "markdown",
   "id": "c3efa472",
   "metadata": {},
   "source": [
    "$\\hspace{9 cm} H^{\\otimes 2}|01\\rangle = \\dfrac{1}{2}(|00\\rangle - |01\\rangle + |10\\rangle - |11\\rangle)$"
   ]
  },
  {
   "cell_type": "markdown",
   "id": "7f28cc4f",
   "metadata": {},
   "source": [
    "$\\hspace{9 cm} H^{\\otimes 2}|10\\rangle = \\dfrac{1}{2}(|00\\rangle + |01\\rangle - |10\\rangle - |11\\rangle)$"
   ]
  },
  {
   "cell_type": "markdown",
   "id": "787774ef",
   "metadata": {},
   "source": [
    "$\\hspace{9 cm} H^{\\otimes 2}|11\\rangle = \\dfrac{1}{2}(|00\\rangle - |01\\rangle - |10\\rangle + |11\\rangle)$"
   ]
  },
  {
   "cell_type": "markdown",
   "id": "aec25278",
   "metadata": {},
   "source": [
    "Podemos condensar estos cuatro posibles casos en la siguiente expresión:"
   ]
  },
  {
   "cell_type": "markdown",
   "id": "5b957dea",
   "metadata": {},
   "source": [
    "$\\hspace{10 cm} H^{\\otimes 2}|a\\rangle = \\dfrac{1}{2}\\displaystyle\\sum_{y\\in\\{0,1\\}^{2}}(-1)^{a\\cdot y}|y\\rangle$"
   ]
  },
  {
   "cell_type": "markdown",
   "id": "92e83bd4",
   "metadata": {},
   "source": [
    "Donde, escribiendo $a=a_{1}a_{0}$ e $y=y_{1}y_{0}$ (por ejemplo, si $a=01$ e $y= 10$ entonces $a_{1}=0,a_{0}=1,y_{1}=1,y_{0}=0$), tenemos que $a\\cdot y = a_{1}y_{1} \\oplus a_{0}y_{0}$. Puedes comprobar por tu cuenta que usando esta expresión podemos reproducir los cuatro resultados de arriba."
   ]
  },
  {
   "cell_type": "markdown",
   "id": "5e24025e",
   "metadata": {},
   "source": [
    "Entonces, si generalizamos esto a $n$ qubits obtenemos la expresión"
   ]
  },
  {
   "cell_type": "markdown",
   "id": "40595a84",
   "metadata": {},
   "source": [
    "$\\hspace{9 cm} H^{\\otimes n}|a\\rangle = \\dfrac{1}{\\sqrt{2^{n}}}\\displaystyle\\sum_{y\\in\\{0,1\\}^{n}}(-1)^{a\\cdot y}|y\\rangle$"
   ]
  },
  {
   "cell_type": "markdown",
   "id": "bc79c1e8",
   "metadata": {},
   "source": [
    "Donde $a\\cdot y = a_{n-1}y_{n-1}\\oplus \\cdots \\oplus a_{1}y_{1} \\oplus a_{0}y_{0}$. <br><br>\n",
    "*Nota: Si $|a\\rangle = |0^{\\otimes n}\\rangle$ entonces $a\\cdot y = 0$ sin importar el valor de $y$, por lo que recuperamos el primer caso que vimos.*"
   ]
  },
  {
   "cell_type": "markdown",
   "id": "953a41a7",
   "metadata": {},
   "source": [
    "Con ayuda de esta nueva expresión podemos calcular el nuevo estado del sistema luego de aplicar las compuertas Hadamard (vamos a ignorar el estado del qubit del output ya que podemos separarlo utilizando el producto tensorial)."
   ]
  },
  {
   "cell_type": "markdown",
   "id": "dc2318ba",
   "metadata": {},
   "source": [
    "$\\hspace{7 cm} |\\psi_{3}\\rangle = H^{\\otimes n}|\\psi_{2}\\rangle = \\dfrac{1}{\\sqrt{2^{n}}}\\displaystyle\\sum_{x\\in\\{0,1\\}^{n}}(-1)^{f(x)}\\left(\\dfrac{1}{\\sqrt{2^{n}}}\\displaystyle\\sum_{y\\in\\{0,1\\}^{n}}(-1)^{x\\cdot y}|y\\rangle\\right)$"
   ]
  },
  {
   "cell_type": "markdown",
   "id": "ce3172a6",
   "metadata": {},
   "source": [
    "Notamos que tenemos dos sumatorias: la sumatoria sobre $y$ es una sumatoria sobre todos los estados de nuestra superposición, y la sumatoria sobre $x$ nos da la amplitud de cada uno de los estados $|y\\rangle$, por lo que podemos reordenar la expresión de arriba como"
   ]
  },
  {
   "cell_type": "markdown",
   "id": "b8287b87",
   "metadata": {},
   "source": [
    "$\\hspace{9 cm} |\\psi_{3}\\rangle = \\displaystyle\\sum_{y\\in\\{0,1\\}^{n}}\\left(\\dfrac{1}{2^{n}}\\displaystyle\\sum_{x\\in\\{0,1\\}^{n}}(-1)^{f(x)}(-1)^{x\\cdot y}\\right)|y\\rangle$"
   ]
  },
  {
   "cell_type": "code",
   "execution_count": null,
   "id": "0e32b156",
   "metadata": {},
   "outputs": [],
   "source": [
    "#Creamos dos registros cuánticos, uno para la entrada y el otro para almacenar la salida\n",
    "qin = QuantumRegister(3, name=\"in\") #En este caso, n=3\n",
    "qout = QuantumRegister(1, name=\"out\")\n",
    "\n",
    "#Juntamos ambos registros en un solo circuito\n",
    "qc = QuantumCircuit(qin,qout)\n",
    "\n",
    "#Preparamos el qubit del output en el estado |->\n",
    "qc.x(qout[0])\n",
    "qc.h(qout[0])\n",
    "\n",
    "#Aplicamos las compuertas Hadamard a todos los qubits del input\n",
    "for i in range(3):\n",
    "    qc.h(qin[i])\n",
    "    \n",
    "qc.barrier()\n",
    "\n",
    "#Aplicamos el operador constante U_f\n",
    "qc.x(qout[0])\n",
    "\n",
    "qc.barrier()\n",
    "\n",
    "#Aplicamos las compuertas Hadamard a todos los qubits del input nuevamente\n",
    "for i in range(3):\n",
    "    qc.h(qin[i])\n",
    "    \n",
    "#Dibujamos nuestro circuito\n",
    "qc.draw(output=\"mpl\")"
   ]
  },
  {
   "cell_type": "markdown",
   "id": "7887fcee",
   "metadata": {},
   "source": [
    "---"
   ]
  },
  {
   "cell_type": "markdown",
   "id": "dd0b11dd",
   "metadata": {},
   "source": [
    "**Último paso**: Medir el registro del input."
   ]
  },
  {
   "cell_type": "markdown",
   "id": "58c4d596",
   "metadata": {},
   "source": [
    "Es aquí donde entra en juego la ventaja del algoritmo cuántico ¿Recuerdas cómo en la versión clásica necesitábamos llamar a la función $2^{n-1}+1$ veces para estar 100% seguros de si la función es constante o balanceada? Bueno, en el caso cuántico podemos estar 100% seguros de si la función es constante o balanceada ¡llamando solo una vez a la función!"
   ]
  },
  {
   "cell_type": "markdown",
   "id": "9e023b5f",
   "metadata": {},
   "source": [
    "Para ver cómo es esto posible, vamos a calcular la probabilidad de medir la cadena de solo ceros al momento de medir el registro del input, es decir, la probabilidad de que $|y\\rangle = |0^{\\otimes n}\\rangle$. Después de todo, al hacer la medición forzamos al estado $|\\psi_{3}\\rangle$ a colapsar a alguno de los posibles estados $|y\\rangle$. En este caso $x\\cdot y = 0$ para cualquier cadena de bits $x$, por lo que la probabilidad se reduce a"
   ]
  },
  {
   "cell_type": "markdown",
   "id": "76638a3b",
   "metadata": {},
   "source": [
    "$\\hspace{11 cm} \\left|\\dfrac{1}{2^{n}}\\displaystyle\\sum_{x\\in\\{0,1\\}^{n}}(-1)^{f(x)}\\right|^{2}$"
   ]
  },
  {
   "cell_type": "markdown",
   "id": "1a993898",
   "metadata": {},
   "source": [
    "En este caso, tenemos dos posibilidades:<br>\n",
    "- Si la función es balanceada, tenemos igual cantidad de $1$ y $-1$ en la sumatoria, por lo que se cancelan perfectamente entre ellos y la probabilidad es igual a **0**.\n",
    "- Si la función es constante, tenemos o solo $1$ o solo $-1$ en la sumatoria, y ya que hay $2^{n}$ términos dentro de esta el resultado es $2^{n}$ o $-2^{n}$. Por lo tanto, la probabilidad es igual a **1**."
   ]
  },
  {
   "cell_type": "markdown",
   "id": "c2cb4430",
   "metadata": {},
   "source": [
    "De esta manera, si el resultado de la medición es la cadena de solo ceros la función es constante; si es cualquier otra cadena de bits la función es balanceada."
   ]
  },
  {
   "cell_type": "code",
   "execution_count": null,
   "id": "4b020fbb",
   "metadata": {},
   "outputs": [],
   "source": [
    "#Creamos dos registros cuánticos, uno para la entrada y el otro para almacenar la salida\n",
    "qin = QuantumRegister(3, name=\"in\") #En este caso, n=3\n",
    "qout = QuantumRegister(1, name=\"out\")\n",
    "\n",
    "#Creamos un registro clásico para almacenar el resultado de la medición\n",
    "c = ClassicalRegister(3)\n",
    "\n",
    "#Juntamos ambos registros en un solo circuito\n",
    "qc = QuantumCircuit(qin,qout,c)\n",
    "\n",
    "#Preparamos el qubit del output en el estado |->\n",
    "qc.x(qout[0])\n",
    "qc.h(qout[0])\n",
    "\n",
    "#Aplicamos las compuertas Hadamard a todos los qubits del input\n",
    "for i in range(3):\n",
    "    qc.h(qin[i])\n",
    "    \n",
    "qc.barrier()\n",
    "\n",
    "#Aplicamos el operador constante U_f\n",
    "qc.x(qout[0])\n",
    "\n",
    "qc.barrier()\n",
    "\n",
    "#Aplicamos las compuertas Hadamard a todos los qubits del input nuevamente\n",
    "for i in range(3):\n",
    "    qc.h(qin[i])\n",
    "    \n",
    "qc.barrier()\n",
    "\n",
    "#Medimos el registro del input\n",
    "qc.measure(qin,c)\n",
    "    \n",
    "#Dibujamos nuestro circuito\n",
    "qc.draw(output=\"mpl\")"
   ]
  },
  {
   "cell_type": "code",
   "execution_count": null,
   "id": "37538cf2",
   "metadata": {},
   "outputs": [],
   "source": [
    "#Ejecutamos el circuito solo una vez\n",
    "job = AerSimulator().run(qc, shots=1)\n",
    "counts = job.result().get_counts(qc)\n",
    "print(counts)"
   ]
  },
  {
   "cell_type": "markdown",
   "id": "f744a4c4",
   "metadata": {},
   "source": [
    "Como podemos ver, el resultado de la medición es la cadena de solo ceros, por lo que la función es constante."
   ]
  },
  {
   "cell_type": "markdown",
   "id": "9410bc81",
   "metadata": {},
   "source": [
    "---"
   ]
  },
  {
   "cell_type": "markdown",
   "id": "39bc308a",
   "metadata": {},
   "source": [
    "### ¿Cómo codificar una función constante?"
   ]
  },
  {
   "cell_type": "markdown",
   "id": "bce062b9",
   "metadata": {},
   "source": [
    "Como un pequeño extra, vamos a mostrar cómo podemos codificar una función constante y una balanceada, para que puedas experimentar más con el algoritmo de Deutsch-Jozsa. Primero, veremos como codificar una función constante, pues como hemos visto es bastante sencillo."
   ]
  },
  {
   "cell_type": "markdown",
   "id": "69999bdd",
   "metadata": {},
   "source": [
    "Para ello, vamos a suponer que el registro del output se encuentra en el estado $|0\\rangle$ para que los cálculos sean más sencillos (si el output se encuentra en cualquier otro estado no importa, ya que el retroceso de fase nos permite pasar el efecto de la función al registro del input)."
   ]
  },
  {
   "cell_type": "markdown",
   "id": "51707c4d",
   "metadata": {},
   "source": [
    "De esta manera, si nuestra función tiene como output el valor $0$ dejamos el qubit del output tal y como está, y si nuestra función tiene como output el valor $1$ aplicamos una compuerta NOT al output. Podemos usar la función `randrange()` para generar un número aleatorio entre 0 y 1 para saber qué caso aplicar."
   ]
  },
  {
   "cell_type": "code",
   "execution_count": null,
   "id": "1dc0950a",
   "metadata": {},
   "outputs": [],
   "source": [
    "from random import randrange\n",
    "\n",
    "#Definimos una función que tome como parámetros un circuito cuántico, un registro cuántico y un número aleatorio entre 0 y 1\n",
    "def constante(qc,qout,x):\n",
    "    \n",
    "#Si el valor es igual a 1\n",
    "    if x == 1:\n",
    "#Aplicamos una compuerta NOT al output\n",
    "        qc.x(qout[0])"
   ]
  },
  {
   "cell_type": "code",
   "execution_count": null,
   "id": "106244de",
   "metadata": {},
   "outputs": [],
   "source": [
    "estados = [\"000\",\"001\",\"010\",\"011\",\"100\",\"101\",\"110\",\"111\"]\n",
    "\n",
    "#Generamos un número aleatorio entre 0 y 1\n",
    "x = randrange(2)\n",
    "\n",
    "for estado in estados:\n",
    "    \n",
    "    qin = QuantumRegister(3, name=\"in\")\n",
    "    qout = QuantumRegister(1, name=\"out\")\n",
    "\n",
    "#Creamos un registro clásico para medir el output\n",
    "    c = ClassicalRegister(1)\n",
    "    \n",
    "    qc = QuantumCircuit(qin,qout,c)\n",
    "\n",
    "#Codificamos el estado de los inputs\n",
    "    if int(estado[0]) == 1:\n",
    "        qc.x(qin[2])\n",
    "    if int(estado[1]) == 1:\n",
    "        qc.x(qin[1])\n",
    "    if int(estado[2]) == 1:\n",
    "        qc.x(qin[0])\n",
    "        \n",
    "#Aplicamos la función constante\n",
    "    constante(qc,qout,x)\n",
    "    \n",
    "#Medimos el qubit del output\n",
    "    qc.measure(qout,c)\n",
    "    \n",
    "#Ejecutamos nuestro circuito\n",
    "    job = AerSimulator().run(qc, shots=1)\n",
    "    counts = job.result().get_counts(qc)\n",
    "    print(\"Input:\",estado,\"Output:\",counts)"
   ]
  },
  {
   "cell_type": "markdown",
   "id": "50438f26",
   "metadata": {},
   "source": [
    "### ¿Cómo codificar una función balanceada?"
   ]
  },
  {
   "cell_type": "markdown",
   "id": "403acdbd",
   "metadata": {},
   "source": [
    "El caso de la función balanceada es un poco más complejo. En este caso queremos que en la mitad de los inputs se aplique una compuerta NOT al output y en la otra mitad no se aplique nada. De esta forma, la mitad de los outputs serán $0$ y la otra mitad serán $1$."
   ]
  },
  {
   "cell_type": "markdown",
   "id": "827a6cee",
   "metadata": {},
   "source": [
    "Esto lo podemos conseguir utilizando compuertas CNOT entre todos los qubits del input y el qubit del output, tomando al qubit del output como el objetivo. Esta estrategia funciona ya que aplicar un número par de compuertas NOT en el qubit del output dejará su estado sin alterar (es decir, lo dejará en $|0\\rangle$) mientras que un número impar de compuertas NOT cambiará su estado (es decir, lo cambiará a $|1\\rangle$). Solo falta convencerte de que la mitad de las cadenas de $n$ bits tienen un número par de $1$ y la otra mitad tiene un número impar de $1$."
   ]
  },
  {
   "cell_type": "code",
   "execution_count": null,
   "id": "bb90bfd9",
   "metadata": {},
   "outputs": [],
   "source": [
    "#Creamos una función que toma como parámetros un circuito cuántico, el registro del input, el del output, y el número de qubits\n",
    "#en el input\n",
    "def balanceada(qc,qin,qout,n):\n",
    "\n",
    "#Creamos un bucle para aplicar una compuerta CNOT entre cada qubit del input y el qubit del output\n",
    "        for i in range(n):\n",
    "            qc.cx(qin[i],qout[0])"
   ]
  },
  {
   "cell_type": "code",
   "execution_count": null,
   "id": "f41ff62d",
   "metadata": {},
   "outputs": [],
   "source": [
    "estados = [\"000\",\"001\",\"010\",\"011\",\"100\",\"101\",\"110\",\"111\"]\n",
    "\n",
    "for estado in estados:\n",
    "    \n",
    "    qin = QuantumRegister(3, name=\"in\")\n",
    "    qout = QuantumRegister(1, name=\"out\")\n",
    "\n",
    "#Creamos un registro clásico para medir el output\n",
    "    c = ClassicalRegister(1)\n",
    "    \n",
    "    qc = QuantumCircuit(qin,qout,c)\n",
    "\n",
    "#Codificamos el estado de los inputs\n",
    "    if int(estado[0]) == 1:\n",
    "        qc.x(qin[2])\n",
    "    if int(estado[1]) == 1:\n",
    "        qc.x(qin[1])\n",
    "    if int(estado[2]) == 1:\n",
    "        qc.x(qin[0])\n",
    "        \n",
    "#Aplicamos la función balanceada\n",
    "    balanceada(qc,qin,qout,3)\n",
    "    \n",
    "#Medimos el qubit del output\n",
    "    qc.measure(qout,c)\n",
    "    \n",
    "#Ejecutamos nuestro circuito\n",
    "    job = AerSimulator().run(qc, shots=1)\n",
    "    counts = job.result().get_counts(qc)\n",
    "    print(\"Input:\",estado,\"Output:\",counts)"
   ]
  },
  {
   "cell_type": "markdown",
   "id": "38f2610f",
   "metadata": {},
   "source": [
    "Ahora solo resta que te pongas a experimentar con estas funciones para ver cómo funciona el algoritmo de Deutsch-Jozsa en general."
   ]
  },
  {
   "cell_type": "code",
   "execution_count": null,
   "id": "268204b1",
   "metadata": {},
   "outputs": [],
   "source": [
    "#Creamos dos registros cuánticos, uno para la entrada y el otro para almacenar la salida\n",
    "qin = QuantumRegister(3, name=\"in\") #En este caso, n=3\n",
    "qout = QuantumRegister(1, name=\"out\")\n",
    "\n",
    "#Creamos un registro clásico para almacenar el resultado de la medición\n",
    "c = ClassicalRegister(3)\n",
    "\n",
    "#Juntamos ambos registros en un solo circuito\n",
    "qc = QuantumCircuit(qin,qout,c)\n",
    "\n",
    "#Preparamos el qubit del output en el estado |->\n",
    "qc.x(qout[0])\n",
    "qc.h(qout[0])\n",
    "\n",
    "#Aplicamos las compuertas Hadamard a todos los qubits del input\n",
    "for i in range(3):\n",
    "    qc.h(qin[i])\n",
    "    \n",
    "qc.barrier()\n",
    "\n",
    "#Aplicamos nuestra función balanceada o constante\n",
    "balanceada(qc,qin,qout,3)\n",
    "#constante(qc,qout,1)\n",
    "\n",
    "qc.barrier()\n",
    "\n",
    "#Aplicamos las compuertas Hadamard a todos los qubits del input nuevamente\n",
    "for i in range(3):\n",
    "    qc.h(qin[i])\n",
    "    \n",
    "qc.barrier()\n",
    "\n",
    "#Medimos el registro del input\n",
    "qc.measure(qin,c)\n",
    "    \n",
    "#Dibujamos nuestro circuito\n",
    "qc.draw(output=\"mpl\")"
   ]
  },
  {
   "cell_type": "code",
   "execution_count": null,
   "id": "e8df63c0",
   "metadata": {},
   "outputs": [],
   "source": [
    "#Ejecutamos el circuito solo una vez\n",
    "job = AerSimulator().run(qc, shots=1)\n",
    "counts = job.result().get_counts(qc)\n",
    "print(counts)"
   ]
  }
 ],
 "metadata": {
  "kernelspec": {
   "display_name": "Python 3 (ipykernel)",
   "language": "python",
   "name": "python3"
  },
  "language_info": {
   "codemirror_mode": {
    "name": "ipython",
    "version": 3
   },
   "file_extension": ".py",
   "mimetype": "text/x-python",
   "name": "python",
   "nbconvert_exporter": "python",
   "pygments_lexer": "ipython3",
   "version": "3.11.7"
  }
 },
 "nbformat": 4,
 "nbformat_minor": 5
}
