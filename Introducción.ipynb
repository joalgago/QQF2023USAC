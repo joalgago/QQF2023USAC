{
 "cells": [
  {
   "cell_type": "markdown",
   "id": "b7acd1f3",
   "metadata": {},
   "source": [
    "<img src=\"Imagenes/Mac_wallpaper_3.png\" width=\"50%\">"
   ]
  },
  {
   "cell_type": "markdown",
   "id": "b63ca5b2",
   "metadata": {},
   "source": [
    "# ¿Qué es un Qubit? "
   ]
  },
  {
   "cell_type": "markdown",
   "id": "00875547",
   "metadata": {},
   "source": [
    "Así como la información en nuestras computadoras se codifica por medio de bits, la información en las computadoras cuánticas se codifica por medio de **qubits**, que no son más que versiones cuánticas de los bits (su nombre es una abreviación de *quantum bit*, que significa literalmente \"bit cuántico\"). Y al igual que los bits, los qubits solo pueden almacenar un valor binario, y al medirlos siempre vamos a obtener los mismos valores: 0 o 1. Sin embargo, estos pueden ser manipulados de formas que solo pueden ser descritas por la mecánica cuántica, lo que ofrece nuevas maneras de diseñar algoritmos y manipular la información. "
   ]
  },
  {
   "cell_type": "markdown",
   "id": "98824c59",
   "metadata": {},
   "source": [
    "### Vector de estado "
   ]
  },
  {
   "cell_type": "markdown",
   "id": "598de3f8",
   "metadata": {},
   "source": [
    "Primero que nada, es necesario definir una representación matemática de los qubits, ya que sin esta no podemos representar tampoco las operaciones que vamos a hacer con estos. Con esto en mente, observamos que un qubit no es más que un sistema cuántico que solo puede regresar dos valores diferentes luego de una medición: 0 o 1. De momento, vamos a pensar que estos son los únicos valores que nuestro qubit puede tener en cualquier punto de un cálculo, como si fuera un bit clásico. De esta manera, tenemos un estado **0** (en el que nuestro qubit siempre dará 0 como resultado de una medición) y un estado **1** (en el que nuestro qubit siempre dará 1 como resultado de una medición), los cuales podemos representar como"
   ]
  },
  {
   "cell_type": "markdown",
   "id": "fcb72317",
   "metadata": {},
   "source": [
    "$\\hspace{9 cm}$ **0** = $ |0\\rangle = \\begin{pmatrix} 1 \\\\ 0 \\end{pmatrix}$ $\\hspace{1 cm}$ **1** = $|1\\rangle = \\begin{pmatrix} 0 \\\\ 1 \\end{pmatrix}$"
   ]
  },
  {
   "cell_type": "markdown",
   "id": "4710b188",
   "metadata": {},
   "source": [
    "llamados *vectores de estado*, pues describen el estado de nuestro qubit."
   ]
  },
  {
   "cell_type": "markdown",
   "id": "1b0b8f7b",
   "metadata": {},
   "source": [
    "Para verificar que estos vectores de estado cumplen con la propiedad de que siempre dan como resultado 0 o 1 al ser medidos, vamos a simular dicha medición con qiskit."
   ]
  },
  {
   "cell_type": "code",
   "execution_count": 1,
   "id": "41b10e7b",
   "metadata": {},
   "outputs": [
    {
     "name": "stdout",
     "output_type": "stream",
     "text": [
      "{'0': 1000}\n"
     ]
    }
   ],
   "source": [
    "from qiskit import QuantumCircuit, execute, Aer\n",
    "\n",
    "#Creamos un circuito cuántico con un qubit y un bit clásico\n",
    "qc = QuantumCircuit(1,1)\n",
    "\n",
    "#Declaramos el estado inicial de nuestro qubit como |0>\n",
    "estado = [1,0]\n",
    "\n",
    "#Iniciamos nuestro qubit en este estado inicial \n",
    "qc.initialize(estado, 0)\n",
    "\n",
    "#Medimos nuestro qubit\n",
    "qc.measure(0,0)\n",
    "\n",
    "#Ejecutamos nuestro circuito 1000 veces\n",
    "job = execute(qc,Aer.get_backend('qasm_simulator'),shots=1000)\n",
    "\n",
    "#Recuperamos los resultados y los imprimimos\n",
    "counts = job.result().get_counts(qc)\n",
    "print(counts)"
   ]
  },
  {
   "cell_type": "markdown",
   "id": "99b778be",
   "metadata": {},
   "source": [
    "Como podemos ver, de las 1000 veces que ejecutamos nuestro circuito, siempre obtuvimos **0** como respuesta. Puedes cambiar el valor del estado inicial por el vector $|1\\rangle$ y verificar que siempre obtenemos **1** como resultado de las mediciones.\n",
    "<br><br>**De momento no es necesario que comprendas todos los comandos usados en el código anterior.**"
   ]
  },
  {
   "cell_type": "markdown",
   "id": "87b6e752",
   "metadata": {},
   "source": [
    "A los estados $|0\\rangle$ y $|1\\rangle$ les llamaremos **estados base**. El por qué quedará más claro luego."
   ]
  },
  {
   "cell_type": "markdown",
   "id": "bf63ed76",
   "metadata": {},
   "source": [
    "------"
   ]
  },
  {
   "cell_type": "markdown",
   "id": "f9fb3b26",
   "metadata": {},
   "source": [
    "¡Bien! Ya tenemos nuestra representación de los estados $|0\\rangle$ y $|1\\rangle$. Sin embargo, no hemos echo nada diferente a lo usual. Si un bit es 0, siempre obtendremos 0 al medirlo, y si un bit es 1 siempre obtendremos 1 al medirlo. \n",
    "<br> Así que ahora vamos a usar una de las \"herramientas\" de la mecánica cuántica que hacen a nuestros qubits diferentes a los bits clásicos: la superposición. Veamos el siguiente estado:"
   ]
  },
  {
   "cell_type": "markdown",
   "id": "5d5ad6c4",
   "metadata": {},
   "source": [
    "$\\hspace{6 cm}$ $|\\psi\\rangle = \\dfrac{1}{\\sqrt{2}}|0\\rangle + \\dfrac{i}{\\sqrt{2}}|1\\rangle = \\dfrac{1}{\\sqrt{2}}\\begin{pmatrix} 1 \\\\ 0 \\end{pmatrix} + \\dfrac{i}{\\sqrt{2}}\\begin{pmatrix} 0 \\\\ 1 \\end{pmatrix} = \\dfrac{1}{\\sqrt{2}}\\begin{pmatrix} 1 \\\\ i \\end{pmatrix}$"
   ]
  },
  {
   "cell_type": "markdown",
   "id": "9b8f2ac3",
   "metadata": {},
   "source": [
    "Como podemos ver, el estado $|\\psi\\rangle$ es una superposición de nuestros estados $|0\\rangle$ y $|1\\rangle$ ¿Qué sucederá si inicializamos nuestro qubit en este estado y lo medimos?\n",
    "<br><br> *Nota: Python utiliza la letra j para representar la unidad imaginaria en vez de la letra i*"
   ]
  },
  {
   "cell_type": "code",
   "execution_count": 2,
   "id": "ce61898c",
   "metadata": {},
   "outputs": [
    {
     "name": "stdout",
     "output_type": "stream",
     "text": [
      "{'1': 520, '0': 480}\n"
     ]
    }
   ],
   "source": [
    "from math import sqrt\n",
    "\n",
    "#Creamos un circuito cuántico con un qubit y un bit clásico\n",
    "qc = QuantumCircuit(1,1)\n",
    "\n",
    "#Declaramos el estado inicial de nuestro qubit como |psi>\n",
    "estado = [1/sqrt(2),1j/sqrt(2)]\n",
    "\n",
    "#Iniciamos nuestro qubit en este estado inicial \n",
    "qc.initialize(estado, 0)\n",
    "\n",
    "#Medimos nuestro qubit\n",
    "qc.measure(0,0)\n",
    "\n",
    "#Ejecutamos nuestro circuito 1000 veces\n",
    "job = execute(qc,Aer.get_backend('qasm_simulator'),shots=1000)\n",
    "\n",
    "#Recuperamos los resultados y los imprimimos\n",
    "counts = job.result().get_counts(qc)\n",
    "print(counts)"
   ]
  },
  {
   "cell_type": "markdown",
   "id": "ee836a13",
   "metadata": {},
   "source": [
    "Como puedes ver, de las 1000 veces que ejecutamos nuestro circuito, aproximadamente 500 veces medimos un 0 y el resto de veces medimos un 1. Esto debido a que al momento de realizar una medición, la superposición de nuestro qubit colapsa, forzándolo a \"decidirse\" por uno de los dos estados que forman su superposición. De esta forma, podemos medir el estado $|0\\rangle$ o el estado $|1\\rangle$ con probabilidades"
   ]
  },
  {
   "cell_type": "markdown",
   "id": "0ad57557",
   "metadata": {},
   "source": [
    "$\\hspace{7 cm}$ $Prob(0) = \\left|\\dfrac{1}{\\sqrt{2}}\\right|^{2} = \\dfrac{1}{2}$ $\\hspace{1 cm}$ $Prob(1) = \\left|\\dfrac{i}{\\sqrt{2}}\\right|^{2} = \\dfrac{1}{2}$"
   ]
  },
  {
   "cell_type": "markdown",
   "id": "6ca889a9",
   "metadata": {},
   "source": [
    "*Nota: No obtenemos exactamente 500 veces 0 y 500 veces 1 porque los sistemas probabilísticos reales no son perfectos.*"
   ]
  },
  {
   "cell_type": "markdown",
   "id": "806da530",
   "metadata": {},
   "source": [
    "De este ejemplo podemos ver dos ideas importantes:\n",
    "1. La superposición nos permite codificar información en los qubits de formas que sería imposible hacer con bits clásicos, además de permitirnos manipularlos de formas únicas.\n",
    "2. El motivo por el que ejecutamos los circuitos varias veces es para poder obtener información útil y usable. Si solo hubiéramos ejecutado el circuito anterior una vez podríamos haber pensado que la respuesta de nuestro circuito es solo 0, por ejemplo, cuando en realidad es más complejo que eso."
   ]
  },
  {
   "cell_type": "markdown",
   "id": "183bb708",
   "metadata": {},
   "source": [
    "Puedes probar utilizando diferentes vectores de estado y comparar los resultados del simulador con las probabilidades teóricas de medir 0 o 1 del estado que elegiste. Solo asegúrate de utilizar un vector de estado válido (que la suma de $Prob(0)$ y $Prob(1)$ sea igual a 1). De lo contrario el simulador regresará un error."
   ]
  },
  {
   "cell_type": "markdown",
   "id": "c0d4a3ad",
   "metadata": {},
   "source": [
    "### Qubit físico"
   ]
  },
  {
   "cell_type": "markdown",
   "id": "6f984b95",
   "metadata": {},
   "source": [
    "Ahora que ya tenemos la representación matemática del estado de un qubit, surge la duda ¿Qué es nuestro qubit físico? Después de todo, cuando \"medimos\" un bit realmente estamos midiendo alguna cantidad física (como el voltaje, por ejemplo) y le asignamos un valor binario a dos mediciones claramente distintas entre sí (un 0 para la ausencia de voltaje y un 1 para el voltaje máximo, por ejemplo). <br><br>\n",
    "*Nota: En la práctica, en realidad, se asignan los valores de 0 y 1 a dos grupos de valores distintos debido a los errores que surgen al hacer mediciones; pero para fines prácticos vamos a considerar el caso ideal.*"
   ]
  },
  {
   "cell_type": "markdown",
   "id": "9bc51638",
   "metadata": {},
   "source": [
    "El caso de los qubits no es muy distinto al de los bits; siendo la principal diferencia que para representarlos físicamente necesitamos un **sistema cuántico**, es decir, un sistema que exhiba propiedades cuánticas (como un átomo, por ejemplo). Una vez que tenemos nuestro sistema cuántico, lo único que falta hacer es tomar una propiedad de dicho sistema que posea dos estados que se puedan diferenciar por medio de mediciones (como la energía, por ejemplo) y definir uno de esos estados como $|0\\rangle$ y otro como $|1\\rangle$. De esta manera, dependiendo de que estado midamos al final de nuestro proceso (qué valor de energía midamos, por ejemplo) sabremos que nuestro resultado es un 0 o un 1."
   ]
  }
 ],
 "metadata": {
  "kernelspec": {
   "display_name": "Python 3 (ipykernel)",
   "language": "python",
   "name": "python3"
  },
  "language_info": {
   "codemirror_mode": {
    "name": "ipython",
    "version": 3
   },
   "file_extension": ".py",
   "mimetype": "text/x-python",
   "name": "python",
   "nbconvert_exporter": "python",
   "pygments_lexer": "ipython3",
   "version": "3.10.9"
  }
 },
 "nbformat": 4,
 "nbformat_minor": 5
}
