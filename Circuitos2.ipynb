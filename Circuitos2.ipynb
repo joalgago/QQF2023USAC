{
 "cells": [
  {
   "cell_type": "markdown",
   "id": "aee2bacb",
   "metadata": {},
   "source": [
    "<img src=\"Imagenes/Mac_wallpaper_3.png\" width=\"50%\">"
   ]
  },
  {
   "cell_type": "markdown",
   "id": "dc104edd",
   "metadata": {},
   "source": [
    "# Circuitos con múltiples qubits"
   ]
  },
  {
   "cell_type": "markdown",
   "id": "2c133ff1",
   "metadata": {},
   "source": [
    "### Sistemas de múltiples qubits"
   ]
  },
  {
   "cell_type": "markdown",
   "id": "c4a401cf",
   "metadata": {},
   "source": [
    "Hasta ahora todo lo que hemos echo ha sido manipular el estado de un solo qubit. Por lo que ahora nos hacemos la pregunta ¿Qué pasa si agregamos más qubits a nuestro sistema? De momento, vamos a empezar con dos qubits, cuyos vectores de estado son"
   ]
  },
  {
   "cell_type": "markdown",
   "id": "058fa9ef",
   "metadata": {},
   "source": [
    "$\\hspace{11 cm}|q_{0}\\rangle \\hspace{0.5 cm} y \\hspace{0.5 cm} |q_{1}\\rangle$"
   ]
  },
  {
   "cell_type": "markdown",
   "id": "e13aca83",
   "metadata": {},
   "source": [
    "Si llamamos $|\\psi\\rangle$ al estado del sistema formado por los dos qubits, este será el **producto tensorial** de los vectores de estado de ambos qubits. Y es aquí donde hay que tener mucho cuidado, pues el producto tensorial **no es conmutativo**, es decir "
   ]
  },
  {
   "cell_type": "markdown",
   "id": "71b7b84d",
   "metadata": {},
   "source": [
    "$\\hspace{8 cm} |q_{0}\\rangle\\otimes|q_{1}\\rangle \\neq |q_{1}\\rangle\\otimes|q_{0}\\rangle \\hspace{0.5 cm} si \\hspace{0.5 cm} |q_{0}\\rangle\\neq|q_{1}\\rangle$"
   ]
  },
  {
   "cell_type": "markdown",
   "id": "d9baf379",
   "metadata": {},
   "source": [
    "Por lo que es importante conocer el orden en que se colocan los estados de los qubits. En el caso de Qiskit, este utiliza la convención *little-endian* que significa que el bit menos significativo se encuentra en la derecha. Entonces, si fueras a leer el resultado de una medición en binario, lo leerías de derecha a izquierda"
   ]
  },
  {
   "cell_type": "markdown",
   "id": "280cb3d4",
   "metadata": {},
   "source": [
    "Por ejemplo, la cadena de bits 10010 sería igual a $1*2^{4} + 0*2^{3} + 0*2^{2} + 1*2^{1} + 0*2^{0} = 18$."
   ]
  },
  {
   "cell_type": "markdown",
   "id": "51c39cba",
   "metadata": {},
   "source": [
    "Por lo tanto, nuestro estado $|\\psi\\rangle$ en qiskit sería representado como"
   ]
  },
  {
   "cell_type": "markdown",
   "id": "94e25253",
   "metadata": {},
   "source": [
    "$\\hspace{10 cm} |\\psi\\rangle = |q_{1}\\rangle\\otimes|q_{0}\\rangle$"
   ]
  },
  {
   "cell_type": "markdown",
   "id": "574b04df",
   "metadata": {},
   "source": [
    "Veamos ahora un ejemplo utilizando los estados de la base. Primero, hagámos los cálculos a mano"
   ]
  },
  {
   "cell_type": "markdown",
   "id": "00120eec",
   "metadata": {},
   "source": [
    "$\\hspace{5.5 cm}|01\\rangle = |0\\rangle\\otimes|1\\rangle = \\begin{pmatrix} 1 \\\\ 0 \\end{pmatrix} \\otimes \\begin{pmatrix} 0 \\\\ 1 \\end{pmatrix} = \\begin{pmatrix} 1\\cdot\\begin{pmatrix}0 \\\\ 1\\end{pmatrix} \\\\ 0\\cdot\\begin{pmatrix} 0 \\\\ 1\\end{pmatrix} \\end{pmatrix} = \\begin{pmatrix} 0 \\\\ 1 \\\\ 0 \\\\ 0 \\end{pmatrix}$"
   ]
  },
  {
   "cell_type": "markdown",
   "id": "f8072358",
   "metadata": {},
   "source": [
    "$\\hspace{5.5 cm}|10\\rangle = |1\\rangle\\otimes|0\\rangle = \\begin{pmatrix} 0 \\\\ 1 \\end{pmatrix} \\otimes \\begin{pmatrix} 1 \\\\ 0 \\end{pmatrix} = \\begin{pmatrix} 0\\cdot\\begin{pmatrix}1 \\\\ 0\\end{pmatrix} \\\\ 1\\cdot\\begin{pmatrix} 1 \\\\ 0\\end{pmatrix} \\end{pmatrix} = \\begin{pmatrix} 0 \\\\ 0 \\\\ 1 \\\\ 0 \\end{pmatrix}$"
   ]
  },
  {
   "cell_type": "markdown",
   "id": "cfabf086",
   "metadata": {},
   "source": [
    "Como puedes ver $|01\\rangle \\neq |10\\rangle$. Ahora, comprobemos los resultados con el simulador."
   ]
  },
  {
   "cell_type": "code",
   "execution_count": 7,
   "id": "fb5d7732",
   "metadata": {},
   "outputs": [
    {
     "name": "stdout",
     "output_type": "stream",
     "text": [
      "Estado: |00> Vector de estado: [1.+0.j 0.+0.j 0.+0.j 0.+0.j]\n",
      "Estado: |01> Vector de estado: [0.+0.j 1.+0.j 0.+0.j 0.+0.j]\n",
      "Estado: |10> Vector de estado: [0.+0.j 0.+0.j 1.+0.j 0.+0.j]\n",
      "Estado: |11> Vector de estado: [0.+0.j 0.+0.j 0.+0.j 1.+0.j]\n"
     ]
    }
   ],
   "source": [
    "from qiskit import QuantumCircuit, execute, Aer\n",
    "\n",
    "#Creamos una lista para almacenar las cuatro posibles combinaciones de dos qubits\n",
    "estados = [\"00\",\"01\",\"10\",\"11\"]\n",
    "\n",
    "for estado in estados:\n",
    "#Creamos un circuito con dos qubits sin bits clásicos, pues no vamos a hacer mediciones\n",
    "    qc = QuantumCircuit(2)\n",
    "    \n",
    "#Preparamos nuestro estado inicial en base al estado seleccionado\n",
    "    if int(estado[0]) == 1:\n",
    "        qc.x(1)\n",
    "    if int(estado[1]) == 1:\n",
    "        qc.x(0)\n",
    "\n",
    "#Ejecutamos el simulador y obtenemos el vector de estado \n",
    "    job = execute(qc,Aer.get_backend('statevector_simulator'),optimization_level=0)\n",
    "    precision = 3 \n",
    "    vector_estado = job.result().get_statevector(qc,precision).data\n",
    "#Imprimimos nuestros resultados\n",
    "    print(\"Estado:\",\"|\"+estado+\">\",\"Vector de estado:\",vector_estado)"
   ]
  },
  {
   "cell_type": "markdown",
   "id": "7f3e4c98",
   "metadata": {},
   "source": [
    "Como podemos ver, el simulador confirma nuestros cálculos. También hemos incluido el vector de estado para los estados $|00\\rangle$ y $|11\\rangle$, los cuales puedes confirmar por tu cuenta. <br><br>\n",
    "De la misma forma que los estados $|0\\rangle$ y $|1\\rangle$ son la base computacional de un sistema con un qubit, los estados $|00\\rangle$, $|01\\rangle$, $|10\\rangle$ y $|11\\rangle$ son la base computacional de un sistema con dos qubits. Esto lo podemos comprobar al realizar el producto tensorial de dos vectores de estado generales:"
   ]
  },
  {
   "cell_type": "markdown",
   "id": "69fd691e",
   "metadata": {},
   "source": [
    "$|\\psi\\rangle = (a|0\\rangle + b|1\\rangle)\\otimes(c|0\\rangle + d|1\\rangle) = \\begin{pmatrix} a \\\\ b \\end{pmatrix} \\otimes \\begin{pmatrix} c \\\\ d \\end{pmatrix} = \\begin{pmatrix} ac \\\\ ad \\\\ bc \\\\ bd \\end{pmatrix} = ac\\begin{pmatrix} 1 \\\\ 0 \\\\ 0 \\\\ 0 \\end{pmatrix} + ad\\begin{pmatrix} 0 \\\\ 1 \\\\ 0 \\\\ 0 \\end{pmatrix} + bc\\begin{pmatrix} 0 \\\\ 0 \\\\ 1 \\\\ 0 \\end{pmatrix} + bd\\begin{pmatrix} 0 \\\\ 0 \\\\ 0 \\\\ 1 \\end{pmatrix} = ac|00\\rangle + ad|01\\rangle + bc|10\\rangle + bd|11\\rangle$"
   ]
  },
  {
   "cell_type": "markdown",
   "id": "13b00596",
   "metadata": {},
   "source": [
    "Y podemos comporbar fácilmente que este nuevo estado $|\\psi\\rangle$ sigue siendo un estado válido al calcular su norma al cuadrado"
   ]
  },
  {
   "cell_type": "markdown",
   "id": "3458d76b",
   "metadata": {},
   "source": [
    "$\\hspace{4 cm}||\\psi\\rangle|^{2} = |ac|^{2}+|ad|^{2}+|bc|^{2}+|bd|^{2} = |a|^{2}(|c|^{2}+|d|^{2}) + |b|^{2}(|c|^{2}+|d|^{2}) = |a|^{2}+|b|^{2} = 1$"
   ]
  },
  {
   "cell_type": "markdown",
   "id": "a904dafb",
   "metadata": {},
   "source": [
    "Este proceso se puede generalizar para $n$ qubits, donde el estado del sistema completo será el producto tensorial de los estados de los $n$ qubits"
   ]
  },
  {
   "cell_type": "markdown",
   "id": "20bebaf7",
   "metadata": {},
   "source": [
    "$\\hspace{9 cm}|\\varphi\\rangle = |q_{n-1}\\rangle \\otimes \\cdots \\otimes |q_{1}\\rangle \\otimes |q_{0}\\rangle$"
   ]
  },
  {
   "cell_type": "markdown",
   "id": "d0591692",
   "metadata": {},
   "source": [
    "El resultado será un vector de $2^{n}$ dimensiones, y una base compuesta de $2^{n}$ estados que serán todas las combinaciones de $|0\\rangle$ y $|1\\rangle$ posibles. En el caso que vimos anteriormente teníamos $n=2$ qubits, por lo que nuestros vectores de estado son de $2^{2} = 4$ dimensiones, y tenemos $4$ estados en la base. Como vemos, el número de cadenas de bits que podemos representar con $n$ qubits crece exponencialmente, una propiedad que será muy útil al momento de crear algoritmos."
   ]
  },
  {
   "cell_type": "markdown",
   "id": "9439138c",
   "metadata": {},
   "source": [
    "----"
   ]
  },
  {
   "cell_type": "markdown",
   "id": "84a358a0",
   "metadata": {},
   "source": [
    "Pero ¿Qué sucede con los operadores? Bueno, al igual que los estados, debemos calcular el producto tensorial de los operadores **respetando el qubit sobre el que se están aplicando**. Tomemos el siguiente caso como ejemplo: queremos aplicar una compuerta $X$ al primer qubit y una compuerta $Z$ al segundo. Entonces, el operador que utilizaríamos sobre el sistema completo sería"
   ]
  },
  {
   "cell_type": "markdown",
   "id": "0718e8f2",
   "metadata": {},
   "source": [
    "$\\hspace{6.5 cm} O = Z \\otimes X = \\begin{pmatrix} 1 & 0 \\\\ 0 & -1 \\end{pmatrix} \\otimes \\begin{pmatrix} 0 & 1 \\\\ 1 & 0 \\end{pmatrix} = \\begin{pmatrix} 0 & 1 & 0 & 0 \\\\ 1 & 0 & 0 & 0 \\\\ 0 & 0 & 0 & -1 \\\\ 0 & 0 & -1 & 0 \\end{pmatrix}$"
   ]
  },
  {
   "cell_type": "markdown",
   "id": "64c568d0",
   "metadata": {},
   "source": [
    "Y al igual que podemos comprobar los vectores de estado usando el simulador, también podemos comprobar la forma del operador que representa a todas las compuertas que se está aplicando sobre el sistema utilizando el backend *unitary_simulator*"
   ]
  },
  {
   "cell_type": "code",
   "execution_count": 8,
   "id": "27b24d76",
   "metadata": {},
   "outputs": [
    {
     "name": "stdout",
     "output_type": "stream",
     "text": [
      "[[ 0.+0.j  1.+0.j  0.+0.j  0.+0.j]\n",
      " [ 1.+0.j  0.+0.j  0.+0.j  0.+0.j]\n",
      " [-0.+0.j -0.+0.j -0.+0.j -1.+0.j]\n",
      " [-0.+0.j -0.+0.j -1.+0.j -0.+0.j]]\n"
     ]
    }
   ],
   "source": [
    "qc = QuantumCircuit(2)\n",
    "\n",
    "qc.x(0)\n",
    "qc.z(1)\n",
    "\n",
    "job = execute(qc,Aer.get_backend('unitary_simulator'),optimization_level=0)\n",
    "precision = 3 \n",
    "operador = job.result().get_unitary(qc,precision).data\n",
    "print(operador)"
   ]
  },
  {
   "cell_type": "markdown",
   "id": "f96c72a4",
   "metadata": {},
   "source": [
    "Como podemos ver, el simulador confirma la forma de nuestro operador. Ahora, vamos a aplicarlo sobre el estado $|10\\rangle$ y vamos a calcular el resultado a mano y a través del simulador."
   ]
  },
  {
   "cell_type": "markdown",
   "id": "ee03a210",
   "metadata": {},
   "source": [
    "$\\hspace{8 cm} O|10\\rangle = \\begin{pmatrix} 0 & 1 & 0 & 0 \\\\ 1 & 0 & 0 & 0 \\\\ 0 & 0 & 0 & -1 \\\\ 0 & 0 & -1 & 0 \\end{pmatrix}\\begin{pmatrix} 0 \\\\ 0 \\\\ 1 \\\\ 0 \\end{pmatrix} = \\begin{pmatrix} 0 \\\\ 0 \\\\ 0 \\\\ -1 \\end{pmatrix} = -|11\\rangle$"
   ]
  },
  {
   "cell_type": "code",
   "execution_count": 10,
   "id": "db1b1cec",
   "metadata": {},
   "outputs": [
    {
     "name": "stdout",
     "output_type": "stream",
     "text": [
      "[ 0.+0.j  0.+0.j -0.+0.j -1.+0.j]\n"
     ]
    }
   ],
   "source": [
    "qc = QuantumCircuit(2)\n",
    "\n",
    "#Preparamos el estado |10>\n",
    "qc.x(1)\n",
    "\n",
    "#Aplicamos el operador O\n",
    "qc.x(0)\n",
    "qc.z(1)\n",
    "\n",
    "job = execute(qc,Aer.get_backend('statevector_simulator'),optimization_level=0)\n",
    "precision = 3 \n",
    "operador = job.result().get_statevector(qc,precision).data\n",
    "print(operador)"
   ]
  },
  {
   "cell_type": "markdown",
   "id": "2c737308",
   "metadata": {},
   "source": [
    "En el caso en que solo apliquemos una compuerta a un qubit, debemos hacer el producto tensorial de igual manera, aplicando el operador Identidad al otro qubit. Por ejemplo, si solo queremos aplicar la compuerta $X$ al primer qubit, nuestro operador será"
   ]
  },
  {
   "cell_type": "markdown",
   "id": "9b9605c1",
   "metadata": {},
   "source": [
    "$\\hspace{6.5 cm} A = I \\otimes X = \\begin{pmatrix} 1 & 0 \\\\ 0 & 1 \\end{pmatrix} \\otimes \\begin{pmatrix} 0 & 1 \\\\ 1 & 0 \\end{pmatrix} = \\begin{pmatrix} 0 & 1 & 0 & 0 \\\\ 1 & 0 & 0 & 0 \\\\ 0 & 0 & 0 & 1 \\\\ 0 & 0 & 1 & 0 \\end{pmatrix}$"
   ]
  },
  {
   "cell_type": "code",
   "execution_count": 11,
   "id": "27d51ecf",
   "metadata": {},
   "outputs": [
    {
     "name": "stdout",
     "output_type": "stream",
     "text": [
      "[[0.+0.j 1.+0.j 0.+0.j 0.+0.j]\n",
      " [1.+0.j 0.+0.j 0.+0.j 0.+0.j]\n",
      " [0.+0.j 0.+0.j 0.+0.j 1.+0.j]\n",
      " [0.+0.j 0.+0.j 1.+0.j 0.+0.j]]\n"
     ]
    }
   ],
   "source": [
    "qc = QuantumCircuit(2)\n",
    "\n",
    "qc.x(0)\n",
    "\n",
    "job = execute(qc,Aer.get_backend('unitary_simulator'),optimization_level=0)\n",
    "precision = 3 \n",
    "operador = job.result().get_unitary(qc,precision).data\n",
    "print(operador)"
   ]
  },
  {
   "cell_type": "markdown",
   "id": "6c0461ef",
   "metadata": {},
   "source": [
    "De esta forma vemos que si el vector de estado de un sistema de $n$ qubits es de $2^{n}$ dimensiones, los operadores que se aplican a dicho sistema serán matrices de $2^{n}\\times 2^{n}$. En el caso con $n=2$ qubits, tenemos matrices de $4\\times 4$."
   ]
  },
  {
   "cell_type": "markdown",
   "id": "7e107b90",
   "metadata": {},
   "source": [
    "---"
   ]
  },
  {
   "cell_type": "markdown",
   "id": "e11eb36b",
   "metadata": {},
   "source": [
    "Si bien es importante conocer el proceso matemático detrás de estas operaciones, podemos usar una de las propiedades del producto tensorial para hacer más sencillos los cálculos a mano. Tomemos nuestro ejemplo del operador $O = Z\\otimes X$ actuando sobre el estado $|10\\rangle$:"
   ]
  },
  {
   "cell_type": "markdown",
   "id": "bb4d33cd",
   "metadata": {},
   "source": [
    "$\\hspace{6 cm} O|10\\rangle = (Z\\otimes X)(|1\\rangle\\otimes|0\\rangle) = (Z|1\\rangle)\\otimes(X|0\\rangle) = -|1\\rangle\\otimes|1\\rangle = -|11\\rangle$"
   ]
  },
  {
   "cell_type": "markdown",
   "id": "1c12e6f3",
   "metadata": {},
   "source": [
    "---"
   ]
  },
  {
   "cell_type": "markdown",
   "id": "a87c9b22",
   "metadata": {},
   "source": [
    "### Compuerta CNOT"
   ]
  },
  {
   "cell_type": "markdown",
   "id": "2c6d51a3",
   "metadata": {},
   "source": [
    "Ahora, vamos a introducir una compuerta específicamente diseñada para operar sobre dos qubits: la compuerta CNOT. Como ya es costumbre, veamos su forma matricial primero:"
   ]
  },
  {
   "cell_type": "markdown",
   "id": "55c18a06",
   "metadata": {},
   "source": [
    "$\\hspace{8 cm} CNOT = \\begin{pmatrix} 1 & 0 & 0 & 0 \\\\ 0 & 1 & 0 & 0 \\\\ 0 & 0 & 0 & 1 \\\\ 0 & 0 & 1 & 0 \\end{pmatrix}$"
   ]
  },
  {
   "cell_type": "markdown",
   "id": "d2451a0f",
   "metadata": {},
   "source": [
    "Sabiendo cuál es la forma vectorial de nuestros estados base, es fácil calcular el efecto de este operador sobre ellos:"
   ]
  },
  {
   "cell_type": "markdown",
   "id": "57ece2bf",
   "metadata": {},
   "source": [
    "- $CNOT(|00\\rangle) = |00\\rangle$\n",
    "- $CNOT(|01\\rangle) = |01\\rangle$\n",
    "- $CNOT(|10\\rangle) = |11\\rangle$\n",
    "- $CNOT(|11\\rangle) = |10\\rangle$"
   ]
  },
  {
   "cell_type": "markdown",
   "id": "2891fc09",
   "metadata": {},
   "source": [
    "Como podemos ver, el efecto de esta compuerta es aplicar un operador NOT al primer qubit cuando el segundo se encuentra en el estado $|1\\rangle$. De allí su nombre, que es una abreviación de *NOT Controlado* en inglés. En este caso, decimos que el qubit que \"revisa\" es el *qubit control*, y el qubit sobre el que aplica el operador NOT es el *qubit objetivo*. <br><br>\n",
    "Su sintaxis en Qiskit es `.cx(q[1],q[0])`, donde q[1] es el qubit control y q[0] el qubit objetivo."
   ]
  },
  {
   "cell_type": "code",
   "execution_count": 20,
   "id": "9954ce49",
   "metadata": {},
   "outputs": [
    {
     "name": "stdout",
     "output_type": "stream",
     "text": [
      "CNOT |00> = [1.+0.j 0.+0.j 0.+0.j 0.+0.j]\n",
      "CNOT |01> = [0.+0.j 1.+0.j 0.+0.j 0.+0.j]\n",
      "CNOT |10> = [0.+0.j 0.+0.j 0.+0.j 1.+0.j]\n",
      "CNOT |11> = [0.+0.j 0.+0.j 1.+0.j 0.+0.j]\n"
     ]
    }
   ],
   "source": [
    "#Creamos una lista para almacenar las cuatro posibles combinaciones de dos qubits\n",
    "estados = [\"00\",\"01\",\"10\",\"11\"]\n",
    "\n",
    "for estado in estados:\n",
    "#Creamos un circuito con dos qubits sin bits clásicos, pues no vamos a hacer mediciones\n",
    "    qc = QuantumCircuit(2)\n",
    "    \n",
    "#Preparamos nuestro estado inicial en base al estado seleccionado\n",
    "    if int(estado[0]) == 1:\n",
    "        qc.x(1)\n",
    "    if int(estado[1]) == 1:\n",
    "        qc.x(0)\n",
    "\n",
    "#Aplicamos el operador CNOT a cada estado base \n",
    "    qc.cx(1,0)\n",
    "\n",
    "#Ejecutamos el simulador y obtenemos el vector de estado \n",
    "    job = execute(qc,Aer.get_backend('statevector_simulator'),optimization_level=0)\n",
    "    precision = 3 \n",
    "    vector_estado = job.result().get_statevector(qc,precision).data\n",
    "#Imprimimos nuestros resultados\n",
    "    print(\"CNOT\",\"|\"+estado+\">\",\"=\",vector_estado)"
   ]
  },
  {
   "cell_type": "markdown",
   "id": "f5ac8e27",
   "metadata": {},
   "source": [
    "¿Qué pasa si ahora queremos que el primer qubit sea el qubit control y el segundo el objetivo? Bueno, primero veamos cómo luciría la nueva matriz"
   ]
  },
  {
   "cell_type": "markdown",
   "id": "c46f4137",
   "metadata": {},
   "source": [
    "$\\hspace{8 cm} CNOT = \\begin{pmatrix} 1 & 0 & 0 & 0 \\\\ 0 & 0 & 0 & 1 \\\\ 0 & 0 & 1 & 0 \\\\ 0 & 1 & 0 & 0 \\end{pmatrix}$"
   ]
  },
  {
   "cell_type": "markdown",
   "id": "98fff4a5",
   "metadata": {},
   "source": [
    "Este operador debería comportarse de la siguiente forma:"
   ]
  },
  {
   "cell_type": "markdown",
   "id": "106d0e8b",
   "metadata": {},
   "source": [
    "- $CNOT(|00\\rangle) = |00\\rangle$\n",
    "- $CNOT(|01\\rangle) = |11\\rangle$\n",
    "- $CNOT(|10\\rangle) = |10\\rangle$\n",
    "- $CNOT(|11\\rangle) = |01\\rangle$"
   ]
  },
  {
   "cell_type": "code",
   "execution_count": 14,
   "id": "f965a33d",
   "metadata": {},
   "outputs": [
    {
     "name": "stdout",
     "output_type": "stream",
     "text": [
      "CNOT |00> = [1.+0.j 0.+0.j 0.+0.j 0.+0.j]\n",
      "CNOT |01> = [0.+0.j 0.+0.j 0.+0.j 1.+0.j]\n",
      "CNOT |10> = [0.+0.j 0.+0.j 1.+0.j 0.+0.j]\n",
      "CNOT |11> = [0.+0.j 1.+0.j 0.+0.j 0.+0.j]\n"
     ]
    }
   ],
   "source": [
    "#Creamos una lista para almacenar las cuatro posibles combinaciones de dos qubits\n",
    "estados = [\"00\",\"01\",\"10\",\"11\"]\n",
    "\n",
    "for estado in estados:\n",
    "#Creamos un circuito con dos qubits sin bits clásicos, pues no vamos a hacer mediciones\n",
    "    qc = QuantumCircuit(2)\n",
    "    \n",
    "#Preparamos nuestro estado inicial en base al estado seleccionado\n",
    "    if int(estado[0]) == 1:\n",
    "        qc.x(1)\n",
    "    if int(estado[1]) == 1:\n",
    "        qc.x(0)\n",
    "\n",
    "#Aplicamos el operador CNOT a cada estado base \n",
    "    qc.cx(0,1)\n",
    "\n",
    "#Ejecutamos el simulador y obtenemos el vector de estado \n",
    "    job = execute(qc,Aer.get_backend('statevector_simulator'),optimization_level=0)\n",
    "    precision = 3 \n",
    "    vector_estado = job.result().get_statevector(qc,precision).data\n",
    "#Imprimimos nuestros resultados\n",
    "    print(\"CNOT\",\"|\"+estado+\">\",\"=\",vector_estado)"
   ]
  },
  {
   "cell_type": "markdown",
   "id": "6a40eca5",
   "metadata": {},
   "source": [
    "---"
   ]
  },
  {
   "cell_type": "markdown",
   "id": "adbb69c4",
   "metadata": {},
   "source": [
    "Finalmente, ahora que tenemos la compuerta CNOT a nuestra disposición, vamos a ver cómo esta nos puede ayudar a entrelazar dos qubits. Para ello vamos a tomar un sistema donde el primer qubit se encuentra en superposición, y el segundo esta inicializado en el estado $|0\\rangle$"
   ]
  },
  {
   "cell_type": "markdown",
   "id": "66602ec5",
   "metadata": {},
   "source": [
    "$\\hspace{7 cm} |+0\\rangle = \\dfrac{1}{\\sqrt{2}}(|0\\rangle + |1\\rangle)\\otimes|0\\rangle = \\dfrac{1}{\\sqrt{2}}(|00\\rangle + |10\\rangle)$"
   ]
  },
  {
   "cell_type": "markdown",
   "id": "2c65a6ab",
   "metadata": {},
   "source": [
    "Ahora aplicamos un operador CNOT que tenga como qubit control el segundo qubit:"
   ]
  },
  {
   "cell_type": "markdown",
   "id": "d71ecf26",
   "metadata": {},
   "source": [
    "$\\hspace{6 cm} CNOT|+0\\rangle = \\dfrac{1}{\\sqrt{2}}(CNOT|00\\rangle + CNOT|10\\rangle) = \\dfrac{1}{\\sqrt{2}}(|00\\rangle + |11\\rangle)$"
   ]
  },
  {
   "cell_type": "markdown",
   "id": "060bcc83",
   "metadata": {},
   "source": [
    "Notamos que en este nuevo estado nuestros dos qubits están entrelazados, pues al momento de medir uno de los dos sabremos de inmediato cuál es el valor del otro. Por ejemplo, si medimos el primer qubit y obtenemos el estado $|0\\rangle$, sin necesidad de medir el segundo qubit sabremos que este también se encuentra en el estado $|0\\rangle$. Veamos esto en el simulador, evaluando el vector de estado que resulta de medir únicamente uno de los qubits, y lo compararemos con un par de qubits que no están entrelazados."
   ]
  },
  {
   "cell_type": "code",
   "execution_count": 21,
   "id": "e7c8f70a",
   "metadata": {},
   "outputs": [
    {
     "data": {
      "image/png": "[encoded data removed]",
      "text/plain": [
       "<Figure size 454.517x284.278 with 1 Axes>"
      ]
     },
     "execution_count": 21,
     "metadata": {},
     "output_type": "execute_result"
    }
   ],
   "source": [
    "qc = QuantumCircuit(2,2)\n",
    "\n",
    "qc.h(1)\n",
    "qc.cx(1,0)\n",
    "\n",
    "qc.barrier()\n",
    "\n",
    "qc.measure(0,0)\n",
    "\n",
    "qc.draw(output=\"mpl\")"
   ]
  },
  {
   "cell_type": "code",
   "execution_count": 24,
   "id": "1d414380",
   "metadata": {},
   "outputs": [
    {
     "name": "stdout",
     "output_type": "stream",
     "text": [
      "[1.+0.j 0.+0.j 0.+0.j 0.+0.j]\n"
     ]
    }
   ],
   "source": [
    "job = execute(qc,Aer.get_backend('statevector_simulator'),optimization_level=0)\n",
    "precision = 3 \n",
    "vector_estado = job.result().get_statevector(qc,precision).data\n",
    "print(vector_estado)"
   ]
  },
  {
   "cell_type": "markdown",
   "id": "d29bd411",
   "metadata": {},
   "source": [
    "Ahora, probemos hacer lo mismo con el estado"
   ]
  },
  {
   "cell_type": "markdown",
   "id": "fd3f3696",
   "metadata": {},
   "source": [
    "$\\hspace{6 cm} |++\\rangle = \\dfrac{1}{\\sqrt{2}}\\dfrac{1}{\\sqrt{2}}(|0\\rangle + |1\\rangle)\\otimes(|0\\rangle + |1\\rangle) = \\dfrac{1}{2}(|00\\rangle + |10\\rangle + |01\\rangle + |11\\rangle)$"
   ]
  },
  {
   "cell_type": "code",
   "execution_count": 25,
   "id": "90498d42",
   "metadata": {},
   "outputs": [
    {
     "data": {
      "image/png": "[encoded data removed]",
      "text/plain": [
       "<Figure size 370.906x284.278 with 1 Axes>"
      ]
     },
     "execution_count": 25,
     "metadata": {},
     "output_type": "execute_result"
    }
   ],
   "source": [
    "qc = QuantumCircuit(2,2)\n",
    "\n",
    "qc.h(1)\n",
    "qc.h(0)\n",
    "\n",
    "qc.barrier()\n",
    "\n",
    "qc.measure(0,0)\n",
    "\n",
    "qc.draw(output=\"mpl\")"
   ]
  },
  {
   "cell_type": "code",
   "execution_count": 35,
   "id": "1a7db3cb",
   "metadata": {},
   "outputs": [
    {
     "name": "stdout",
     "output_type": "stream",
     "text": [
      "[0.707+0.j 0.   +0.j 0.707+0.j 0.   +0.j]\n"
     ]
    }
   ],
   "source": [
    "job = execute(qc,Aer.get_backend('statevector_simulator'),optimization_level=0)\n",
    "precision = 3 \n",
    "vector_estado = job.result().get_statevector(qc,precision).data\n",
    "print(vector_estado)"
   ]
  },
  {
   "cell_type": "markdown",
   "id": "4a0da91f",
   "metadata": {},
   "source": [
    "Notamos que el vector de estado que obtenemos es el de una superposición, a diferencia del caso donde hay entrelazamiento, en el que el vector de estado resultante es el de un único estado de la base."
   ]
  },
  {
   "cell_type": "markdown",
   "id": "fe0f0b6e",
   "metadata": {},
   "source": [
    "De manera más general, decimos que dos estados están entrelazados cuando no podemos expresar el estado del sistema como el producto tensorial de dos estados."
   ]
  }
 ],
 "metadata": {
  "kernelspec": {
   "display_name": "Python 3 (ipykernel)",
   "language": "python",
   "name": "python3"
  },
  "language_info": {
   "codemirror_mode": {
    "name": "ipython",
    "version": 3
   },
   "file_extension": ".py",
   "mimetype": "text/x-python",
   "name": "python",
   "nbconvert_exporter": "python",
   "pygments_lexer": "ipython3",
   "version": "3.10.9"
  }
 },
 "nbformat": 4,
 "nbformat_minor": 5
}
