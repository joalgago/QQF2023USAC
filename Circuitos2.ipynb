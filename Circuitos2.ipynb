{
 "cells": [
  {
   "cell_type": "markdown",
   "id": "aee2bacb",
   "metadata": {},
   "source": [
    "<img src=\"Imagenes/Mac_wallpaper_3.png\" width=\"50%\">"
   ]
  },
  {
   "cell_type": "code",
   "execution_count": null,
   "id": "6bfe5cd2",
   "metadata": {},
   "outputs": [],
   "source": [
    "!pip install \"qiskit[visualization]\" --user"
   ]
  },
  {
   "cell_type": "code",
   "execution_count": null,
   "id": "0fe2a72d",
   "metadata": {},
   "outputs": [],
   "source": [
    "!pip install qiskit-aer --user"
   ]
  },
  {
   "cell_type": "markdown",
   "id": "dc104edd",
   "metadata": {},
   "source": [
    "# Circuitos con múltiples qubits"
   ]
  },
  {
   "cell_type": "markdown",
   "id": "2c133ff1",
   "metadata": {},
   "source": [
    "### Sistemas de múltiples qubits"
   ]
  },
  {
   "cell_type": "markdown",
   "id": "c4a401cf",
   "metadata": {},
   "source": [
    "Hasta ahora todo lo que hemos echo ha sido manipular el estado de un solo qubit. Por lo que ahora nos hacemos la pregunta ¿Qué pasa si agregamos más qubits a nuestro sistema? De momento, vamos a empezar con dos qubits, cuyos vectores de estado son"
   ]
  },
  {
   "cell_type": "markdown",
   "id": "058fa9ef",
   "metadata": {},
   "source": [
    "$\\hspace{11 cm}|q_{0}\\rangle \\hspace{0.5 cm} y \\hspace{0.5 cm} |q_{1}\\rangle$"
   ]
  },
  {
   "cell_type": "markdown",
   "id": "e13aca83",
   "metadata": {},
   "source": [
    "Si llamamos $|\\psi\\rangle$ al estado del sistema formado por los dos qubits, este será el **producto tensorial** de los vectores de estado de ambos qubits. Y es aquí donde hay que tener mucho cuidado, pues el producto tensorial **no es conmutativo**, es decir "
   ]
  },
  {
   "cell_type": "markdown",
   "id": "71b7b84d",
   "metadata": {},
   "source": [
    "$\\hspace{8 cm} |q_{0}\\rangle\\otimes|q_{1}\\rangle \\neq |q_{1}\\rangle\\otimes|q_{0}\\rangle \\hspace{0.5 cm} si \\hspace{0.5 cm} |q_{0}\\rangle\\neq|q_{1}\\rangle$"
   ]
  },
  {
   "cell_type": "markdown",
   "id": "d9baf379",
   "metadata": {},
   "source": [
    "Por lo que es importante conocer el orden en que se colocan los estados de los qubits. En el caso de Qiskit, este utiliza la convención *little-endian* que significa que el bit menos significativo se encuentra en la derecha. Entonces, si fueras a leer el resultado de una medición en binario, lo leerías de derecha a izquierda"
   ]
  },
  {
   "cell_type": "markdown",
   "id": "280cb3d4",
   "metadata": {},
   "source": [
    "Por ejemplo, la cadena de bits 10010 sería igual a $1*2^{4} + 0*2^{3} + 0*2^{2} + 1*2^{1} + 0*2^{0} = 18$."
   ]
  },
  {
   "cell_type": "markdown",
   "id": "51c39cba",
   "metadata": {},
   "source": [
    "Por lo tanto, nuestro estado $|\\psi\\rangle$ en qiskit sería representado como"
   ]
  },
  {
   "cell_type": "markdown",
   "id": "94e25253",
   "metadata": {},
   "source": [
    "$\\hspace{10 cm} |\\psi\\rangle = |q_{1}\\rangle\\otimes|q_{0}\\rangle$"
   ]
  },
  {
   "cell_type": "markdown",
   "id": "574b04df",
   "metadata": {},
   "source": [
    "Veamos ahora un ejemplo utilizando los estados de la base. Primero, hagámos los cálculos a mano"
   ]
  },
  {
   "cell_type": "markdown",
   "id": "00120eec",
   "metadata": {},
   "source": [
    "$\\hspace{5.5 cm}|01\\rangle = |0\\rangle\\otimes|1\\rangle = \\begin{pmatrix} 1 \\\\ 0 \\end{pmatrix} \\otimes \\begin{pmatrix} 0 \\\\ 1 \\end{pmatrix} = \\begin{pmatrix} 1\\cdot\\begin{pmatrix}0 \\\\ 1\\end{pmatrix} \\\\ 0\\cdot\\begin{pmatrix} 0 \\\\ 1\\end{pmatrix} \\end{pmatrix} = \\begin{pmatrix} 0 \\\\ 1 \\\\ 0 \\\\ 0 \\end{pmatrix}$"
   ]
  },
  {
   "cell_type": "markdown",
   "id": "f8072358",
   "metadata": {},
   "source": [
    "$\\hspace{5.5 cm}|10\\rangle = |1\\rangle\\otimes|0\\rangle = \\begin{pmatrix} 0 \\\\ 1 \\end{pmatrix} \\otimes \\begin{pmatrix} 1 \\\\ 0 \\end{pmatrix} = \\begin{pmatrix} 0\\cdot\\begin{pmatrix}1 \\\\ 0\\end{pmatrix} \\\\ 1\\cdot\\begin{pmatrix} 1 \\\\ 0\\end{pmatrix} \\end{pmatrix} = \\begin{pmatrix} 0 \\\\ 0 \\\\ 1 \\\\ 0 \\end{pmatrix}$"
   ]
  },
  {
   "cell_type": "markdown",
   "id": "cfabf086",
   "metadata": {},
   "source": [
    "Como puedes ver $|01\\rangle \\neq |10\\rangle$. Ahora, comprobemos los resultados con el simulador."
   ]
  },
  {
   "cell_type": "code",
   "execution_count": null,
   "id": "fb5d7732",
   "metadata": {},
   "outputs": [],
   "source": [
    "from qiskit import QuantumCircuit\n",
    "from qiskit.quantum_info import Statevector\n",
    "from qiskit.visualization import array_to_latex\n",
    "\n",
    "#Creamos una lista para almacenar las cuatro posibles combinaciones de dos qubits\n",
    "estados = [\"00\",\"01\",\"10\",\"11\"]\n",
    "\n",
    "for estado in estados:\n",
    "    \n",
    "#Preparamos nuestro qubit en base al estado seleccionado\n",
    "    vec = Statevector.from_label(estado)\n",
    "\n",
    "#Imprimimos los estados en formato latex para una mejor visualización\n",
    "    display(array_to_latex(vec, prefix=\"|\"+estado+\"\\\\rangle =\"))"
   ]
  },
  {
   "cell_type": "markdown",
   "id": "7f3e4c98",
   "metadata": {},
   "source": [
    "Como podemos ver, el simulador confirma nuestros cálculos. También hemos incluido el vector de estado para los estados $|00\\rangle$ y $|11\\rangle$, los cuales puedes confirmar por tu cuenta. <br><br>\n",
    "De la misma forma que los estados $|0\\rangle$ y $|1\\rangle$ son la base computacional de un sistema con un qubit, los estados $|00\\rangle$, $|01\\rangle$, $|10\\rangle$ y $|11\\rangle$ son la base computacional de un sistema con dos qubits. Esto lo podemos comprobar al realizar el producto tensorial de dos vectores de estado generales:"
   ]
  },
  {
   "cell_type": "markdown",
   "id": "69fd691e",
   "metadata": {},
   "source": [
    "$|\\psi\\rangle = (a|0\\rangle + b|1\\rangle)\\otimes(c|0\\rangle + d|1\\rangle) = \\begin{pmatrix} a \\\\ b \\end{pmatrix} \\otimes \\begin{pmatrix} c \\\\ d \\end{pmatrix} = \\begin{pmatrix} ac \\\\ ad \\\\ bc \\\\ bd \\end{pmatrix} = ac\\begin{pmatrix} 1 \\\\ 0 \\\\ 0 \\\\ 0 \\end{pmatrix} + ad\\begin{pmatrix} 0 \\\\ 1 \\\\ 0 \\\\ 0 \\end{pmatrix} + bc\\begin{pmatrix} 0 \\\\ 0 \\\\ 1 \\\\ 0 \\end{pmatrix} + bd\\begin{pmatrix} 0 \\\\ 0 \\\\ 0 \\\\ 1 \\end{pmatrix} = ac|00\\rangle + ad|01\\rangle + bc|10\\rangle + bd|11\\rangle$"
   ]
  },
  {
   "cell_type": "markdown",
   "id": "13b00596",
   "metadata": {},
   "source": [
    "Y podemos comprobar fácilmente que este nuevo estado $|\\psi\\rangle$ sigue siendo un estado válido al calcular su norma al cuadrado"
   ]
  },
  {
   "cell_type": "markdown",
   "id": "3458d76b",
   "metadata": {},
   "source": [
    "$\\hspace{4 cm}||\\psi\\rangle|^{2} = |ac|^{2}+|ad|^{2}+|bc|^{2}+|bd|^{2} = |a|^{2}(|c|^{2}+|d|^{2}) + |b|^{2}(|c|^{2}+|d|^{2}) = |a|^{2}+|b|^{2} = 1$"
   ]
  },
  {
   "cell_type": "markdown",
   "id": "a904dafb",
   "metadata": {},
   "source": [
    "Este proceso se puede generalizar para $n$ qubits, donde el estado del sistema completo será el producto tensorial de los estados de los $n$ qubits"
   ]
  },
  {
   "cell_type": "markdown",
   "id": "20bebaf7",
   "metadata": {},
   "source": [
    "$\\hspace{9 cm}|\\varphi\\rangle = |q_{n-1}\\rangle \\otimes \\cdots \\otimes |q_{1}\\rangle \\otimes |q_{0}\\rangle$"
   ]
  },
  {
   "cell_type": "markdown",
   "id": "d0591692",
   "metadata": {},
   "source": [
    "El resultado será un vector de $2^{n}$ dimensiones, y una base compuesta de $2^{n}$ estados que serán todas las combinaciones de $|0\\rangle$ y $|1\\rangle$ posibles. En el caso que vimos anteriormente teníamos $n=2$ qubits, por lo que nuestros vectores de estado son de $2^{2} = 4$ dimensiones, y tenemos $4$ estados en la base. Como vemos, el número de cadenas de bits que podemos representar con $n$ qubits crece exponencialmente, una propiedad que será muy útil al momento de crear algoritmos."
   ]
  },
  {
   "cell_type": "markdown",
   "id": "9439138c",
   "metadata": {},
   "source": [
    "----"
   ]
  },
  {
   "cell_type": "markdown",
   "id": "84a358a0",
   "metadata": {},
   "source": [
    "Pero ¿Qué sucede con los operadores? Bueno, al igual que los estados, debemos calcular el producto tensorial de los operadores **respetando el qubit sobre el que se están aplicando**. Tomemos el siguiente caso como ejemplo: queremos aplicar una compuerta $X$ al qubit cero y una compuerta $Z$ al qubit uno. Entonces, el operador que utilizaríamos sobre el sistema completo sería"
   ]
  },
  {
   "cell_type": "markdown",
   "id": "0718e8f2",
   "metadata": {},
   "source": [
    "$\\hspace{6.5 cm} O = Z \\otimes X = \\begin{pmatrix} 1 & 0 \\\\ 0 & -1 \\end{pmatrix} \\otimes \\begin{pmatrix} 0 & 1 \\\\ 1 & 0 \\end{pmatrix} = \\begin{pmatrix} 0 & 1 & 0 & 0 \\\\ 1 & 0 & 0 & 0 \\\\ 0 & 0 & 0 & -1 \\\\ 0 & 0 & -1 & 0 \\end{pmatrix}$"
   ]
  },
  {
   "cell_type": "markdown",
   "id": "64c568d0",
   "metadata": {},
   "source": [
    "Y al igual que podemos definir vectores de estado usando una función, también podemos definir la forma del operador que representa a todas las compuertas que se está aplicando sobre un circuito utilizando la función `Operator()`"
   ]
  },
  {
   "cell_type": "code",
   "execution_count": null,
   "id": "27b24d76",
   "metadata": {},
   "outputs": [],
   "source": [
    "from qiskit.quantum_info import Operator\n",
    "\n",
    "#Definimos el operador X como una lista de listas en Python. Los métodos de Operator() son bastante similares a los de\n",
    "#Statevector()\n",
    "X = Operator([[0, 1], [1, 0]])\n",
    "X.draw(\"latex\")"
   ]
  },
  {
   "cell_type": "code",
   "execution_count": null,
   "id": "acc77ce9",
   "metadata": {},
   "outputs": [],
   "source": [
    "#Definimos el operador Z\n",
    "Z = Operator([[1, 0], [0, -1]])\n",
    "Z.draw(\"latex\")"
   ]
  },
  {
   "cell_type": "code",
   "execution_count": null,
   "id": "4b6d7bf0",
   "metadata": {},
   "outputs": [],
   "source": [
    "#Utilizamos la función .tensor() para calcular el producto tensorial de dos matrices. Siempre tener cuidado con el orden\n",
    "O = Z.tensor(X)\n",
    "O.draw(\"latex\")"
   ]
  },
  {
   "cell_type": "markdown",
   "id": "f96c72a4",
   "metadata": {},
   "source": [
    "Ahora, vamos a aplicarlo sobre el estado $|10\\rangle$ y vamos a calcular el resultado a mano y a través del simulador."
   ]
  },
  {
   "cell_type": "markdown",
   "id": "ee03a210",
   "metadata": {},
   "source": [
    "$\\hspace{8 cm} O|10\\rangle = \\begin{pmatrix} 0 & 1 & 0 & 0 \\\\ 1 & 0 & 0 & 0 \\\\ 0 & 0 & 0 & -1 \\\\ 0 & 0 & -1 & 0 \\end{pmatrix}\\begin{pmatrix} 0 \\\\ 0 \\\\ 1 \\\\ 0 \\end{pmatrix} = \\begin{pmatrix} 0 \\\\ 0 \\\\ 0 \\\\ -1 \\end{pmatrix} = -|11\\rangle$"
   ]
  },
  {
   "cell_type": "code",
   "execution_count": null,
   "id": "db1b1cec",
   "metadata": {},
   "outputs": [],
   "source": [
    "#Preparamos el estado |10>\n",
    "estado = Statevector.from_label(\"10\")\n",
    "\n",
    "#Aplicamos el operador O y lo guardamos en otra variable\n",
    "evo = estado.evolve(O)\n",
    "\n",
    "evo.draw(\"latex\")"
   ]
  },
  {
   "cell_type": "code",
   "execution_count": null,
   "id": "1897c78e",
   "metadata": {},
   "outputs": [],
   "source": [
    "display(array_to_latex(evo, prefix=\"-|11\\\\rangle =\"))"
   ]
  },
  {
   "cell_type": "markdown",
   "id": "2c737308",
   "metadata": {},
   "source": [
    "En el caso en que solo apliquemos una compuerta a un qubit, debemos hacer el producto tensorial de igual manera, aplicando el operador Identidad al otro qubit. Por ejemplo, si solo queremos aplicar la compuerta $X$ al qubit cero, nuestro operador será"
   ]
  },
  {
   "cell_type": "markdown",
   "id": "9b9605c1",
   "metadata": {},
   "source": [
    "$\\hspace{6.5 cm} A = I \\otimes X = \\begin{pmatrix} 1 & 0 \\\\ 0 & 1 \\end{pmatrix} \\otimes \\begin{pmatrix} 0 & 1 \\\\ 1 & 0 \\end{pmatrix} = \\begin{pmatrix} 0 & 1 & 0 & 0 \\\\ 1 & 0 & 0 & 0 \\\\ 0 & 0 & 0 & 1 \\\\ 0 & 0 & 1 & 0 \\end{pmatrix}$"
   ]
  },
  {
   "cell_type": "code",
   "execution_count": null,
   "id": "27d51ecf",
   "metadata": {},
   "outputs": [],
   "source": [
    "#Definimos el operador identidad\n",
    "I = Operator([[1, 0], [0, 1]])\n",
    "\n",
    "A = I.tensor(X)\n",
    "A.draw(\"latex\")"
   ]
  },
  {
   "cell_type": "markdown",
   "id": "6c0461ef",
   "metadata": {},
   "source": [
    "De esta forma vemos que si el vector de estado de un sistema de $n$ qubits es de $2^{n}$ dimensiones, los operadores que se aplican a dicho sistema serán matrices de $2^{n}\\times 2^{n}$. En el caso con $n=2$ qubits, tenemos matrices de $4\\times 4$."
   ]
  },
  {
   "cell_type": "markdown",
   "id": "7e107b90",
   "metadata": {},
   "source": [
    "---"
   ]
  },
  {
   "cell_type": "markdown",
   "id": "e11eb36b",
   "metadata": {},
   "source": [
    "Si bien es importante conocer el proceso matemático detrás de estas operaciones, podemos usar una de las propiedades del producto tensorial para hacer más sencillos los cálculos a mano. Tomemos nuestro ejemplo del operador $O = Z\\otimes X$ actuando sobre el estado $|10\\rangle$:"
   ]
  },
  {
   "cell_type": "markdown",
   "id": "bb4d33cd",
   "metadata": {},
   "source": [
    "$\\hspace{6 cm} O|10\\rangle = (Z\\otimes X)(|1\\rangle\\otimes|0\\rangle) = (Z|1\\rangle)\\otimes(X|0\\rangle) = -|1\\rangle\\otimes|1\\rangle = -|11\\rangle$"
   ]
  },
  {
   "cell_type": "markdown",
   "id": "1c12e6f3",
   "metadata": {},
   "source": [
    "---"
   ]
  },
  {
   "cell_type": "markdown",
   "id": "a87c9b22",
   "metadata": {},
   "source": [
    "### Compuerta CNOT"
   ]
  },
  {
   "cell_type": "markdown",
   "id": "2c6d51a3",
   "metadata": {},
   "source": [
    "Ahora, vamos a introducir una compuerta específicamente diseñada para operar sobre dos qubits: la compuerta CNOT. Como ya es costumbre, veamos su forma matricial primero:"
   ]
  },
  {
   "cell_type": "markdown",
   "id": "55c18a06",
   "metadata": {},
   "source": [
    "$\\hspace{8 cm} CNOT = \\begin{pmatrix} 1 & 0 & 0 & 0 \\\\ 0 & 1 & 0 & 0 \\\\ 0 & 0 & 0 & 1 \\\\ 0 & 0 & 1 & 0 \\end{pmatrix}$"
   ]
  },
  {
   "cell_type": "markdown",
   "id": "d2451a0f",
   "metadata": {},
   "source": [
    "Sabiendo cuál es la forma vectorial de nuestros estados base, es fácil calcular el efecto de este operador sobre ellos:"
   ]
  },
  {
   "cell_type": "markdown",
   "id": "57ece2bf",
   "metadata": {},
   "source": [
    "- $CNOT(|00\\rangle) = |00\\rangle$\n",
    "- $CNOT(|01\\rangle) = |01\\rangle$\n",
    "- $CNOT(|10\\rangle) = |11\\rangle$\n",
    "- $CNOT(|11\\rangle) = |10\\rangle$"
   ]
  },
  {
   "cell_type": "markdown",
   "id": "2891fc09",
   "metadata": {},
   "source": [
    "Como podemos ver, el efecto de esta compuerta es aplicar un operador NOT al qubit cero cuando el qubit uno se encuentra en el estado $|1\\rangle$. De allí su nombre, que es una abreviación de *NOT Controlado* en inglés. En este caso, decimos que el qubit que \"revisa\" es el *qubit control*, y el qubit sobre el que aplica el operador NOT es el *qubit objetivo*. <br><br>\n",
    "Su sintaxis en Qiskit es `.cx(q[1],q[0])`, donde q[1] es el qubit control y q[0] el qubit objetivo."
   ]
  },
  {
   "cell_type": "code",
   "execution_count": null,
   "id": "9954ce49",
   "metadata": {},
   "outputs": [],
   "source": [
    "#Creamos una lista para almacenar las cuatro posibles combinaciones de dos qubits\n",
    "estados = [\"00\",\"01\",\"10\",\"11\"]\n",
    "\n",
    "#Creamos un circuito con dos qubits sin bits clásicos, pues no vamos a hacer mediciones\n",
    "qc = QuantumCircuit(2)\n",
    "\n",
    "#Aplicamos el operador CNOT sobre los dos qubits\n",
    "qc.cx(1,0)\n",
    "\n",
    "for estado in estados:\n",
    "    \n",
    "#Preparamos nuestro qubit en base al estado seleccionado\n",
    "    vec = Statevector.from_label(estado)\n",
    "    \n",
    "#Aplicamos el circuito a nuestros qubits\n",
    "    evo = vec.evolve(qc)\n",
    "\n",
    "#Imprimimos los estados\n",
    "    display(array_to_latex(evo, prefix=\"CNOT|\"+estado+\"\\\\rangle =\"))"
   ]
  },
  {
   "cell_type": "markdown",
   "id": "f5ac8e27",
   "metadata": {},
   "source": [
    "¿Qué pasa si ahora queremos que el qubit cero sea el qubit control y el qubit uno el objetivo? Bueno, primero veamos cómo luciría la nueva matriz"
   ]
  },
  {
   "cell_type": "markdown",
   "id": "c46f4137",
   "metadata": {},
   "source": [
    "$\\hspace{8 cm} CNOT = \\begin{pmatrix} 1 & 0 & 0 & 0 \\\\ 0 & 0 & 0 & 1 \\\\ 0 & 0 & 1 & 0 \\\\ 0 & 1 & 0 & 0 \\end{pmatrix}$"
   ]
  },
  {
   "cell_type": "markdown",
   "id": "98fff4a5",
   "metadata": {},
   "source": [
    "Este operador debería comportarse de la siguiente forma:"
   ]
  },
  {
   "cell_type": "markdown",
   "id": "106d0e8b",
   "metadata": {},
   "source": [
    "- $CNOT(|00\\rangle) = |00\\rangle$\n",
    "- $CNOT(|01\\rangle) = |11\\rangle$\n",
    "- $CNOT(|10\\rangle) = |10\\rangle$\n",
    "- $CNOT(|11\\rangle) = |01\\rangle$"
   ]
  },
  {
   "cell_type": "code",
   "execution_count": null,
   "id": "f965a33d",
   "metadata": {},
   "outputs": [],
   "source": [
    "#Creamos una lista para almacenar las cuatro posibles combinaciones de dos qubits\n",
    "estados = [\"00\",\"01\",\"10\",\"11\"]\n",
    "\n",
    "#Creamos un circuito con dos qubits sin bits clásicos, pues no vamos a hacer mediciones\n",
    "qc = QuantumCircuit(2)\n",
    "\n",
    "#Aplicamos el operador CNOT sobre los dos qubits\n",
    "qc.cx(0,1)\n",
    "\n",
    "for estado in estados:\n",
    "    \n",
    "#Preparamos nuestro qubit en base al estado seleccionado\n",
    "    vec = Statevector.from_label(estado)\n",
    "    \n",
    "#Aplicamos el circuito a nuestros qubits\n",
    "    evo = vec.evolve(qc)\n",
    "\n",
    "#Imprimimos los estados\n",
    "    display(array_to_latex(evo, prefix=\"CNOT|\"+estado+\"\\\\rangle =\"))"
   ]
  },
  {
   "cell_type": "markdown",
   "id": "833a2bc8",
   "metadata": {},
   "source": [
    "*Nota: La compuerta CNOT no realiza ninguna medición para verificar si el qubit control se encuentra en el estado $|1\\rangle$ o no, por lo que mantiene la superposición, a diferencia de una medición. Esto es parte del porque la compuerta CNOT es tan importante.*"
   ]
  },
  {
   "cell_type": "markdown",
   "id": "6a40eca5",
   "metadata": {},
   "source": [
    "---"
   ]
  },
  {
   "cell_type": "markdown",
   "id": "adbb69c4",
   "metadata": {},
   "source": [
    "Finalmente, ahora que tenemos la compuerta CNOT a nuestra disposición, vamos a ver cómo esta nos puede ayudar a entrelazar dos qubits. Para ello vamos a tomar un sistema donde el qubit uno se encuentra en superposición, y el qubit cero está inicializado en el estado $|0\\rangle$"
   ]
  },
  {
   "cell_type": "markdown",
   "id": "66602ec5",
   "metadata": {},
   "source": [
    "$\\hspace{7 cm} |+0\\rangle = \\dfrac{1}{\\sqrt{2}}(|0\\rangle + |1\\rangle)\\otimes|0\\rangle = \\dfrac{1}{\\sqrt{2}}(|00\\rangle + |10\\rangle)$"
   ]
  },
  {
   "cell_type": "markdown",
   "id": "2c65a6ab",
   "metadata": {},
   "source": [
    "Ahora aplicamos un operador CNOT que tenga como qubit control el qubit uno:"
   ]
  },
  {
   "cell_type": "markdown",
   "id": "d71ecf26",
   "metadata": {},
   "source": [
    "$\\hspace{6 cm} CNOT|+0\\rangle = \\dfrac{1}{\\sqrt{2}}(CNOT|00\\rangle + CNOT|10\\rangle) = \\dfrac{1}{\\sqrt{2}}(|00\\rangle + |11\\rangle)$"
   ]
  },
  {
   "cell_type": "markdown",
   "id": "060bcc83",
   "metadata": {},
   "source": [
    "Notamos que en este nuevo estado nuestros dos qubits están entrelazados, pues al momento de medir uno de los dos sabremos de inmediato cuál es el valor del otro. Por ejemplo, si medimos el primer qubit y obtenemos el estado $|0\\rangle$, sin necesidad de medir el segundo qubit sabremos que este también se encuentra en el estado $|0\\rangle$. Veamos esto en el simulador, evaluando el vector de estado que resulta de medir únicamente uno de los qubits, y lo compararemos con un par de qubits que no están entrelazados."
   ]
  },
  {
   "cell_type": "code",
   "execution_count": null,
   "id": "e7c8f70a",
   "metadata": {},
   "outputs": [],
   "source": [
    "qc = QuantumCircuit(2,2)\n",
    "\n",
    "qc.h(1)\n",
    "qc.cx(1,0)\n",
    "\n",
    "qc.draw(output=\"mpl\")"
   ]
  },
  {
   "cell_type": "code",
   "execution_count": null,
   "id": "1d414380",
   "metadata": {},
   "outputs": [],
   "source": [
    "qubit = Statevector.from_label(\"00\")\n",
    "\n",
    "entangled = qubit.evolve(qc)\n",
    "\n",
    "#Medimos el qubit 0 una sola vez con el método .measure(), el cual nos devuelve una lista con el primer término siendo \n",
    "#el resultado de la medición y el segundo el vector de estado que resulta de dicha medicion, es por ello que agregamos el [1]\n",
    "entangled.measure([0])[1].draw(\"latex\")"
   ]
  },
  {
   "cell_type": "markdown",
   "id": "d29bd411",
   "metadata": {},
   "source": [
    "Ahora, probemos hacer lo mismo con el estado"
   ]
  },
  {
   "cell_type": "markdown",
   "id": "fd3f3696",
   "metadata": {},
   "source": [
    "$\\hspace{6 cm} |++\\rangle = \\dfrac{1}{\\sqrt{2}}\\dfrac{1}{\\sqrt{2}}(|0\\rangle + |1\\rangle)\\otimes(|0\\rangle + |1\\rangle) = \\dfrac{1}{2}(|00\\rangle + |10\\rangle + |01\\rangle + |11\\rangle)$"
   ]
  },
  {
   "cell_type": "code",
   "execution_count": null,
   "id": "90498d42",
   "metadata": {},
   "outputs": [],
   "source": [
    "qc = QuantumCircuit(2,2)\n",
    "\n",
    "qc.h(1)\n",
    "qc.h(0)\n",
    "\n",
    "qc.draw(output=\"mpl\")"
   ]
  },
  {
   "cell_type": "code",
   "execution_count": null,
   "id": "1a7db3cb",
   "metadata": {},
   "outputs": [],
   "source": [
    "qubit = Statevector.from_label(\"00\")\n",
    "\n",
    "sup = qubit.evolve(qc)\n",
    "\n",
    "#Medimos el qubit 0 una sola vez con el método .measure(), el cual nos devuelve una lista con el primer término siendo \n",
    "#el resultado de la medición y el segundo el vector de estado que resulta de dicha medicion, es por ello que agregamos el [1]\n",
    "sup.measure([0])[1].draw(\"latex\")"
   ]
  },
  {
   "cell_type": "markdown",
   "id": "4a0da91f",
   "metadata": {},
   "source": [
    "Notamos que el vector de estado que obtenemos es el de una superposición, a diferencia del caso donde hay entrelazamiento, en el que el vector de estado resultante es el de un único estado de la base."
   ]
  },
  {
   "cell_type": "markdown",
   "id": "7b51d18f",
   "metadata": {},
   "source": [
    "### Compuerta CCNOT (Toffoli)"
   ]
  },
  {
   "cell_type": "markdown",
   "id": "ba2b6b50",
   "metadata": {},
   "source": [
    "Por último, veremos la compuerta CCNOT (compuerta NOT doblemente controlada), conocida también como compuerta Toffoli. Esta es una compuerta que actúa sobre tres qubits y es parecida a una compuerta CNOT, pero en vez de solo tener un qubit control tiene dos qubits control. Entonces, su efecto sobre los $8$ estados base de tres qubits, usando el qubit 0 como qubit objetivo, sería"
   ]
  },
  {
   "cell_type": "markdown",
   "id": "b44acf5f",
   "metadata": {},
   "source": [
    "- $CCNOT(|000\\rangle) = |000\\rangle$\n",
    "- $CCNOT(|001\\rangle) = |001\\rangle$\n",
    "- $CCNOT(|010\\rangle) = |010\\rangle$\n",
    "- $CCNOT(|011\\rangle) = |011\\rangle$\n",
    "- $CCNOT(|100\\rangle) = |100\\rangle$\n",
    "- $CCNOT(|101\\rangle) = |101\\rangle$\n",
    "- $CCNOT(|110\\rangle) = |111\\rangle$\n",
    "- $CCNOT(|111\\rangle) = |110\\rangle$"
   ]
  },
  {
   "cell_type": "markdown",
   "id": "e472e19c",
   "metadata": {},
   "source": [
    "La sintaxis de esta compuerta en Qiskit es `ccx(control1,control2,objetivo)`. Pongámosla a prueba con los estados $|101\\rangle$ y $|110\\rangle$ y veamos como los afecta."
   ]
  },
  {
   "cell_type": "code",
   "execution_count": null,
   "id": "f99c91fd",
   "metadata": {},
   "outputs": [],
   "source": [
    "qc = QuantumCircuit(3,3)\n",
    "\n",
    "#Preparamos el estado |101>\n",
    "qc.x(0)\n",
    "qc.x(2)\n",
    "qc.barrier()\n",
    "\n",
    "#Aplicamos la compuerta CCNOT\n",
    "qc.ccx(1,2,0)\n",
    "qc.barrier()\n",
    "\n",
    "#Medimos los qubits\n",
    "qc.measure([0,1,2],[0,1,2])\n",
    "\n",
    "qc.draw(output=\"mpl\")"
   ]
  },
  {
   "cell_type": "code",
   "execution_count": null,
   "id": "4c7be5db",
   "metadata": {},
   "outputs": [],
   "source": [
    "from qiskit_aer import AerSimulator\n",
    "\n",
    "result = AerSimulator().run(qc, shots=100).result()\n",
    "statistics = result.get_counts()\n",
    "print(statistics)"
   ]
  },
  {
   "cell_type": "code",
   "execution_count": null,
   "id": "7dcd87e9",
   "metadata": {},
   "outputs": [],
   "source": [
    "qc = QuantumCircuit(3,3)\n",
    "\n",
    "#Preparamos el estado |110>\n",
    "qc.x(1)\n",
    "qc.x(2)\n",
    "qc.barrier()\n",
    "\n",
    "#Aplicamos la compuerta CCNOT\n",
    "qc.ccx(1,2,0)\n",
    "qc.barrier()\n",
    "\n",
    "#Medimos los qubits\n",
    "qc.measure([0,1,2],[0,1,2])\n",
    "\n",
    "qc.draw(output=\"mpl\")"
   ]
  },
  {
   "cell_type": "code",
   "execution_count": null,
   "id": "605aeefb",
   "metadata": {},
   "outputs": [],
   "source": [
    "result = AerSimulator().run(qc, shots=500).result()\n",
    "statistics = result.get_counts()\n",
    "print(statistics)"
   ]
  },
  {
   "cell_type": "markdown",
   "id": "07c8f5af",
   "metadata": {},
   "source": [
    "*Nota: En el hardware real no se pueden aplicar compuertas de tres qubits como tal, por lo que la compuerta Toffoli en realidad se aplica utilizando una combinación de compuertas de un qubit y compuertas CNOT. Abajo incluimos una descomposición posible (extraída de https://en.wikipedia.org/wiki/Toffoli_gate).*"
   ]
  },
  {
   "cell_type": "markdown",
   "id": "889704c8",
   "metadata": {},
   "source": [
    "<img src=\"Imagenes/Toffoli.png\" width=\"50%\">"
   ]
  }
 ],
 "metadata": {
  "kernelspec": {
   "display_name": "Python 3 (ipykernel)",
   "language": "python",
   "name": "python3"
  },
  "language_info": {
   "codemirror_mode": {
    "name": "ipython",
    "version": 3
   },
   "file_extension": ".py",
   "mimetype": "text/x-python",
   "name": "python",
   "nbconvert_exporter": "python",
   "pygments_lexer": "ipython3",
   "version": "3.11.7"
  }
 },
 "nbformat": 4,
 "nbformat_minor": 5
}
