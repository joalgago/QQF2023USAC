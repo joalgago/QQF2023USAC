{
 "cells": [
  {
   "cell_type": "markdown",
   "id": "5b2f7a92",
   "metadata": {},
   "source": [
    "<img src=\"Imagenes/Mac_wallpaper_3.png\" width=\"50%\">"
   ]
  },
  {
   "cell_type": "code",
   "execution_count": null,
   "id": "6bfe5cd2",
   "metadata": {},
   "outputs": [],
   "source": [
    "!pip install \"qiskit[visualization]\" --user"
   ]
  },
  {
   "cell_type": "code",
   "execution_count": null,
   "id": "d3cc9c05",
   "metadata": {},
   "outputs": [],
   "source": [
    "!pip install \"qiskit[visualization]\" --user"
   ]
  },
  {
   "cell_type": "markdown",
   "id": "c298065d",
   "metadata": {},
   "source": [
    "# Tarea 2"
   ]
  },
  {
   "cell_type": "markdown",
   "id": "18f13e67",
   "metadata": {},
   "source": [
    "### Codificación superdensa (2 pts.)"
   ]
  },
  {
   "cell_type": "markdown",
   "id": "5127bd4f",
   "metadata": {},
   "source": [
    "Crea un protocolo de codificación superdensa que transmita la cadena de bits $1101$."
   ]
  },
  {
   "cell_type": "code",
   "execution_count": null,
   "id": "68651aca",
   "metadata": {},
   "outputs": [],
   "source": [
    "from qiskit import QuantumRegister, ClassicalRegister, QuantumCircuit, execute, Aer\n",
    "\n",
    "#ESCRIBE TU CÓDIGO AQUÍ"
   ]
  },
  {
   "cell_type": "code",
   "execution_count": null,
   "id": "761d682d",
   "metadata": {},
   "outputs": [],
   "source": [
    "#Puedes usar esta celda para verificar el funcionamiento de tu circuito\n",
    "job = execute(qc,Aer.get_backend('qasm_simulator'),shots=10)\n",
    "counts = job.result().get_counts(qc)\n",
    "print(counts)"
   ]
  },
  {
   "cell_type": "markdown",
   "id": "b0ea7da4",
   "metadata": {},
   "source": [
    "### Algoritmo de Bernstein-Vazirani (5  pts.)"
   ]
  },
  {
   "cell_type": "markdown",
   "id": "cc5adf68",
   "metadata": {},
   "source": [
    "#### Inciso a (4 pts.)"
   ]
  },
  {
   "cell_type": "markdown",
   "id": "64ad5ad5",
   "metadata": {},
   "source": [
    "Crea una función que implemente la función $f(x) = s\\cdot x$ mod 2, con $s=1001$"
   ]
  },
  {
   "cell_type": "markdown",
   "id": "06fc8a5f",
   "metadata": {},
   "source": [
    "Esta función tiene como input un circuito cuántico `qc`, y dos registros cuánticos `qin` (de 4 qubits) y `qout` (de 1 qubit); y no regresa nada."
   ]
  },
  {
   "cell_type": "code",
   "execution_count": null,
   "id": "38628136",
   "metadata": {},
   "outputs": [],
   "source": [
    "def funcion(qc,qin,qout): #Por favor no cambies nada en esta línea\n",
    "    \n",
    "    #ESCRIBE TU CÓDIGO AQUÍ"
   ]
  },
  {
   "cell_type": "markdown",
   "id": "f4f476c8",
   "metadata": {},
   "source": [
    "#### Inciso b (1 pt.)"
   ]
  },
  {
   "cell_type": "markdown",
   "id": "6300218e",
   "metadata": {},
   "source": [
    "Utiliza la función del inciso anterior para construir el circuito correspondiente del algoritmo de Bernstein-Vazirani."
   ]
  },
  {
   "cell_type": "code",
   "execution_count": null,
   "id": "19975cd2",
   "metadata": {},
   "outputs": [],
   "source": [
    "#ESCRIBE TU CÓDIGO AQUÍ"
   ]
  },
  {
   "cell_type": "code",
   "execution_count": null,
   "id": "b0fc6e1e",
   "metadata": {},
   "outputs": [],
   "source": [
    "#Puedes usar esta celda para verificar el funcionamiento de tu circuito\n",
    "job = execute(qc,Aer.get_backend('qasm_simulator'),shots=1)\n",
    "counts = job.result().get_counts(qc)\n",
    "print(counts)"
   ]
  },
  {
   "cell_type": "markdown",
   "id": "79a7b063",
   "metadata": {},
   "source": [
    "### Algoritmo de Simon (7 pts.)"
   ]
  },
  {
   "cell_type": "markdown",
   "id": "25b7fced",
   "metadata": {},
   "source": [
    "#### Inciso a (5 pts.)"
   ]
  },
  {
   "cell_type": "markdown",
   "id": "dcc07e99",
   "metadata": {},
   "source": [
    "Crea una función que implemente la función $f(00) = 00$, $f(01) = 10$, $f(10) = 10$, $f(11) = 00$."
   ]
  },
  {
   "cell_type": "markdown",
   "id": "01235bd0",
   "metadata": {},
   "source": [
    "*Nota: Ya que las funciones de Simon se pueden declarar de muchas maneras, no es necesario que repliques los pasos que se encuentran en el notebook de Sim_Algo.*"
   ]
  },
  {
   "cell_type": "markdown",
   "id": "084b9fd6",
   "metadata": {},
   "source": [
    "Esta función tiene como input un circuito cuántio `qc` y dos registros cuánticos: `qin` y `qout` ambos de 2 qubits. Además, no regresa nada."
   ]
  },
  {
   "cell_type": "code",
   "execution_count": null,
   "id": "1fb4ae97",
   "metadata": {},
   "outputs": [],
   "source": [
    "def Simon(qc,qin,qout): #Por favor, no cambies nada en esta línea\n",
    "    \n",
    "    #ESCRIBE TU CÓDIGO AQUÍ"
   ]
  },
  {
   "cell_type": "markdown",
   "id": "beb7f0fd",
   "metadata": {},
   "source": [
    "Puedes usar la siguiente celda para verificar que tu función lleva a cabo la operación correcta."
   ]
  },
  {
   "cell_type": "code",
   "execution_count": null,
   "id": "dc81f949",
   "metadata": {},
   "outputs": [],
   "source": [
    "#Por favor no cambies nada en esta celda\n",
    "estados = [\"00\",\"01\",\"10\",\"11\"]\n",
    "\n",
    "for estado in estados:\n",
    "    \n",
    "    qin = QuantumRegister(2)\n",
    "    qout = QuantumRegister(2)\n",
    "    c = ClassicalRegister(2)\n",
    "    \n",
    "    qc = QuantumCircuit(qin,qout,c)\n",
    "    \n",
    "    if int(estado[0]) == 1:\n",
    "        qc.x(qin[1])\n",
    "    if int(estado[1]) == 1:\n",
    "        qc.x(qin[0])\n",
    "        \n",
    "    Simon(qc,qin,qout)\n",
    "    \n",
    "    qc.measure(qout,c)\n",
    "    \n",
    "    job = execute(qc,Aer.get_backend('qasm_simulator'),shots=1)\n",
    "    counts = job.result().get_counts(qc)\n",
    "    print(\"Input:\",estado,\"Output:\",counts)"
   ]
  },
  {
   "cell_type": "markdown",
   "id": "f8b2fbb0",
   "metadata": {},
   "source": [
    "#### Inciso b (2 pts.)"
   ]
  },
  {
   "cell_type": "markdown",
   "id": "4fd6db2a",
   "metadata": {},
   "source": [
    "Implementa el circuito del algoritmo de Simon para encontrar la cadena de bits misteriosa $b$ de la función que creaste en el inciso anterior."
   ]
  },
  {
   "cell_type": "code",
   "execution_count": null,
   "id": "8c7306b5",
   "metadata": {},
   "outputs": [],
   "source": [
    "#ESCRIBE TU CÓDIGO AQUÍ"
   ]
  },
  {
   "cell_type": "code",
   "execution_count": null,
   "id": "a04f5662",
   "metadata": {},
   "outputs": [],
   "source": [
    "#Puedes usar esta celda para verificar el funcionamiento de tu circuito\n",
    "#Ejecútala cuantas veces creas necesario para asegurarte de que solo obtienes las respuestas correctas\n",
    "job = execute(qc,Aer.get_backend('qasm_simulator'),shots=2)\n",
    "counts = job.result().get_counts(qc)\n",
    "print(counts)"
   ]
  }
 ],
 "metadata": {
  "kernelspec": {
   "display_name": "Python 3 (ipykernel)",
   "language": "python",
   "name": "python3"
  },
  "language_info": {
   "codemirror_mode": {
    "name": "ipython",
    "version": 3
   },
   "file_extension": ".py",
   "mimetype": "text/x-python",
   "name": "python",
   "nbconvert_exporter": "python",
   "pygments_lexer": "ipython3",
   "version": "3.10.9"
  }
 },
 "nbformat": 4,
 "nbformat_minor": 5
}
