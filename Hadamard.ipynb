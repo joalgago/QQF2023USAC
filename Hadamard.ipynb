{
 "cells": [
  {
   "cell_type": "markdown",
   "id": "e5bcce35",
   "metadata": {},
   "source": [
    "<img src=\"Imagenes/Mac_wallpaper_3.png\" width=\"50%\">"
   ]
  },
  {
   "cell_type": "code",
   "execution_count": null,
   "id": "6bfe5cd2",
   "metadata": {},
   "outputs": [],
   "source": [
    "!pip install \"qiskit[visualization]\" --user"
   ]
  },
  {
   "cell_type": "code",
   "execution_count": null,
   "id": "0fe2a72d",
   "metadata": {},
   "outputs": [],
   "source": [
    "!pip install qiskit-aer --user"
   ]
  },
  {
   "cell_type": "markdown",
   "id": "dca91844",
   "metadata": {},
   "source": [
    "# Compuerta H (Hadamard)"
   ]
  },
  {
   "cell_type": "markdown",
   "id": "32e8b473",
   "metadata": {},
   "source": [
    "Hasta ahora solo hemos visto compuertas que agregan una fase al estado de nuestro qubit, cambian las amplitudes de los estados base, o ambas al mismo tiempo. Sin embargo, aún no tenemos una compuerta que cree una superposición de los estados base. Esta es la función de la compuerta Hadamard, la cual crea una superposición equitativa de los estados base. <br>\n",
    "Primero, veamos su forma matricial."
   ]
  },
  {
   "cell_type": "markdown",
   "id": "ccb4aaa7",
   "metadata": {},
   "source": [
    "$\\hspace{10 cm}$ $H = \\begin{pmatrix} \\frac{1}{\\sqrt{2}} & \\frac{1}{\\sqrt{2}} \\\\ \\frac{1}{\\sqrt{2}} & -\\frac{1}{\\sqrt{2}} \\end{pmatrix}$"
   ]
  },
  {
   "cell_type": "markdown",
   "id": "3e3016ee",
   "metadata": {},
   "source": [
    "Ahora, podemos ver cómo afecta el operador Hadamard a los estados base"
   ]
  },
  {
   "cell_type": "markdown",
   "id": "73279fb7",
   "metadata": {},
   "source": [
    "- $H|0\\rangle = \\dfrac{1}{\\sqrt{2}}|0\\rangle + \\dfrac{1}{\\sqrt{2}}|1\\rangle = |+\\rangle$.\n",
    "- $H|1\\rangle = \\dfrac{1}{\\sqrt{2}}|0\\rangle - \\dfrac{1}{\\sqrt{2}}|1\\rangle = |-\\rangle$."
   ]
  },
  {
   "cell_type": "markdown",
   "id": "6ce24fcb",
   "metadata": {},
   "source": [
    "*Nota: En computación cuántica se suele llamar ket más ($|+\\rangle$) y ket menos ($|-\\rangle$) a los estados que resultan de aplicar el operador Hadamard a los estados base.*"
   ]
  },
  {
   "cell_type": "markdown",
   "id": "99bcbc8a",
   "metadata": {},
   "source": [
    "La razón por la que llamamos al resultado una superposición equitativa es que en ambos casos los estados base tienen la misma probabilidad de ser medidos (50%) y lo podemos comprobar con el simulador."
   ]
  },
  {
   "cell_type": "code",
   "execution_count": null,
   "id": "164b1db8",
   "metadata": {},
   "outputs": [],
   "source": [
    "from qiskit import QuantumCircuit\n",
    "from qiskit_aer import AerSimulator\n",
    "\n",
    "#Creamos un circuito cuántico con un qubit y un bit\n",
    "qc = QuantumCircuit(1,1)\n",
    "\n",
    "#Agregamos una compuerta h al circuito\n",
    "qc.h(0)\n",
    "\n",
    "#Medimos nuestro qubit\n",
    "qc.measure(0,0)\n",
    "\n",
    "#Dibujamos nuestro circuito\n",
    "qc.draw(output=\"mpl\")"
   ]
  },
  {
   "cell_type": "code",
   "execution_count": null,
   "id": "de9f3216",
   "metadata": {},
   "outputs": [],
   "source": [
    "#Ejecutamos nuestro circuito 1000 veces\n",
    "job = AerSimulator().run(qc, shots=1000)\n",
    "\n",
    "#Recuperamos los resultados y los imprimimos\n",
    "counts = job.result().get_counts(qc)\n",
    "print(counts)"
   ]
  },
  {
   "cell_type": "markdown",
   "id": "f276b8ff",
   "metadata": {},
   "source": [
    "Lo mismo sucede con el estado $|1\\rangle$"
   ]
  },
  {
   "cell_type": "code",
   "execution_count": null,
   "id": "3d096cc1",
   "metadata": {},
   "outputs": [],
   "source": [
    "#Creamos un circuito cuántico con un qubit y un bit\n",
    "qc = QuantumCircuit(1,1)\n",
    "qc.x(0)\n",
    "\n",
    "#Agregamos una compuerta h al circuito\n",
    "qc.h(0)\n",
    "\n",
    "#Medimos nuestro qubit\n",
    "qc.measure(0,0)\n",
    "\n",
    "#Dibujamos nuestro circuito\n",
    "qc.draw(output=\"mpl\")"
   ]
  },
  {
   "cell_type": "code",
   "execution_count": null,
   "id": "86dea98a",
   "metadata": {},
   "outputs": [],
   "source": [
    "#Ejecutamos nuestro circuito 1000 veces\n",
    "job = AerSimulator().run(qc, shots=1000)\n",
    "\n",
    "#Recuperamos los resultados y los imprimimos\n",
    "counts = job.result().get_counts(qc)\n",
    "print(counts)"
   ]
  },
  {
   "cell_type": "markdown",
   "id": "d152d1a9",
   "metadata": {},
   "source": [
    "----"
   ]
  },
  {
   "cell_type": "markdown",
   "id": "0b1dd7ee",
   "metadata": {},
   "source": [
    "Y ahora que ya tenemos una compuerta que nos permite crear superposición, es momento de hablar de una de las propiedades interesantes de los qubits, y que ya ha aparecido cuando hablamos de las compuertas $Y$ y $Z$: la **fase**. Para ello, consideremos el siguiente estado"
   ]
  },
  {
   "cell_type": "markdown",
   "id": "e53f4f2e",
   "metadata": {},
   "source": [
    "$\\hspace{8 cm} |\\psi\\rangle = ae^{i\\theta}|1\\rangle \\hspace{0.5 cm}$ donde $a > 0 \\hspace{0.5 cm}$ y $\\hspace{0.5 cm}\\theta \\in [0,2\\pi)$"
   ]
  },
  {
   "cell_type": "markdown",
   "id": "abf1cf8b",
   "metadata": {},
   "source": [
    "Ahora, veamos qué valores pueden tomar $a$ y $\\theta$, tomando en cuenta que nuestro estado debe estar normalizado"
   ]
  },
  {
   "cell_type": "markdown",
   "id": "03387c9e",
   "metadata": {},
   "source": [
    "$\\hspace{9 cm} 1 = |ae^{i\\theta}|^{2} = |a|^{2}|e^{i\\theta}|^{2} = a^{2}$"
   ]
  },
  {
   "cell_type": "markdown",
   "id": "b71a1422",
   "metadata": {},
   "source": [
    "Recordando que $a>0$, pues dejamos que el término $e^{i\\theta}$ absorba el signo negativo de la amplitud, notamos que el valor de $a$ queda restringido a $1$, mientras que $\\theta$ puede tomar cualquier valor, pues al final no afecta al resultado de la medición. Tomemos como ejemplo algunos valores de $\\theta$:"
   ]
  },
  {
   "cell_type": "markdown",
   "id": "87eaed07",
   "metadata": {},
   "source": [
    "- $\\theta = 0 \\rightarrow |\\psi_{1}\\rangle = |1\\rangle$\n",
    "- $\\theta = \\pi \\rightarrow |\\psi_{2}\\rangle = -|1\\rangle$\n",
    "- $\\theta = \\frac{\\pi}{2} \\rightarrow |\\psi_{3}\\rangle = i|1\\rangle$"
   ]
  },
  {
   "cell_type": "markdown",
   "id": "5db4d0fe",
   "metadata": {},
   "source": [
    "Y tal y como vimos en el notebook anterior, los estados $\\psi_{1}$, $\\psi_{2}$ y $\\psi_{3}$ son indistinguibles físicamente, y esto se debe a que únicamente difieren en el valor que $\\theta$ toma para cada uno de ellos. En otras palabras, solo difieren en la **fase** de cada estado. Y la fase no puede ser \"detectada\" por una medición, pues como hemos visto, no afecta al valor de la probabilidad. <br>\n",
    "Pero, este es un ejemplo un poco tonto ¿no? Ahora hagámos algo más intersante, utilizando un estado en superposición:"
   ]
  },
  {
   "cell_type": "markdown",
   "id": "26b9fc8b",
   "metadata": {},
   "source": [
    "$\\hspace{7 cm} |\\psi\\rangle = ae^{i\\theta}|0\\rangle + be^{i\\lambda}|1\\rangle \\hspace{0.5 cm}$ donde $a,b > 0 \\hspace{0.5 cm}$ y $\\hspace{0.5 cm}\\theta,\\lambda \\in [0,2\\pi)$"
   ]
  },
  {
   "cell_type": "markdown",
   "id": "c548c06f",
   "metadata": {},
   "source": [
    "Ahora, simplifiquemos un poco"
   ]
  },
  {
   "cell_type": "markdown",
   "id": "6f87e68a",
   "metadata": {},
   "source": [
    "$\\hspace{8.5 cm} |\\psi\\rangle = e^{i\\theta}(a|0\\rangle + be^{i\\phi}|1\\rangle) \\hspace{0.5 cm}$ donde $ \\hspace{0.5 cm}\\phi = \\lambda - \\theta$"
   ]
  },
  {
   "cell_type": "markdown",
   "id": "b54dd333",
   "metadata": {},
   "source": [
    "En este caso, el estado $\\psi$ tiene dos tipos de fase:\n",
    "- La fase **global** ($e^{i\\theta}$) que multiplica a todo el estado.\n",
    "- La fase **relativa** ($e^{i\\phi}$) que en este caso solo multiplica a uno de los estados que forman la superposición (por convención se escoge dejar la fase relativa en la amplitud del estado $|1\\rangle$)"
   ]
  },
  {
   "cell_type": "markdown",
   "id": "d0486dc3",
   "metadata": {},
   "source": [
    "La fase global es la menos interesante de las dos, por así decirlo, pues no afecta de ninguna forma a nuestro estado. Esta es la que vimos en el notebook anterior. Podríamos eliminarla y no perderíamos información en el proceso, pues no solo no afecta a la distribución de probabilidades, tampoco afecta el resultado de aplicar algún operador al estado, ya que si tomamos un operador cualquiera $U$ y un estado cualquiera $|\\varphi\\rangle$ tenemos que $U(e^{i\\theta}|\\varphi\\rangle) = e^{i\\theta}U|\\varphi\\rangle$."
   ]
  },
  {
   "cell_type": "markdown",
   "id": "afcd83f6",
   "metadata": {},
   "source": [
    "Por lo tanto, el estado más general que puede tener un qubit se suele escribir como"
   ]
  },
  {
   "cell_type": "markdown",
   "id": "62e0e927",
   "metadata": {},
   "source": [
    "$\\hspace{7 cm} |\\psi\\rangle = a|0\\rangle + be^{i\\phi}|1\\rangle \\hspace{0.5 cm}$ donde $\\hspace{0.5 cm}a,b > 0 \\hspace{0.5 cm}$ y $\\hspace{0.5 cm} \\phi \\in [0,2\\pi)$"
   ]
  },
  {
   "cell_type": "markdown",
   "id": "ffda1b34",
   "metadata": {},
   "source": [
    "Ahora, si bien la fase relativa tampoco afecta la distribución de probabilidades (lo puedes comprobar calculando la probabilidad de medir el estado $|1\\rangle$), sí que afecta al resultado de aplicar operadores sobre nuestro estado. Y es que tal y como la fase de las ondas en mecánica clásica crea interferencia destructiva y constructiva entre ondas, la fase de un qubit también puede crear interferencia destructiva y constructiva entre las amplitudes de los estados. Y para comprobarlo, vamos a utilizar el operador Hadamard."
   ]
  },
  {
   "cell_type": "markdown",
   "id": "d1aea3d6",
   "metadata": {},
   "source": [
    "$H|+\\rangle = H\\left(\\dfrac{1}{\\sqrt{2}}|0\\rangle + \\dfrac{1}{\\sqrt{2}}|1\\rangle\\right) = \\dfrac{1}{\\sqrt{2}}(H|0\\rangle + H|1\\rangle) = \\dfrac{1}{\\sqrt{2}}\\left(\\dfrac{1}{\\sqrt{2}}|0\\rangle + \\dfrac{1}{\\sqrt{2}}|1\\rangle + \\dfrac{1}{\\sqrt{2}}|0\\rangle - \\dfrac{1}{\\sqrt{2}}|1\\rangle\\right) = \\dfrac{1}{2}(2|0\\rangle) = |0\\rangle$"
   ]
  },
  {
   "cell_type": "markdown",
   "id": "4b28a10d",
   "metadata": {},
   "source": [
    "$H|-\\rangle = H\\left(\\dfrac{1}{\\sqrt{2}}|0\\rangle - \\dfrac{1}{\\sqrt{2}}|1\\rangle\\right) = \\dfrac{1}{\\sqrt{2}}(H|0\\rangle - H|1\\rangle) = \\dfrac{1}{\\sqrt{2}}\\left(\\dfrac{1}{\\sqrt{2}}|0\\rangle + \\dfrac{1}{\\sqrt{2}}|1\\rangle - \\dfrac{1}{\\sqrt{2}}|0\\rangle + \\dfrac{1}{\\sqrt{2}}|1\\rangle\\right) = \\dfrac{1}{2}(2|1\\rangle) = |1\\rangle$"
   ]
  },
  {
   "cell_type": "markdown",
   "id": "bd9db247",
   "metadata": {},
   "source": [
    "Como podemos ver, es debido a la diferencia de fase relativa entre los estados $|+\\rangle$ y $|-\\rangle$ que aplicar dos veces el operador Hadamard es igual a la identidad. De no ser por esa diferencia de fase, aplicar una segunda vez el operador Hadamard devolvería siempre el estado $|0\\rangle + |1\\rangle$, que ni siquiera es un estado cuántico válido. <br>\n",
    "Esa es la importancia de la fase relativa, y a continuación veremos un ejemplo más."
   ]
  },
  {
   "cell_type": "markdown",
   "id": "ce9941af",
   "metadata": {},
   "source": [
    "----"
   ]
  },
  {
   "cell_type": "markdown",
   "id": "249b1204",
   "metadata": {},
   "source": [
    "Ahora que ya sabemos que la fase relativa juega un papel importante al momento de manipular el estado de nuestro qubit, veamos el siguiente circuito"
   ]
  },
  {
   "cell_type": "code",
   "execution_count": null,
   "id": "7f5c361d",
   "metadata": {},
   "outputs": [],
   "source": [
    "#Creamos un circuito cuántico con un qubit y un bit\n",
    "qc = QuantumCircuit(1,1)\n",
    "\n",
    "#Aplicamos compuertas a nuestro circuito\n",
    "qc.h(0)\n",
    "qc.z(0)\n",
    "qc.h(0)\n",
    "\n",
    "#Medimos nuestro qubit\n",
    "qc.measure(0,0)\n",
    "\n",
    "#Dibujamos nuestro circuito\n",
    "qc.draw(output=\"mpl\")"
   ]
  },
  {
   "cell_type": "code",
   "execution_count": null,
   "id": "c83f7e34",
   "metadata": {},
   "outputs": [],
   "source": [
    "#Ejecutamos nuestro circuito 1000 veces\n",
    "job = AerSimulator().run(qc, shots=1000)\n",
    "\n",
    "#Recuperamos los resultados y los imprimimos\n",
    "counts = job.result().get_counts(qc)\n",
    "print(counts)"
   ]
  },
  {
   "cell_type": "markdown",
   "id": "da42404f",
   "metadata": {},
   "source": [
    "Como podemos ver, haciendo uso de una compuerta $Z$ en medio de dos compuertas $H$ hemos alterado el resultado de nuestra medición. Si eliminamos la compuerta $Z$, o si la sustituimos por una compuerta $X$, obtendremos el valor *0* en cada una de nuestras mediciones, contrario a lo que ha sucedido aquí. Esto se debe a que"
   ]
  },
  {
   "cell_type": "markdown",
   "id": "ccea9479",
   "metadata": {},
   "source": [
    "$\\hspace{5.5 cm} HZH|0\\rangle = HZ\\left(\\dfrac{1}{\\sqrt{2}}|0\\rangle + \\dfrac{1}{\\sqrt{2}}|1\\rangle\\right) = H\\left(\\dfrac{1}{\\sqrt{2}}|0\\rangle - \\dfrac{1}{\\sqrt{2}}|1\\rangle\\right) = |1\\rangle$"
   ]
  }
 ],
 "metadata": {
  "kernelspec": {
   "display_name": "Python 3 (ipykernel)",
   "language": "python",
   "name": "python3"
  },
  "language_info": {
   "codemirror_mode": {
    "name": "ipython",
    "version": 3
   },
   "file_extension": ".py",
   "mimetype": "text/x-python",
   "name": "python",
   "nbconvert_exporter": "python",
   "pygments_lexer": "ipython3",
   "version": "3.11.7"
  }
 },
 "nbformat": 4,
 "nbformat_minor": 5
}
