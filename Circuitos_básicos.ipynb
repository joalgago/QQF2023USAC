{
 "cells": [
  {
   "cell_type": "markdown",
   "id": "5341d093",
   "metadata": {},
   "source": [
    "<img src=\"Imagenes/Mac_wallpaper_3.png\" width=\"50%\">"
   ]
  },
  {
   "cell_type": "markdown",
   "id": "ed1e915f",
   "metadata": {},
   "source": [
    "# Creando los primeros circuitos"
   ]
  },
  {
   "cell_type": "markdown",
   "id": "0b56f4ee",
   "metadata": {},
   "source": [
    "Ahora que ya conoces las compuertas cuánticas más básicas es momento de poner ese conocimiento en uso con algunos ejemplos sencillos."
   ]
  },
  {
   "cell_type": "markdown",
   "id": "bd1dedb6",
   "metadata": {},
   "source": [
    "### Compuertas controladas"
   ]
  },
  {
   "cell_type": "markdown",
   "id": "a44dcd94",
   "metadata": {},
   "source": [
    "La compuerta CNOT no es la única compuerta controlada que se puede implementar. De echo, en Qiskit podemos implementar fácilmente una compuerta $Z$ controlada, conocida como la compuerta $CZ$. Esta, como su nombre indica, implementa una compuerta $Z$ en el qubit objetivo solo si el qubit control está en el estado $|1\\rangle$."
   ]
  },
  {
   "cell_type": "markdown",
   "id": "b2d968db",
   "metadata": {},
   "source": [
    "Su sintaxis es `.cz(control,objetivo)`."
   ]
  },
  {
   "cell_type": "code",
   "execution_count": null,
   "id": "06048c14",
   "metadata": {},
   "outputs": [],
   "source": [
    "from qiskit import QuantumCircuit, execute, Aer\n",
    "\n",
    "qc = QuantumCircuit(2)\n",
    "\n",
    "#Aplicamos la compuerta cz con el qubit cero como el qubit control\n",
    "qc.cz(0,1)\n",
    "\n",
    "qc.draw(output=\"mpl\")"
   ]
  },
  {
   "cell_type": "markdown",
   "id": "e8421628",
   "metadata": {},
   "source": [
    "Notamos que, a diferencia de la compuerta CNOT, en este caso el diagrama no parece distinguir entre el qubit control y el objetivo. Esto se debe a que si nos ponemos a pensar, esta compuerta afecta únicamente al estado $|11\\rangle$, pues si bien el estado $|10\\rangle$ \"activa\" el operador $Z$ sobre el qubit cero, este no se ve alterado de ninguna forma pues el operador $Z$ solo afecta al estado $|1\\rangle$. Comprobemos esto con el simulador."
   ]
  },
  {
   "cell_type": "code",
   "execution_count": null,
   "id": "ae78d20d",
   "metadata": {},
   "outputs": [],
   "source": [
    "from qiskit.visualization import array_to_latex\n",
    "\n",
    "#Creamos una lista para almacenar las cuatro posibles combinaciones de dos qubits\n",
    "estados = [\"00\",\"01\",\"10\",\"11\"]\n",
    "\n",
    "for estado in estados:\n",
    "#Creamos un circuito con dos qubits sin bits clásicos, pues no vamos a hacer mediciones\n",
    "    qc = QuantumCircuit(2)\n",
    "    \n",
    "#Preparamos nuestro estado inicial en base al estado seleccionado\n",
    "    if int(estado[0]) == 1:\n",
    "        qc.x(1)\n",
    "    if int(estado[1]) == 1:\n",
    "        qc.x(0)\n",
    "\n",
    "#Aplicamos el operador CZ a cada estado base \n",
    "    qc.cz(0,1)\n",
    "\n",
    "#Ejecutamos el simulador y obtenemos el vector de estado \n",
    "    job = execute(qc,Aer.get_backend('statevector_simulator'),optimization_level=0)\n",
    "    precision = 3 \n",
    "    vector_estado = job.result().get_statevector(qc,precision).data\n",
    "#Imprimimos nuestros resultados\n",
    "    display(array_to_latex(vector_estado, prefix=\"CZ|\"+estado+\"\\\\rangle =\"))"
   ]
  },
  {
   "cell_type": "markdown",
   "id": "4c032dd8",
   "metadata": {},
   "source": [
    "Si bien podemos implementar esta compuerta directamente en el simulador, este no es el caso en hardware real. <br>\n",
    "Las computadoras cuánticas no pueden implementar todas las compuertas que podemos crear teóricamente, y las compuertas que distintos procesadores pueden implementar directamente varían en cada caso. Las compuertas que se pueden aplicar directamente son conocidas como las *compuertas físicas*, y generalmente son un grupo de compuertas de un qubit, y una compuerta de dos qubits. La compuerta de dos qubits por excelencia es la compuerta CNOT, por lo que cualquier otra compuerta de dos qubits generalmente es descompuesta en varias compuertas de un qubit y CNOTs antes de ser implementada. Entonces ¿Cómo podríamos implementar una compuerta $CZ$ con estas condiciones? Bueno, veamos la siguiente operación"
   ]
  },
  {
   "cell_type": "markdown",
   "id": "fe34d676",
   "metadata": {},
   "source": [
    "$\\hspace{2 cm} HXH = \\begin{pmatrix} \\frac{1}{\\sqrt{2}} & \\frac{1}{\\sqrt{2}} \\\\ \\frac{1}{\\sqrt{2}} & -\\frac{1}{\\sqrt{2}} \\end{pmatrix}\\begin{pmatrix} 0 & 1 \\\\ 1 & 0 \\end{pmatrix}\\begin{pmatrix} \\frac{1}{\\sqrt{2}} & \\frac{1}{\\sqrt{2}} \\\\ \\frac{1}{\\sqrt{2}} & -\\frac{1}{\\sqrt{2}} \\end{pmatrix} = \\begin{pmatrix} \\frac{1}{\\sqrt{2}} & \\frac{1}{\\sqrt{2}} \\\\ \\frac{1}{\\sqrt{2}} & -\\frac{1}{\\sqrt{2}} \\end{pmatrix}\\begin{pmatrix} \\frac{1}{\\sqrt{2}} & -\\frac{1}{\\sqrt{2}} \\\\ \\frac{1}{\\sqrt{2}} & \\frac{1}{\\sqrt{2}} \\end{pmatrix} = \\begin{pmatrix}1 & 0 \\\\ 0 & -1\\end{pmatrix} = Z$"
   ]
  },
  {
   "cell_type": "markdown",
   "id": "b4f213b9",
   "metadata": {},
   "source": [
    "De esta forma, vemos que si colocamos compuertas Hadamard en el qubit objetivo antes y después de la compuerta CNOT, estaremos aplicando una compuerta $Z$ sobre el qubit objetivo en lugar de una compuerta $X$. Comprobémoslo con el simulador. "
   ]
  },
  {
   "cell_type": "code",
   "execution_count": null,
   "id": "f8508927",
   "metadata": {},
   "outputs": [],
   "source": [
    "qc = QuantumCircuit(2)\n",
    "\n",
    "qc.h(1)\n",
    "qc.cx(0,1)\n",
    "qc.h(1)\n",
    "\n",
    "qc.draw(output=\"mpl\")"
   ]
  },
  {
   "cell_type": "code",
   "execution_count": null,
   "id": "5aee7ecd",
   "metadata": {},
   "outputs": [],
   "source": [
    "estados = [\"00\",\"01\",\"10\",\"11\"]\n",
    "\n",
    "for estado in estados:\n",
    "\n",
    "    qc = QuantumCircuit(2)\n",
    "    \n",
    "    if int(estado[0]) == 1:\n",
    "        qc.x(1)\n",
    "    if int(estado[1]) == 1:\n",
    "        qc.x(0)\n",
    "\n",
    "    qc.h(1)    \n",
    "    qc.cx(0,1)\n",
    "    qc.h(1)\n",
    "\n",
    "    job = execute(qc,Aer.get_backend('statevector_simulator'),optimization_level=0)\n",
    "    precision = 3 \n",
    "    vector_estado = job.result().get_statevector(qc,precision).data\n",
    "\n",
    "    display(array_to_latex(vector_estado, prefix=\"CZ|\"+estado+\"\\\\rangle =\"))"
   ]
  },
  {
   "cell_type": "markdown",
   "id": "f57fa9ec",
   "metadata": {},
   "source": [
    "*Nota: Este es un ejemplo con fines didácticos. La verdadera descomposición de una compuerta $CZ$ dependerá de las compuertas de un qubit que sean parte de las compuertas físicas de un procesador específico.*"
   ]
  },
  {
   "cell_type": "markdown",
   "id": "12c25bdd",
   "metadata": {},
   "source": [
    "Qiskit cuenta con más operadores controlados, pero para este taller bastará con solo conocer los que hemos visto."
   ]
  },
  {
   "cell_type": "markdown",
   "id": "d896c327",
   "metadata": {},
   "source": [
    "### Implementar compuertas clásicas"
   ]
  },
  {
   "cell_type": "markdown",
   "id": "f641069e",
   "metadata": {},
   "source": [
    "Como ya hemos visto, es posible implementar un análogo las compuertas clásicas NOT y CNOT de manera directa en Qiskit. Sin embargo, también es posible implementar un análogo de otras compuertas clásicas, pero en este caso deberemos construirlas. Empecemos con una compuerta sencilla, la compuerta AND. En este caso necesitaremos tres qubits: los dos que servirán de input, y un tercero donde almacenaremos el output. "
   ]
  },
  {
   "cell_type": "markdown",
   "id": "00d2fc27",
   "metadata": {},
   "source": [
    "El primer paso es recordar cual es el funcionamiento de la compuerta AND:"
   ]
  },
  {
   "cell_type": "markdown",
   "id": "b9ec1f7b",
   "metadata": {},
   "source": [
    "| input 1 | input 2 | output |\n",
    "| :---: | :---: | :---: |\n",
    "|0 | 0 | 0 |\n",
    "|0 | 1 | 0 |\n",
    "| 1 | 0 | 0 |\n",
    "| 1 | 1 | 1 |"
   ]
  },
  {
   "cell_type": "markdown",
   "id": "23f145cc",
   "metadata": {},
   "source": [
    "Como puedes ver, esto es tan sencillo como implementar una compuerta Toffoli"
   ]
  },
  {
   "cell_type": "code",
   "execution_count": null,
   "id": "2a359575",
   "metadata": {},
   "outputs": [],
   "source": [
    "inputs = [\"00\",\"01\",\"10\",\"11\"]\n",
    "\n",
    "for estado in inputs:\n",
    "\n",
    "    qc = QuantumCircuit(3,3)\n",
    "    \n",
    "    if int(estado[0]) == 1:\n",
    "        qc.x(2)\n",
    "    if int(estado[1]) == 1:\n",
    "        qc.x(1)\n",
    " \n",
    "    qc.ccx(1,2,0)\n",
    "    \n",
    "    qc.measure([0,1,2],[0,1,2])\n",
    "\n",
    "    job = execute(qc,Aer.get_backend('qasm_simulator'),shots=100) \n",
    "    resultado = job.result().get_counts(qc)\n",
    "\n",
    "    print(\"Input:\",estado,\"Output:\",resultado)"
   ]
  },
  {
   "cell_type": "markdown",
   "id": "5eab8077",
   "metadata": {},
   "source": [
    "---"
   ]
  },
  {
   "cell_type": "markdown",
   "id": "764f9fc6",
   "metadata": {},
   "source": [
    "Ahora, hagámos una compuerta un poco más complicada: la compuerta OR. En este caso, su funcionamiento es el siguiente:"
   ]
  },
  {
   "cell_type": "markdown",
   "id": "37edc941",
   "metadata": {},
   "source": [
    "| input 1 | input 2 | output |\n",
    "| :---: | :---: | :---: |\n",
    "|0 | 0 | 0 |\n",
    "|0 | 1 | 1 |\n",
    "| 1 | 0 | 1 |\n",
    "| 1 | 1 | 1 |"
   ]
  },
  {
   "cell_type": "markdown",
   "id": "c9053a43",
   "metadata": {},
   "source": [
    "Ahora, utilizando el mismo orden de bits de la tabla anterior, veamos cómo debe cambiar el estado de nuestros tres qubits, recordando que el qubit que almacenará el output se inicializa en $0$ por defecto."
   ]
  },
  {
   "cell_type": "markdown",
   "id": "5ac2a40f",
   "metadata": {},
   "source": [
    "- $|000\\rangle \\rightarrow |000\\rangle$\n",
    "- $|010\\rangle \\rightarrow |011\\rangle$\n",
    "- $|100\\rangle \\rightarrow |101\\rangle$\n",
    "- $|110\\rangle \\rightarrow |111\\rangle$"
   ]
  },
  {
   "cell_type": "markdown",
   "id": "9c5150c2",
   "metadata": {},
   "source": [
    "Notamos que dejamos a nuestros dos inputs en el mismo estado, y solo alteramos el estado de nuestro qubit que almacena el output. Sin embargo, esto no significa que no podamos alterar el estado de nuestros qubits que funcionan como el input, siempre y cuando los regresemos a su valor original. Y eso es justamente lo que vamos a hacer."
   ]
  },
  {
   "cell_type": "markdown",
   "id": "de42fc0e",
   "metadata": {},
   "source": [
    "Notamos que podemos aplicar una compuerta $X$ a los qubits 1 y 2, seguida de una compuerta CCNOT que utiliza a estos dos qubits como los qubits control. Esto nos permite cambiar el valor de nuestro output solo cuando nuestro estado inicial es $|000\\rangle$"
   ]
  },
  {
   "cell_type": "markdown",
   "id": "dd525718",
   "metadata": {},
   "source": [
    "- $|000\\rangle \\rightarrow |110\\rangle \\rightarrow |111\\rangle$\n",
    "- $|010\\rangle \\rightarrow |100\\rangle \\rightarrow |100\\rangle$\n",
    "- $|100\\rangle \\rightarrow |010\\rangle \\rightarrow |010\\rangle$\n",
    "- $|110\\rangle \\rightarrow |000\\rangle \\rightarrow |000\\rangle$"
   ]
  },
  {
   "cell_type": "markdown",
   "id": "adb35fb2",
   "metadata": {},
   "source": [
    "Ahora, solo queda aplicar una compuerta $X$ a nuestro qubit 0, seguido de otra compuerta $X$ a los qubits 1 y 2 para regresarlos a su estado inicial, y tendremos el resultado deseado."
   ]
  },
  {
   "cell_type": "markdown",
   "id": "91d9d4aa",
   "metadata": {},
   "source": [
    "- $|000\\rangle \\rightarrow |110\\rangle \\rightarrow |111\\rangle \\rightarrow |110\\rangle \\rightarrow |000\\rangle$\n",
    "- $|010\\rangle \\rightarrow |100\\rangle \\rightarrow |100\\rangle \\rightarrow |101\\rangle \\rightarrow |011\\rangle$\n",
    "- $|100\\rangle \\rightarrow |010\\rangle \\rightarrow |010\\rangle \\rightarrow |011\\rangle \\rightarrow |101\\rangle$\n",
    "- $|110\\rangle \\rightarrow |000\\rangle \\rightarrow |000\\rangle \\rightarrow |001\\rangle \\rightarrow |111\\rangle$"
   ]
  },
  {
   "cell_type": "markdown",
   "id": "e683c4b4",
   "metadata": {},
   "source": [
    "Nuestra compuerta OR luce de la siguiente forma"
   ]
  },
  {
   "cell_type": "markdown",
   "id": "74972b74",
   "metadata": {},
   "source": [
    "<img src=\"Imagenes/OR.png\" width=\"30%\">"
   ]
  },
  {
   "cell_type": "markdown",
   "id": "79f692fb",
   "metadata": {},
   "source": [
    "Ahora, vamos a codificar esta compuerta OR en una función, para poder aplicarla fácilmente."
   ]
  },
  {
   "cell_type": "code",
   "execution_count": null,
   "id": "b7f5b5b5",
   "metadata": {},
   "outputs": [],
   "source": [
    "#Creamos una función con un parámetro: nuestro input\n",
    "def OR(inp):\n",
    "    qc = QuantumCircuit(3,3)\n",
    "\n",
    "#Codificamos nuestro input en nuestro circuito\n",
    "    if int(inp[0]) == 1:\n",
    "        qc.x(2)\n",
    "    if int(inp[1]) == 1:\n",
    "        qc.x(1)\n",
    "    \n",
    "#Aplicamos la compuerta OR\n",
    "    qc.x(1)\n",
    "    qc.x(2)\n",
    "    qc.ccx(1,2,0)\n",
    "    qc.x(0)\n",
    "    qc.x(1)\n",
    "    qc.x(2)\n",
    "    \n",
    "#Hacemos una medición\n",
    "    qc.measure([0,1,2],[0,1,2])\n",
    "    \n",
    "#Ejecutamos nuestro circuito\n",
    "    job = execute(qc,Aer.get_backend('qasm_simulator'),shots=100)\n",
    "    resultado = job.result().get_counts(qc)\n",
    "    \n",
    "#Imprimimos nuestro resultado\n",
    "    print(\"Input:\",inp,\"Output:\",resultado)"
   ]
  },
  {
   "cell_type": "code",
   "execution_count": null,
   "id": "5a244d58",
   "metadata": {},
   "outputs": [],
   "source": [
    "inputs = [\"00\",\"01\",\"10\",\"11\"]\n",
    "\n",
    "for estado in inputs:\n",
    "    OR(estado)"
   ]
  },
  {
   "cell_type": "markdown",
   "id": "7c6aafce",
   "metadata": {},
   "source": [
    "Como podemos ver, conseguimos justo lo que queríamos. Nuestro qubit del output es $0$ solo cuando ambos inputs son $0$. "
   ]
  },
  {
   "cell_type": "markdown",
   "id": "557f760e",
   "metadata": {},
   "source": [
    "### Compuerta SWAP"
   ]
  },
  {
   "cell_type": "markdown",
   "id": "ffc202b9",
   "metadata": {},
   "source": [
    "Finalmente, vamos a ver la compuerta SWAP. El efecto de esta compuerta es bastante sencillo: intercambia el estado de dos qubits. Su sintaxis en Qiskit es `.swap(qubit1,qubit2)`. A diferencia de las compuertas controladas, en esta no importa el orden en que coloquen los qubits."
   ]
  },
  {
   "cell_type": "code",
   "execution_count": null,
   "id": "515f78a1",
   "metadata": {},
   "outputs": [],
   "source": [
    "inputs = [\"00\",\"01\",\"10\",\"11\"]\n",
    "\n",
    "for estado in inputs:\n",
    "\n",
    "    qc = QuantumCircuit(2,2)\n",
    "    \n",
    "    if int(estado[0]) == 1:\n",
    "        qc.x(1)\n",
    "    if int(estado[1]) == 1:\n",
    "        qc.x(0)\n",
    " \n",
    "    qc.swap(1,0)\n",
    "    \n",
    "    qc.measure([0,1],[0,1])\n",
    "\n",
    "    job = execute(qc,Aer.get_backend('qasm_simulator'),shots=100) \n",
    "    resultado = job.result().get_counts(qc)\n",
    "\n",
    "    print(\"Input:\",estado,\"Output:\",resultado)"
   ]
  },
  {
   "cell_type": "markdown",
   "id": "4d8bf715",
   "metadata": {},
   "source": [
    "Ahora, veamos como implementar esta compuerta utilizando solo compuertas de un qubit y compuertas CNOT. <br>\n",
    "En este caso, solo necesitamos tres compuertas CNOT. Te dejamos de tarea realizar el proceso con cada uno de los $4$ estados base para convencerte de que estas tres compuertas CNOT intercambian los estados de los qubits. La descomposición de la compuerta SWAP en tres compuertas CNOT luce así:"
   ]
  },
  {
   "cell_type": "markdown",
   "id": "a4455642",
   "metadata": {},
   "source": [
    "<img src=\"Imagenes/SWAP.png\" width=\"30%\">"
   ]
  },
  {
   "cell_type": "code",
   "execution_count": null,
   "id": "8ad06717",
   "metadata": {},
   "outputs": [],
   "source": [
    "def SWAP(inp):\n",
    "    qc = QuantumCircuit(2,2)\n",
    "    \n",
    "    if int(inp[0]) == 1:\n",
    "        qc.x(1)\n",
    "    if int(inp[1]) == 1:\n",
    "        qc.x(0)\n",
    "\n",
    "    qc.cx(0,1)\n",
    "    qc.cx(1,0)\n",
    "    qc.cx(0,1)\n",
    "    \n",
    "    qc.measure([0,1],[0,1])\n",
    "\n",
    "    job = execute(qc,Aer.get_backend('qasm_simulator'),shots=100) \n",
    "    resultado = job.result().get_counts(qc)\n",
    "\n",
    "    print(\"Input:\",estado,\"Output:\",resultado)"
   ]
  },
  {
   "cell_type": "code",
   "execution_count": null,
   "id": "a6782152",
   "metadata": {},
   "outputs": [],
   "source": [
    "inputs = [\"00\",\"01\",\"10\",\"11\"]\n",
    "\n",
    "for estado in inputs:\n",
    "    SWAP(estado)"
   ]
  }
 ],
 "metadata": {
  "kernelspec": {
   "display_name": "Python 3 (ipykernel)",
   "language": "python",
   "name": "python3"
  },
  "language_info": {
   "codemirror_mode": {
    "name": "ipython",
    "version": 3
   },
   "file_extension": ".py",
   "mimetype": "text/x-python",
   "name": "python",
   "nbconvert_exporter": "python",
   "pygments_lexer": "ipython3",
   "version": "3.10.9"
  }
 },
 "nbformat": 4,
 "nbformat_minor": 5
}
